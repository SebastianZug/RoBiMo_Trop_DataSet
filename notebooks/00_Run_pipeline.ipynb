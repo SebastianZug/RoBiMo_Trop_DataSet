{
 "cells": [
  {
   "cell_type": "code",
   "execution_count": null,
   "metadata": {},
   "outputs": [],
   "source": [
    "import papermill as pm\n",
    "from pathlib import Path\n",
    "import os\n",
    "from collections import OrderedDict"
   ]
  },
  {
   "cell_type": "code",
   "execution_count": null,
   "metadata": {},
   "outputs": [],
   "source": [
    "notebook_files = OrderedDict([\n",
    "       ('10_Extract_ArduPilot_data.ipynb', 'Load ArduPilot Data and transfer the content of AHR2 (estimated position), GPS (time stamp) and RDFN (depth) to pandas data file'),\n",
    "       ('11_Extract_measurements.ipynb', 'Read all csv files provided by robot\\'s chamber system and store them as pandas data files.'),\n",
    "       ('20_Merge_robot_measurements.ipynb', 'Merge data from 10 and 11 in a super data set contained in a pickled pandas file'),\n",
    "       ('21_Identify_measurement_positions.ipynb', 'Identify the measurement positions based on a k-means cluster analysis. Assignment of all measurements to those classes.'),\n",
    "       ('22_Aggregate_key_parameter.ipynb', 'Extract key parameters for each separate measurement. Store the summary file in results folder'),\n",
    "       ('90_Generate_position_plots.ipynb', 'Provide plots of all measurement positions for illustrating spatial uncertainty during data collection.'),\n",
    "       ('91_Plot_campaign_overview.ipynb', 'Generate a map of all investigated lakes'),\n",
    "       ('92_Generate_detailed_maps.ipynb', 'Plot the trajectory of the robot in general as well as during measurements'),\n",
    "       ('93_Provide_interactive_table.ipynb', 'Generate an interactive table for illustrating the opportunities of an scenario driven analysis'),\n",
    "    ]\n",
    ")\n",
    "\n",
    "notebook_folder = Path.cwd()\n",
    "output_folder = notebook_folder / Path(\"tmp\")\n",
    "\n",
    "if not output_folder.exists():\n",
    "    os.makedirs(output_folder)"
   ]
  },
  {
   "cell_type": "code",
   "execution_count": null,
   "metadata": {},
   "outputs": [],
   "source": [
    "for notebook_file in notebook_files:\n",
    "    print(notebook_file)\n",
    "    print(notebook_files[notebook_file])\n",
    "    input = notebook_folder / Path(notebook_file)\n",
    "    output = output_folder / Path(notebook_file.replace(\".ipynb\", \"_run.ipynb\"))\n",
    "    pm.execute_notebook(\n",
    "       input,\n",
    "       output,\n",
    "       progress_bar=True\n",
    "    )\n"
   ]
  },
  {
   "cell_type": "code",
   "execution_count": null,
   "metadata": {},
   "outputs": [],
   "source": []
  }
 ],
 "metadata": {
  "kernelspec": {
   "display_name": "RoBiMo_Trop_DataSet-KaBCVeeS",
   "language": "python",
   "name": "python3"
  },
  "language_info": {
   "codemirror_mode": {
    "name": "ipython",
    "version": 3
   },
   "file_extension": ".py",
   "mimetype": "text/x-python",
   "name": "python",
   "nbconvert_exporter": "python",
   "pygments_lexer": "ipython3",
   "version": "3.10.12"
  },
  "orig_nbformat": 4
 },
 "nbformat": 4,
 "nbformat_minor": 2
}
