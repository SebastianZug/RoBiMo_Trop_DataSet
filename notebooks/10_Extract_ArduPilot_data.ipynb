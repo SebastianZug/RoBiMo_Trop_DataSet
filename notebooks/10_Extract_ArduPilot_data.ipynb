{
 "cells": [
  {
   "attachments": {},
   "cell_type": "markdown",
   "id": "d63e5ee4",
   "metadata": {},
   "source": [
    "# Exploiting and transforming Ardupilot-Log files "
   ]
  },
  {
   "cell_type": "code",
   "execution_count": 5,
   "id": "a725f365",
   "metadata": {},
   "outputs": [
    {
     "name": "stdout",
     "output_type": "stream",
     "text": [
      "The autoreload extension is already loaded. To reload it, use:\n",
      "  %reload_ext autoreload\n"
     ]
    }
   ],
   "source": [
    "%load_ext autoreload\n",
    "%autoreload 2"
   ]
  },
  {
   "cell_type": "code",
   "execution_count": 6,
   "id": "72269af3",
   "metadata": {},
   "outputs": [],
   "source": [
    "import sys\n",
    "from pathlib import Path\n",
    "import pandas as pd\n",
    "\n",
    "module_path = str(Path.cwd().parents[0] / \"src\")\n",
    "#module_path = str(Path.cwd(__file__).parents[0] / \"py\")\n",
    "\n",
    "if module_path not in sys.path:\n",
    "    sys.path.append(module_path)\n",
    "\n",
    "from parser.DataflashParser import read_from_log, write_csv, interpolate_data\n",
    "from data_aggregation.ardupilot_to_pandas import run_aggregation"
   ]
  },
  {
   "cell_type": "code",
   "execution_count": 7,
   "id": "cd2090f1",
   "metadata": {},
   "outputs": [
    {
     "name": "stdout",
     "output_type": "stream",
     "text": [
      "Reading raw data files from \n",
      "    /home/sebastian/Nextcloud/Projekte/2021_DAAD_Brasilien/2023/data_aggregation/notebooks/../data/raw_data/ardupilot\n",
      "Writing preprocessed pandas files to \n",
      "    /home/sebastian/Nextcloud/Projekte/2021_DAAD_Brasilien/2023/data_aggregation/notebooks/../data/preproc_data/ardupilot\n"
     ]
    }
   ],
   "source": [
    "input_data_folder_base = Path(\"../data/raw_data\")\n",
    "output_data_folder_base = Path(\"../data/preproc_data/\")\n",
    "ardupilot_sub_folder = Path(\"./ardupilot\")\n",
    "\n",
    "# folder structure containing all ardupilot data files\n",
    "ardupilot_input_data_folder = Path.cwd() / input_data_folder_base / ardupilot_sub_folder \n",
    "print(f\"Reading raw data files from \\n    {ardupilot_input_data_folder}\")\n",
    "\n",
    "ardupilot_output_data_folder = Path.cwd() / output_data_folder_base / ardupilot_sub_folder \n",
    "print(f\"Writing preprocessed pandas files to \\n    {ardupilot_output_data_folder}\")\n"
   ]
  },
  {
   "cell_type": "code",
   "execution_count": 10,
   "id": "14b8214e",
   "metadata": {},
   "outputs": [],
   "source": [
    "# Collecting position attributes for assignments to ardupilot-Dataframes\n",
    "\n",
    "locations = {\n",
    "    'Balbina': [\"00000038.log\", \"00000039.log\", \"00000040.log\", \"00000041.log\", \"00000042.log\"],\n",
    "    'Jandira': [\"00000043.log\", \"00000044.log\", \"00000045.log\"],\n",
    "    'Caldeirao': [\"00000046.log\", \"00000047.log\"],\n",
    "}\n",
    "\n",
    "def assign_location(file_name):\n",
    "    for location in locations:\n",
    "        if file_name in locations[location]:\n",
    "            return location\n",
    "    return \"not known\""
   ]
  },
  {
   "cell_type": "code",
   "execution_count": 11,
   "id": "4cbb8932",
   "metadata": {},
   "outputs": [
    {
     "name": "stdout",
     "output_type": "stream",
     "text": [
      "Found 10 raw files.\n",
      "(0/9) - 00000039.log / Balbina\n",
      "    ... extracting estimated positional information from AHR2\n",
      "    ... extracting time stamps and positions from GPS\n",
      "    ... aggregate depth information from RFND\n",
      "    ... saving to 010323-182204-AP.p\n",
      "(1/9) - 00000038.log / Balbina\n",
      "    ... extracting estimated positional information from AHR2\n",
      "    ... extracting time stamps and positions from GPS\n",
      "    ... aggregate depth information from RFND\n",
      "    ... saving to 010323-134619-AP.p\n",
      "(2/9) - 00000040.log / Balbina\n",
      "    ... extracting estimated positional information from AHR2\n",
      "    ... extracting time stamps and positions from GPS\n",
      "    ... aggregate depth information from RFND\n",
      "    ... saving to 010323-212223-AP.p\n",
      "(3/9) - 00000042.log / Balbina\n",
      "    ... extracting estimated positional information from AHR2\n",
      "    ... extracting time stamps and positions from GPS\n",
      "    ... aggregate depth information from RFND\n",
      "    ... saving to 020323-132955-AP.p\n",
      "(4/9) - 00000041.log / Balbina\n",
      "    ... extracting estimated positional information from AHR2\n",
      "    ... extracting time stamps and positions from GPS\n",
      "    ... aggregate depth information from RFND\n",
      "    ... saving to 020323-094002-AP.p\n",
      "(5/9) - 00000045.log / Jandira\n",
      "    ... extracting estimated positional information from AHR2\n",
      "    ... extracting time stamps and positions from GPS\n",
      "    ... aggregate depth information from RFND\n",
      "    ... saving to 040323-112700-AP.p\n",
      "(6/9) - 00000044.log / Jandira\n",
      "    ... extracting estimated positional information from AHR2\n",
      "    ... extracting time stamps and positions from GPS\n",
      "    ... aggregate depth information from RFND\n",
      "    ... saving to 030323-220439-AP.p\n",
      "(7/9) - 00000043.log / Jandira\n",
      "    ... extracting estimated positional information from AHR2\n",
      "    ... extracting time stamps and positions from GPS\n",
      "    ... aggregate depth information from RFND\n",
      "    ... saving to 030323-104517-AP.p\n",
      "(8/9) - 00000046.log / Caldeirao\n",
      "    ... extracting estimated positional information from AHR2\n",
      "    ... extracting time stamps and positions from GPS\n",
      "    ... aggregate depth information from RFND\n",
      "    ... saving to 060323-102818-AP.p\n",
      "(9/9) - 00000047.log / Caldeirao\n",
      "    ... extracting estimated positional information from AHR2\n",
      "    ... extracting time stamps and positions from GPS\n",
      "    ... aggregate depth information from RFND\n",
      "    ... saving to 060323-131115-AP.p\n"
     ]
    }
   ],
   "source": [
    "file_list = list(ardupilot_input_data_folder.rglob(\"*.log\"))\n",
    "print(f\"Found {len(file_list)} raw files.\")\n",
    "\n",
    "for index, file in enumerate(file_list):\n",
    "    place = assign_location(file.name)\n",
    "    print(f\"({index}/{len(file_list)-1}) - {file.name} / {place}\")\n",
    "    df=run_aggregation(file)\n",
    "    df['experiment_location'] = place\n",
    "\n",
    "    df.drop(['index', 'datetime_UTC'], axis=1, inplace=True)\n",
    "    \n",
    "    filename = df.index.min().strftime('%d%m%y-%H%M%S-AP')\n",
    "    result_file = ardupilot_output_data_folder / Path(filename+\".p\")   \n",
    "    print(f\"    ... saving to { Path(filename+'.p')}\")\n",
    "    df.to_pickle(result_file)"
   ]
  },
  {
   "cell_type": "code",
   "execution_count": null,
   "id": "8d089ebb",
   "metadata": {},
   "outputs": [],
   "source": []
  }
 ],
 "metadata": {
  "kernelspec": {
   "display_name": "Python 3 (ipykernel)",
   "language": "python",
   "name": "python3"
  },
  "language_info": {
   "codemirror_mode": {
    "name": "ipython",
    "version": 3
   },
   "file_extension": ".py",
   "mimetype": "text/x-python",
   "name": "python",
   "nbconvert_exporter": "python",
   "pygments_lexer": "ipython3",
   "version": "3.10.6"
  },
  "vscode": {
   "interpreter": {
    "hash": "663fac0a39ac9194e8834fa6e9a25f288f03c4df1f699cfd9b5c433c7915905d"
   }
  }
 },
 "nbformat": 4,
 "nbformat_minor": 5
}
