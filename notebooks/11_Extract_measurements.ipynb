{
 "cells": [
  {
   "attachments": {},
   "cell_type": "markdown",
   "id": "d63e5ee4",
   "metadata": {},
   "source": [
    "# Transforming log files of measurement system to pandas Dataframes"
   ]
  },
  {
   "cell_type": "code",
   "execution_count": null,
   "id": "a725f365",
   "metadata": {},
   "outputs": [],
   "source": [
    "%load_ext autoreload\n",
    "%autoreload 2"
   ]
  },
  {
   "cell_type": "code",
   "execution_count": null,
   "id": "72269af3",
   "metadata": {},
   "outputs": [],
   "source": [
    "import sys\n",
    "from pathlib import Path\n",
    "import pandas as pd\n",
    "\n",
    "module_path = str(Path.cwd() / \"src\")\n",
    "#module_path = str(Path.cwd(__file__).parents[0] / \"py\")\n",
    "\n",
    "if module_path not in sys.path:\n",
    "    sys.path.append(module_path)\n",
    "\n",
    "from data_aggregation.measurements_to_pandas import run_aggregation"
   ]
  },
  {
   "cell_type": "code",
   "execution_count": null,
   "id": "ca0115c0",
   "metadata": {},
   "outputs": [],
   "source": [
    "input_data_folder_base = Path(\"../data/raw_data\")\n",
    "output_data_folder_base = Path(\"../data/preproc_data/\")\n",
    "measurement_sub_folder = Path(\"./measurements\")\n",
    "\n",
    "# folder structure containing all ardupilot data files\n",
    "measurements_input_data_folder = Path.cwd() / input_data_folder_base / measurement_sub_folder \n",
    "print(f\"Reading raw data files from \\n    {measurements_input_data_folder}\")\n",
    "\n",
    "measurements_output_data_folder = Path.cwd() / output_data_folder_base / measurement_sub_folder \n",
    "print(f\"Writing preprocessed pandas files to \\n    {measurements_output_data_folder}\")"
   ]
  },
  {
   "cell_type": "code",
   "execution_count": null,
   "id": "4cbb8932",
   "metadata": {},
   "outputs": [],
   "source": [
    "file_list = list(measurements_input_data_folder.rglob(\"*1.csv\"))\n",
    "print(f\"Found {len(file_list)} raw files.\")\n",
    "\n",
    "for index, file in enumerate(file_list):\n",
    "    print(f\"({index}/{len(file_list)-1}) - {file.name}\")\n",
    "    df=run_aggregation(file)\n",
    "    if not df.empty:\n",
    "        filename = df.index.min().strftime('%d%m%y-%H%M%S-ADC')\n",
    "        result_file = measurements_output_data_folder / Path(filename+\".p\")   \n",
    "        print(f\"    ... saving to { Path(filename+'.p')}\")\n",
    "        df.to_pickle(result_file)"
   ]
  },
  {
   "cell_type": "code",
   "execution_count": null,
   "id": "0a8d3074",
   "metadata": {},
   "outputs": [],
   "source": []
  }
 ],
 "metadata": {
  "kernelspec": {
   "display_name": "Python 3 (ipykernel)",
   "language": "python",
   "name": "python3"
  },
  "language_info": {
   "codemirror_mode": {
    "name": "ipython",
    "version": 3
   },
   "file_extension": ".py",
   "mimetype": "text/x-python",
   "name": "python",
   "nbconvert_exporter": "python",
   "pygments_lexer": "ipython3",
   "version": "3.10.12"
  },
  "vscode": {
   "interpreter": {
    "hash": "663fac0a39ac9194e8834fa6e9a25f288f03c4df1f699cfd9b5c433c7915905d"
   }
  }
 },
 "nbformat": 4,
 "nbformat_minor": 5
}
