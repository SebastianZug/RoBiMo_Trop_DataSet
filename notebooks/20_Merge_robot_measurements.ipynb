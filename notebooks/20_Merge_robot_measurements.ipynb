{
 "cells": [
  {
   "cell_type": "code",
   "execution_count": null,
   "metadata": {},
   "outputs": [],
   "source": [
    "import pandas as pd\n",
    "from pathlib import Path\n",
    "import numpy as np"
   ]
  },
  {
   "cell_type": "code",
   "execution_count": null,
   "metadata": {},
   "outputs": [],
   "source": [
    "input_data_folder_base = Path(\"../data/preproc_data/\")\n",
    "output_data_folder_base = Path(\"../results/\")\n",
    "ardupilot_sub_folder = Path(\"./ardupilot\")\n",
    "measurement_sub_folder = Path(\"./measurements\")\n",
    "\n",
    "ardupilot_input_data_folder = Path.cwd() / input_data_folder_base / ardupilot_sub_folder \n",
    "measurement_input_data_folder = Path.cwd() / input_data_folder_base / measurement_sub_folder \n",
    "print(f\"Reading raw pandas files from \\n    {ardupilot_input_data_folder}\")\n",
    "print(f\"Reading raw pandas files from \\n    {measurement_input_data_folder}\")\n",
    "\n",
    "output_data_folder = Path.cwd() / output_data_folder_base  \n",
    "print(f\"Writing merged pandas file to \\n    {output_data_folder}\")\n",
    "\n",
    "overall_collection_file_name = \"overall_collection_2023\"\n",
    "key_parameter_file_name = \"key_parameter_2023\""
   ]
  },
  {
   "cell_type": "code",
   "execution_count": null,
   "metadata": {},
   "outputs": [],
   "source": [
    "columns = ['CO2(ppm)', 'airtemp in(degreeC)', 'humidity in(rH)', 'pressure in(mbar)',\n",
    "           'airtemp out(degreeC)', 'humidity out(rH)', 'pressure out(mbar)', \n",
    "           'PAR(umol m-2s-1)', 'H2O temp(degreeC)']\n",
    "\n",
    "df_summary = pd.DataFrame()\n",
    "\n",
    "for file in list(ardupilot_input_data_folder.rglob(\"*.p\")):\n",
    "    df_ap=pd.read_pickle(file)\n",
    "    print(f\"{file.name} - duration {df_ap.index.min()} - {df_ap.index.max()}\")\n",
    "\n",
    "    # Add state information and file \n",
    "    # Merge data from measurement files\n",
    "    df_ap['meas_running'] = False\n",
    "    df_ap['corresponding_meas_file'] = \"\"\n",
    "    df_ap[columns]=np.nan\n",
    "\n",
    "    for file in list(measurement_input_data_folder.rglob(\"*ADC.p\")):\n",
    "        df_meas=pd.read_pickle(file)\n",
    "        if (df_meas.index.max() < df_ap.index.max()) & (df_meas.index.min() > df_ap.index.min()):\n",
    "            print(f\"     {file.name} - duration {df_meas.index.min()} - {df_meas.index.max()}\")\n",
    "            df_ap.loc[(df_ap.index < df_meas.index.max()) & (df_ap.index > df_meas.index.min()), \"meas_running\"] = True\n",
    "            df_ap.loc[(df_ap.index < df_meas.index.max()) & (df_ap.index > df_meas.index.min()), \"corresponding_meas_file\"] = file.name\n",
    "\n",
    "            for index, row in df_meas.iterrows():\n",
    "                id = df_ap.index.searchsorted(index)\n",
    "                for entry in columns:\n",
    "                    df_ap.iloc[id, df_ap.columns.get_loc(entry)] = row[entry]\n",
    "\n",
    "    df_summary = pd.concat([df_summary, df_ap])\n",
    "\n",
    "result_file = output_data_folder / Path(overall_collection_file_name+\".p\") \n",
    "print(f\"... saving to {  Path(overall_collection_file_name+'.p')}\")\n",
    "df_summary.to_pickle(result_file)\n"
   ]
  },
  {
   "cell_type": "code",
   "execution_count": null,
   "metadata": {},
   "outputs": [],
   "source": [
    "df_key_param = df_summary[df_summary.meas_running].reset_index()\\\n",
    "        .groupby('corresponding_meas_file')\\\n",
    "            .agg(start=('datetime_AMT', 'min'),\n",
    "                 end=('datetime_AMT', 'max'),\n",
    "                 experiment_location = ('experiment_location', 'first'),\n",
    "                 lat_est_mean=('lat_est', 'mean'),\n",
    "                 lon_est_mean=('lon_est', 'mean'),\n",
    "                 CO2_min=('CO2(ppm)', 'min'),\n",
    "                 CO2_max=('CO2(ppm)', 'max'),\n",
    "                 humidity_in_mean=('humidity in(rH)', 'mean'),\n",
    "                 humidity_out_mean=('humidity out(rH)', 'mean'),\n",
    "                 airtemp_in_mean=('airtemp in(degreeC)', 'mean'),\n",
    "                 PAR_in_mean=('PAR(umol m-2s-1)', 'mean'),\n",
    "                 airtemp_out_mean=('airtemp out(degreeC)', 'mean'))\n",
    "\n",
    "result_file = output_data_folder / Path(key_parameter_file_name+\".p\") \n",
    "print(f\"    ... saving to \\n        {result_file}\")\n",
    "df_key_param.to_pickle(result_file)"
   ]
  },
  {
   "cell_type": "code",
   "execution_count": null,
   "metadata": {},
   "outputs": [],
   "source": []
  }
 ],
 "metadata": {
  "kernelspec": {
   "display_name": "data_aggregation-u0vYvf-n",
   "language": "python",
   "name": "python3"
  },
  "language_info": {
   "codemirror_mode": {
    "name": "ipython",
    "version": 3
   },
   "file_extension": ".py",
   "mimetype": "text/x-python",
   "name": "python",
   "nbconvert_exporter": "python",
   "pygments_lexer": "ipython3",
   "version": "3.10.6"
  },
  "orig_nbformat": 4
 },
 "nbformat": 4,
 "nbformat_minor": 2
}
