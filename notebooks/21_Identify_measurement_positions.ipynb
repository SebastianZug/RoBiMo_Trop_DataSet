{
 "cells": [
  {
   "cell_type": "code",
   "execution_count": null,
   "metadata": {},
   "outputs": [],
   "source": [
    "import pandas as pd\n",
    "from pathlib import Path\n",
    "import numpy as np\n",
    "from sklearn.cluster import KMeans\n",
    "import haversine as hs\n",
    "from haversine import Unit\n",
    "import numpy as np\n",
    "import pickle\n"
   ]
  },
  {
   "cell_type": "code",
   "execution_count": null,
   "metadata": {},
   "outputs": [],
   "source": [
    "input_data_folder_base = Path(\"../results/\")\n",
    "input_data_folder = Path.cwd() / input_data_folder_base\n",
    "overall_collection_file_name = \"overall_collection_2023.p\"\n",
    "key_parameter_file_name = \"key_parameter_2023.p\"\n",
    "cluster_positions_file_name = \"cluster_positions_2023.p\"\n",
    "print(f\"Reading raw pandas files from \\n    {input_data_folder}\")\n",
    "\n",
    "output_data_folder = input_data_folder\n",
    "print(f\"Writing merged pandas file to \\n    {output_data_folder}\")"
   ]
  },
  {
   "cell_type": "code",
   "execution_count": null,
   "metadata": {},
   "outputs": [],
   "source": [
    "df_results = pd.read_pickle(input_data_folder / overall_collection_file_name)\n",
    "df_results.head(3)"
   ]
  },
  {
   "cell_type": "code",
   "execution_count": null,
   "metadata": {},
   "outputs": [],
   "source": [
    "df_results.dropna(inplace=True)"
   ]
  },
  {
   "cell_type": "code",
   "execution_count": null,
   "metadata": {},
   "outputs": [],
   "source": [
    "cluster_count = {\n",
    "    \"Balbina\": 3,\n",
    "    \"Jandira\":3,\n",
    "    \"Caldeirao\": 6,\n",
    "    \"Iranduba\": 4,\n",
    "}\n",
    "\n",
    "cluster_position = {\n",
    "    \"Balbina\": np.nan,\n",
    "    \"Jandira\": np.nan,\n",
    "    \"Caldeirao\": np.nan,\n",
    "    \"Iranduba\": np.nan,\n",
    "}\n",
    "\n",
    "def run_k_means(location_name, df_sep_pos, n_clusters):\n",
    "    positions = df_sep_pos[['lat_est','lon_est']]\n",
    "    kmeans = KMeans(n_clusters=n_clusters, n_init=10).fit(positions)\n",
    "    centroids = kmeans.cluster_centers_\n",
    "    return centroids\n",
    "\n",
    "def dist(lat_0, lon_0, lat_1, lon_1):\n",
    "    return hs.haversine((lat_0, lon_0), (lat_1, lon_1), unit=Unit.METERS)\n",
    "\n",
    "df_results[\"position\"] = np.nan\n",
    "for entry in cluster_count:\n",
    "    print(f\"{entry} ...\")\n",
    "    print(f\"   ... running cluster analysis\")\n",
    "    location_name = entry\n",
    "    df_sep_pos = df_results[(df_results.experiment_location == location_name) &\n",
    "                            (df_results.meas_running)]\n",
    "    centroids = run_k_means(location_name, df_sep_pos,\n",
    "                            cluster_count[location_name])\n",
    "    print(centroids)\n",
    "    cluster_position[entry] = centroids\n",
    "\n",
    "    print(f\"   ... calculating distances\")\n",
    "    for id_row, row in df_results.iterrows():\n",
    "        if ((row.experiment_location == location_name) & (row.meas_running)):\n",
    "            smallest_distance = np.inf\n",
    "            id_of_smallest_dist = 100000\n",
    "            for id_pos, position in enumerate(centroids):\n",
    "                distance = dist(row['lat_est'], row['lon_est'], position[0], position[1])\n",
    "                if distance < smallest_distance:\n",
    "                    id_of_smallest_dist = id_pos\n",
    "                    smallest_distance = distance\n",
    "            df_results.at[id_row, \"position\"] = id_of_smallest_dist"
   ]
  },
  {
   "cell_type": "code",
   "execution_count": null,
   "metadata": {},
   "outputs": [],
   "source": [
    "df_results.loc[df_results[\"corresponding_meas_file\"] == \"040323-151128-ADC.p\", \"position\"] = 3.0\n",
    "aux = np.append(cluster_position['Jandira'],\n",
    "          [[df_results[df_results[\"corresponding_meas_file\"] == \"040323-151128-ADC.p\"].lat_est[0],\n",
    "           df_results[df_results[\"corresponding_meas_file\"] == \"040323-151128-ADC.p\"].lon_est[0]]],\n",
    "           axis=0)\n",
    "\n",
    "cluster_position['Jandira'] = aux\n",
    "cluster_position\n",
    "           "
   ]
  },
  {
   "cell_type": "code",
   "execution_count": null,
   "metadata": {},
   "outputs": [],
   "source": [
    "result_file = output_data_folder / Path(overall_collection_file_name)\n",
    "print(f\"... saving common results to {  Path(overall_collection_file_name)}\")\n",
    "df_results.to_pickle(result_file)"
   ]
  },
  {
   "cell_type": "code",
   "execution_count": null,
   "metadata": {},
   "outputs": [],
   "source": [
    "result_file = output_data_folder / Path(cluster_positions_file_name)\n",
    "with open(result_file, 'wb') as f:\n",
    "    pickle.dump(cluster_position, f)"
   ]
  }
 ],
 "metadata": {
  "kernelspec": {
   "display_name": "data_aggregation-u0vYvf-n",
   "language": "python",
   "name": "python3"
  },
  "language_info": {
   "codemirror_mode": {
    "name": "ipython",
    "version": 3
   },
   "file_extension": ".py",
   "mimetype": "text/x-python",
   "name": "python",
   "nbconvert_exporter": "python",
   "pygments_lexer": "ipython3",
   "version": "3.10.6"
  },
  "orig_nbformat": 4
 },
 "nbformat": 4,
 "nbformat_minor": 2
}
