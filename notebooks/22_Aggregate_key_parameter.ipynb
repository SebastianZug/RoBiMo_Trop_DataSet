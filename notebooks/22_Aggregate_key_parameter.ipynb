{
 "cells": [
  {
   "cell_type": "code",
   "execution_count": null,
   "metadata": {},
   "outputs": [],
   "source": [
    "import pandas as pd\n",
    "from pathlib import Path\n",
    "import numpy as np\n",
    "import numpy as np\n",
    "import pickle\n"
   ]
  },
  {
   "cell_type": "code",
   "execution_count": null,
   "metadata": {},
   "outputs": [],
   "source": [
    "input_data_folder_base = Path(\"../results/\")\n",
    "input_data_folder = Path.cwd() / input_data_folder_base\n",
    "overall_collection_file_name = \"overall_collection_2023.p\"\n",
    "key_parameter_file_name = \"key_parameter_2023.p\"\n",
    "print(f\"Reading raw pandas files from \\n    {input_data_folder}\")\n",
    "\n",
    "output_data_folder = input_data_folder\n",
    "print(f\"Writing merged pandas file to \\n    {output_data_folder}\")"
   ]
  },
  {
   "cell_type": "code",
   "execution_count": null,
   "metadata": {},
   "outputs": [],
   "source": [
    "df_results = pd.read_pickle(input_data_folder / overall_collection_file_name)\n",
    "df_results.head(3)"
   ]
  },
  {
   "cell_type": "code",
   "execution_count": null,
   "metadata": {},
   "outputs": [],
   "source": [
    "df_key_param = df_results[df_results.meas_running].reset_index()\\\n",
    "        .groupby('corresponding_meas_file')\\\n",
    "            .agg(start=('datetime_AMT', 'min'),\n",
    "                 end=('datetime_AMT', 'max'),\n",
    "                 experiment_location = ('experiment_location', 'first'),\n",
    "                 position = ('position', 'first'),\n",
    "                 lat_est_mean=('lat_est', 'mean'),\n",
    "                 lon_est_mean=('lon_est', 'mean'),\n",
    "                 hdop_max=('hdop', 'max'),\n",
    "                 nsats_min=('nsats', 'min'),\n",
    "                 CO2_min=('CO2(ppm)', 'min'),\n",
    "                 CO2_max=('CO2(ppm)', 'max'),\n",
    "                 humidity_in_mean=('humidity in(rH)', 'mean'),\n",
    "                 humidity_out_mean=('humidity out(rH)', 'mean'),\n",
    "                 airtemp_in_mean=('airtemp in(degreeC)', 'mean'),\n",
    "                 PAR_min=('PAR(umol m-2s-1)', 'min'),\n",
    "                 PAR_max=('PAR(umol m-2s-1)', 'max'),\n",
    "                 airtemp_out_mean=('airtemp out(degreeC)', 'mean'))\n",
    "\n",
    "result_file = output_data_folder / Path(key_parameter_file_name) \n",
    "print(f\"    ... saving to \\n        {result_file}\")\n",
    "df_key_param.to_pickle(result_file)"
   ]
  }
 ],
 "metadata": {
  "kernelspec": {
   "display_name": "data_aggregation-u0vYvf-n",
   "language": "python",
   "name": "python3"
  },
  "language_info": {
   "codemirror_mode": {
    "name": "ipython",
    "version": 3
   },
   "file_extension": ".py",
   "mimetype": "text/x-python",
   "name": "python",
   "nbconvert_exporter": "python",
   "pygments_lexer": "ipython3",
   "version": "3.10.6"
  },
  "orig_nbformat": 4
 },
 "nbformat": 4,
 "nbformat_minor": 2
}
