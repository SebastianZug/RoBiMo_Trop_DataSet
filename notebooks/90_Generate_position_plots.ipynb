{
 "cells": [
  {
   "attachments": {},
   "cell_type": "markdown",
   "id": "d63e5ee4",
   "metadata": {},
   "source": [
    "## Visualization of Robot missions"
   ]
  },
  {
   "cell_type": "code",
   "execution_count": null,
   "id": "72269af3",
   "metadata": {},
   "outputs": [],
   "source": [
    "import sys\n",
    "from pathlib import Path\n",
    "import pandas as pd\n",
    "import geopandas\n",
    "import contextily as cx\n",
    "import branca\n",
    "import folium\n",
    "import branca.colormap as cm\n",
    "import matplotlib.pyplot as plt\n",
    "import geopandas\n",
    "import haversine as hs\n",
    "from haversine import Unit\n",
    "from matplotlib.ticker import FormatStrFormatter\n",
    "import matplotlib.gridspec as gridspec"
   ]
  },
  {
   "cell_type": "code",
   "execution_count": null,
   "id": "be7acade",
   "metadata": {},
   "outputs": [],
   "source": [
    "input_data_folder_base = Path(\"../results/\")\n",
    "input_data_folder = Path.cwd() / input_data_folder_base\n",
    "overall_collection_file_name = \"overall_collection_2023.p\"\n",
    "key_parameter_file_name = \"key_parameter_2023.p\"\n",
    "print(f\"Reading raw pandas files from \\n    {input_data_folder}\")\n",
    "\n",
    "output_folder_base = Path(\"../html/\")\n",
    "output_image_folder = output_folder_base / Path(\"./images/\")\n",
    "print(f\"Writing website information to \\n    {output_folder_base}\")"
   ]
  },
  {
   "cell_type": "code",
   "execution_count": null,
   "id": "eb02631c",
   "metadata": {},
   "outputs": [],
   "source": [
    "df_results = pd.read_pickle(input_data_folder / overall_collection_file_name)\n",
    "df_results.head(3)\n"
   ]
  },
  {
   "cell_type": "code",
   "execution_count": null,
   "id": "e336ab8d",
   "metadata": {},
   "outputs": [],
   "source": [
    "for location_name in df_results.experiment_location.unique():\n",
    "    df_sep_pos = df_results[(df_results.experiment_location == location_name) &\n",
    "                            (df_results.meas_running)]\n",
    "    print(df_sep_pos.shape)\n",
    "\n",
    "    for index, entry in enumerate(df_sep_pos.position.unique()):\n",
    "        fig, ax = plt.subplots(figsize=(7, 7))\n",
    "        gs = gridspec.GridSpec(2, 2,\n",
    "                            width_ratios=[1, 5],\n",
    "                            height_ratios=[5, 1])\n",
    "\n",
    "        ax_vertical_hist = plt.subplot(gs[0])\n",
    "        ax_main_plot = plt.subplot(gs[1])\n",
    "        ax_horizontal_hist = plt.subplot(gs[3])\n",
    "\n",
    "        measurement = df_sep_pos[df_sep_pos.position == entry]\n",
    "        lat = measurement.lat_est\n",
    "        lon = measurement.lon_est\n",
    "\n",
    "        max_long = measurement.lon_est.max()\n",
    "        min_long = measurement.lon_est.min()\n",
    "        max_lat = measurement.lat_est.max()\n",
    "        min_lat = measurement.lat_est.min()\n",
    "                                # (lat, lon)\n",
    "        dist_long = hs.haversine((max_lat, min_long),\n",
    "                                (max_lat, max_long),\n",
    "                                unit=Unit.METERS)\n",
    "        dist_lat  = hs.haversine((max_lat, min_long),\n",
    "                                (min_lat, min_long),\n",
    "                                unit=Unit.METERS)\n",
    "        \n",
    "        ax_vertical_hist.hist(lat, orientation='horizontal', bins=30)\n",
    "        ax_horizontal_hist.hist(lon, bins=30)\n",
    "        ax_vertical_hist.yaxis.set_major_formatter(FormatStrFormatter('% .5f'))\n",
    "        ax_horizontal_hist.yaxis.set_major_formatter(FormatStrFormatter('% .5f'))\n",
    "        ax_horizontal_hist.xaxis.set_major_formatter(FormatStrFormatter('% .5f'))\n",
    "        ax_horizontal_hist.get_yaxis().set_visible(False)\n",
    "\n",
    "        groups = measurement.groupby('corresponding_meas_file')\n",
    "        for name, group in groups:\n",
    "            ax_main_plot.plot(group.lon_est, group.lat_est, marker='o', linestyle='-', ms=6, label=name)\n",
    "            ax_main_plot.legend()\n",
    "        \n",
    "        ax_main_plot.set_title(f\"{location_name} - Position {int(entry)}\")\n",
    "        #ax_main_plot.axis('equal')\n",
    "        #ax_main_plot.set_axis_off()\n",
    "        \n",
    "        ax_main_plot.get_xaxis().set_visible(False)\n",
    "        ax_main_plot.get_yaxis().set_visible(False)\n",
    "        ax_main_plot.annotate(f\"\\n Range lat {abs(dist_lat):.1f}m\\n Range lon {abs(dist_long):.1f}m\", \n",
    "                        xy=(1, 0),xycoords='axes fraction', fontsize=10,\n",
    "                        color = 'red',\n",
    "                        horizontalalignment='right', verticalalignment='top')\n",
    "\n",
    "        plt.tight_layout()\n",
    "        plt.xticks(rotation = 45)\n",
    "        filename = f\"{location_name}_Positions_{int(entry)}\"\n",
    "        result_file = output_image_folder / Path(filename+\".png\") \n",
    "        plt.savefig(result_file)"
   ]
  },
  {
   "cell_type": "code",
   "execution_count": null,
   "id": "b4fe320b",
   "metadata": {},
   "outputs": [],
   "source": []
  },
  {
   "cell_type": "code",
   "execution_count": null,
   "id": "56a59a14",
   "metadata": {},
   "outputs": [],
   "source": []
  }
 ],
 "metadata": {
  "kernelspec": {
   "display_name": "data_aggregation-u0vYvf-n",
   "language": "python",
   "name": "python3"
  },
  "language_info": {
   "codemirror_mode": {
    "name": "ipython",
    "version": 3
   },
   "file_extension": ".py",
   "mimetype": "text/x-python",
   "name": "python",
   "nbconvert_exporter": "python",
   "pygments_lexer": "ipython3",
   "version": "3.10.6"
  },
  "vscode": {
   "interpreter": {
    "hash": "663fac0a39ac9194e8834fa6e9a25f288f03c4df1f699cfd9b5c433c7915905d"
   }
  }
 },
 "nbformat": 4,
 "nbformat_minor": 5
}
