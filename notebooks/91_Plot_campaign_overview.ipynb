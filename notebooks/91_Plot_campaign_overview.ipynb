{
 "cells": [
  {
   "attachments": {},
   "cell_type": "markdown",
   "id": "d63e5ee4",
   "metadata": {},
   "source": [
    "## Visualization of Robot missions"
   ]
  },
  {
   "cell_type": "code",
   "execution_count": null,
   "id": "72269af3",
   "metadata": {},
   "outputs": [],
   "source": [
    "import sys\n",
    "from pathlib import Path\n",
    "import pandas as pd\n",
    "import geopandas\n",
    "import contextily as cx\n",
    "import branca\n",
    "import folium\n",
    "import branca.colormap as cm\n",
    "import matplotlib.pyplot as plt\n",
    "import geopandas\n",
    "import haversine as hs\n",
    "from haversine import Unit\n",
    "import pickle\n",
    "from matplotlib.ticker import FormatStrFormatter\n",
    "import matplotlib.gridspec as gridspec"
   ]
  },
  {
   "cell_type": "code",
   "execution_count": null,
   "id": "be7acade",
   "metadata": {},
   "outputs": [],
   "source": [
    "input_data_folder_base = Path(\"../results/\")\n",
    "input_data_folder = Path.cwd() / input_data_folder_base\n",
    "overall_collection_file_name = \"overall_collection_2023.p\"\n",
    "key_parameter_file_name = \"key_parameter_2023.p\"\n",
    "cluster_positions_file_name = \"cluster_positions_2023.p\"\n",
    "print(f\"Reading raw pandas files from \\n    {input_data_folder}\")\n",
    "\n",
    "output_folder_base = Path(\"../html/\")\n",
    "output_image_folder = output_folder_base / Path(\"./images/\")\n",
    "print(f\"Writing website information to \\n    {output_folder_base}\")"
   ]
  },
  {
   "cell_type": "code",
   "execution_count": null,
   "id": "a3260a0c",
   "metadata": {},
   "outputs": [],
   "source": [
    "df_results = pd.read_pickle(input_data_folder / overall_collection_file_name)\n",
    "df_results.head(3)"
   ]
  },
  {
   "cell_type": "code",
   "execution_count": null,
   "id": "eb02631c",
   "metadata": {},
   "outputs": [],
   "source": [
    "cluster_position_file = input_data_folder / Path(cluster_positions_file_name)\n",
    "with open(cluster_position_file, 'rb') as fp:\n",
    "    centroids = pickle.load(fp)\n",
    "centroids\n"
   ]
  },
  {
   "cell_type": "code",
   "execution_count": null,
   "id": "b4fe320b",
   "metadata": {},
   "outputs": [],
   "source": [
    "map = folium.Map(location = [df_results.lat_est.mean(),  \n",
    "                            df_results.lon_est.mean()], \n",
    "                            tiles='Stamen Terrain', zoom_start = 9)\n",
    "\n",
    "basemaps = {\n",
    "    'Google Maps': folium.TileLayer(\n",
    "        tiles = 'https://mt1.google.com/vt/lyrs=m&x={x}&y={y}&z={z}',\n",
    "        attr = 'Google',\n",
    "        name = 'Google Maps',\n",
    "        overlay = True,\n",
    "        control = True\n",
    "    ),\n",
    "    'Google Satellite': folium.TileLayer(\n",
    "        tiles = 'https://mt1.google.com/vt/lyrs=s&x={x}&y={y}&z={z}',\n",
    "        attr = 'Google',\n",
    "        name = 'Google Satellite',\n",
    "        overlay = True,\n",
    "        control = True\n",
    "    ),\n",
    "    'Google Terrain': folium.TileLayer(\n",
    "        tiles = 'https://mt1.google.com/vt/lyrs=p&x={x}&y={y}&z={z}',\n",
    "        attr = 'Google',\n",
    "        name = 'Google Terrain',\n",
    "        overlay = True,\n",
    "        control = True\n",
    "    ),\n",
    "    'Google Satellite Hybrid': folium.TileLayer(\n",
    "        tiles = 'https://mt1.google.com/vt/lyrs=y&x={x}&y={y}&z={z}',\n",
    "        attr = 'Google',\n",
    "        name = 'Google Satellite',\n",
    "        overlay = True,\n",
    "        control = True\n",
    "    ),\n",
    "    'Esri Satellite': folium.TileLayer(\n",
    "        tiles = 'https://server.arcgisonline.com/ArcGIS/rest/services/World_Imagery/MapServer/tile/{z}/{y}/{x}',\n",
    "        attr = 'Esri',\n",
    "        name = 'Esri Satellite',\n",
    "        overlay = True,\n",
    "        control = True\n",
    "    )\n",
    "}\n",
    "\n",
    "basemaps['Google Satellite Hybrid'].add_to(map)\n",
    "\n",
    "for key in centroids:\n",
    "    map.add_child(folium.CircleMarker(location = [centroids[key][0][0],\n",
    "                                                  centroids[key][0][1]],\n",
    "                                    color = 'red',\n",
    "                                    tooltip= f\"Click to zoom to {key}\",\n",
    "                                    popup=\"<a href=https://fr.wikipedia.org/wiki/Place_Guillaume_II>Place Guillaume II</a>\",\n",
    "                                    radius = 10, fill=True))\n",
    "\n",
    "filename = \"index.html\"\n",
    "html_file = Path.cwd() / \"..\" / Path(filename)  \n",
    "map.save(html_file)\n",
    "\n",
    "map\n"
   ]
  },
  {
   "cell_type": "code",
   "execution_count": null,
   "id": "0525b772",
   "metadata": {},
   "outputs": [],
   "source": []
  }
 ],
 "metadata": {
  "kernelspec": {
   "display_name": "data_aggregation-u0vYvf-n",
   "language": "python",
   "name": "python3"
  },
  "language_info": {
   "codemirror_mode": {
    "name": "ipython",
    "version": 3
   },
   "file_extension": ".py",
   "mimetype": "text/x-python",
   "name": "python",
   "nbconvert_exporter": "python",
   "pygments_lexer": "ipython3",
   "version": "3.10.6"
  },
  "vscode": {
   "interpreter": {
    "hash": "663fac0a39ac9194e8834fa6e9a25f288f03c4df1f699cfd9b5c433c7915905d"
   }
  }
 },
 "nbformat": 4,
 "nbformat_minor": 5
}
