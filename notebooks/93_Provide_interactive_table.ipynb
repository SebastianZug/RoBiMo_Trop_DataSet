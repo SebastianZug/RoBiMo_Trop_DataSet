{
 "cells": [
  {
   "cell_type": "code",
   "execution_count": null,
   "metadata": {},
   "outputs": [],
   "source": [
    "import pandas as pd\n",
    "from pathlib import Path\n",
    "import numpy as np\n",
    "import panel as pn\n",
    "\n",
    "pn.extension('tabulator')\n",
    "\n",
    "#import cartopy.crs as ccrs\n",
    "#import geoviews as gv \n",
    "#import pyproj\n",
    "\n",
    "#pn.extension(sizing_mode=\"stretch_width\")\n",
    "\n",
    "import hvplot.pandas"
   ]
  },
  {
   "attachments": {},
   "cell_type": "markdown",
   "metadata": {},
   "source": [
    "# Generation of an interactive table\n",
    "\n",
    "```\n",
    "pipenv run panel convert notebooks/93_Provide_interactive_table.ipynb --to pyodide-worker --title interactive_table  --out ./html\n",
    "```\n",
    "\n",
    "Umbenennen der Dateien in der Ordnerstruktur nicht vergessen! Anpassen des js Pfades in der html Datei analog."
   ]
  },
  {
   "cell_type": "code",
   "execution_count": null,
   "metadata": {},
   "outputs": [],
   "source": [
    "input_data_folder_base = Path(\"../results/\")\n",
    "input_data_folder = Path.cwd() / input_data_folder_base\n",
    "overall_collection_file_name = \"overall_collection_2023.p\"\n",
    "key_parameter_file_name = \"key_parameter_2023.p\"\n",
    "cluster_positions_file_name = \"cluster_positions_2023.p\"\n",
    "print(f\"Reading raw pandas files from \\n    {input_data_folder}\")\n",
    "\n",
    "output_folder_base = Path(\"../html/\")\n",
    "output_image_folder = output_folder_base / Path(\"./images/\")\n",
    "print(f\"Writing website information to \\n    {output_folder_base}\")"
   ]
  },
  {
   "cell_type": "code",
   "execution_count": null,
   "metadata": {},
   "outputs": [],
   "source": [
    "# cache data to improve dashboard performance\n",
    "if 'data' not in pn.state.cache.keys():\n",
    "    #df_key_param = pd.read_pickle(input_data_folder / key_parameter_file_name)\n",
    "    #df_key_param = pd.read_pickle(\"https://api.allorigins.win/raw?url=https://github.com/SebastianZug/RoBiMo_Trop_DataSet/blob/main/results/key_parameter_2023.p?raw=true\")\n",
    "    df_key_param = pd.read_pickle(\"https://sebastianzug.github.io/RoBiMo_Trop_DataSet/results/key_parameter_2023.p?raw=true\")\n",
    "    pn.state.cache['data'] = df_key_param.copy()\n",
    "else: \n",
    "    df_key_param = pn.state.cache['data']"
   ]
  },
  {
   "cell_type": "code",
   "execution_count": null,
   "metadata": {},
   "outputs": [],
   "source": [
    "df_key_param.head(3)"
   ]
  },
  {
   "cell_type": "code",
   "execution_count": null,
   "metadata": {},
   "outputs": [],
   "source": [
    "# Make DataFrame Pipeline Interactive\n",
    "idf = df_key_param.interactive()"
   ]
  },
  {
   "cell_type": "code",
   "execution_count": null,
   "metadata": {},
   "outputs": [],
   "source": [
    "select_lake = pn.widgets.Select(\n",
    "    name='Location',\n",
    "    value=\"Balbina\",\n",
    "    options=list(df_key_param.experiment_location.unique())\n",
    ")\n",
    "\n",
    "select_position = pn.widgets.Select(\n",
    "    name=\"Measurement\",\n",
    "    value=df_key_param.position.unique()[0],\n",
    "    options=df_key_param[df_key_param.experiment_location==select_lake.value].position.unique().tolist()\n",
    ")\n",
    "\n",
    "@pn.depends(select_lake.param.value, watch=True)\n",
    "def _update_lake(select_lake):\n",
    "    positions = list(df_key_param[df_key_param.experiment_location==select_lake]\\\n",
    "                            .position.unique())\n",
    "    select_position.options = positions\n",
    "    select_position.value = positions[0]"
   ]
  },
  {
   "cell_type": "code",
   "execution_count": null,
   "metadata": {},
   "outputs": [],
   "source": [
    "relevant_parameter = ['start', 'end', 'hdop_max', 'nsats_min', 'CO2_min', 'CO2_max', 'PAR_min',  'PAR_max']"
   ]
  },
  {
   "cell_type": "code",
   "execution_count": null,
   "metadata": {},
   "outputs": [],
   "source": [
    "data_pipeline_overview = (\n",
    "    idf[\n",
    "        (idf.experiment_location == select_lake)\n",
    "    ]\\\n",
    "           [relevant_parameter]\\\n",
    "           .describe()\\\n",
    "           .loc[['mean', 'std', 'min', 'max'],:]\n",
    ")\n",
    "\n",
    "#data_pipeline_overview"
   ]
  },
  {
   "cell_type": "code",
   "execution_count": null,
   "metadata": {},
   "outputs": [],
   "source": [
    "data_pipeline_all = (\n",
    "    idf[\n",
    "        (idf.experiment_location == select_lake ) &\n",
    "        (idf.position == select_position)\n",
    "    ]\\\n",
    "        [relevant_parameter]\n",
    ")\n",
    "\n",
    "#data_pipeline_all"
   ]
  },
  {
   "cell_type": "code",
   "execution_count": null,
   "metadata": {},
   "outputs": [],
   "source": [
    "#co_plot=selected_data_pipeline.hvplot(use_index=True, y='CO2(ppm)', title=\"CO_2 concentration\")\n",
    "#pressure_plot=selected_data_pipeline.hvplot(use_index=True, y='pressure in(mbar)', title=\"Pressure in\")"
   ]
  },
  {
   "cell_type": "code",
   "execution_count": null,
   "metadata": {},
   "outputs": [],
   "source": [
    "table_overview = data_pipeline_overview.pipe(pn.widgets.Tabulator, pagination=\"remote\")\n",
    "table_all = data_pipeline_all.pipe(pn.widgets.Tabulator, pagination=\"remote\")"
   ]
  },
  {
   "cell_type": "code",
   "execution_count": null,
   "metadata": {},
   "outputs": [],
   "source": [
    "#template = pn.template.FastListTemplate(\n",
    "#    title = \"RoBiMo 2023 - Data exploration\",\n",
    "#    sidebar =[pn.pane.Markdown(\"# Select the relevant lake and measurement\"),\n",
    "#              select_lake,\n",
    "#              select_file],\n",
    "#    main=[pn.Row(\n",
    "#            pn.Column(\n",
    "#               position_plot.panel(width=500, margin=(0,25))\n",
    "#            ),\n",
    "#            pn.Column(\n",
    "#               table.panel(width=1000, margin=(0,25))\n",
    "#            )\n",
    "#         ),\n",
    "#         pn.Row(\n",
    "#            pn.Column(\n",
    "#               pressure_plot.panel(width=600, margin=(0,25))\n",
    "#            ),\n",
    "#            pn.Column(\n",
    "#               co_plot.panel(width=600, margin=(0,25))\n",
    "#            )\n",
    "#         )     \n",
    "#    ]\n",
    "#)\n",
    "\n",
    "template = pn.template.FastListTemplate(\n",
    "    title = \"RoBiMo 2023 - Data overview\",\n",
    "    sidebar =[pn.pane.Markdown(\"# Selection\"),\n",
    "              select_lake,\n",
    "              select_position],\n",
    "    main=[pn.Row(\n",
    "               pn.pane.Markdown(\"__Aggregated key parameters of the lake__\"),\n",
    "               table_overview.panel(width=1000)\n",
    "         ),\n",
    "         pn.Row(\n",
    "               pn.pane.Markdown(\"__Parameter of all measurements at this position__\"),\n",
    "               table_all.panel(width=1000)\n",
    "         )     \n",
    "    ]\n",
    ")\n",
    "\n",
    "#template.show()\n",
    "template.servable();"
   ]
  }
 ],
 "metadata": {
  "kernelspec": {
   "display_name": "RoBiMo_Trop_DataSet-KaBCVeeS",
   "language": "python",
   "name": "python3"
  },
  "language_info": {
   "codemirror_mode": {
    "name": "ipython",
    "version": 3
   },
   "file_extension": ".py",
   "mimetype": "text/x-python",
   "name": "python",
   "nbconvert_exporter": "python",
   "pygments_lexer": "ipython3",
   "version": "3.10.12"
  },
  "orig_nbformat": 4
 },
 "nbformat": 4,
 "nbformat_minor": 2
}
