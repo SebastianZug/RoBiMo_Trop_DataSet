{
 "cells": [
  {
   "attachments": {},
   "cell_type": "markdown",
   "id": "d63e5ee4",
   "metadata": {
    "papermill": {
     "duration": 0.001652,
     "end_time": "2024-02-05T12:14:09.414071",
     "exception": false,
     "start_time": "2024-02-05T12:14:09.412419",
     "status": "completed"
    },
    "tags": []
   },
   "source": [
    "# Transforming Ardupilot-Log files to pandas Dataframes"
   ]
  },
  {
   "cell_type": "code",
   "execution_count": 1,
   "id": "a725f365",
   "metadata": {
    "execution": {
     "iopub.execute_input": "2024-02-05T12:14:09.426343Z",
     "iopub.status.busy": "2024-02-05T12:14:09.426071Z",
     "iopub.status.idle": "2024-02-05T12:14:09.438892Z",
     "shell.execute_reply": "2024-02-05T12:14:09.438261Z"
    },
    "papermill": {
     "duration": 0.017007,
     "end_time": "2024-02-05T12:14:09.440623",
     "exception": false,
     "start_time": "2024-02-05T12:14:09.423616",
     "status": "completed"
    },
    "tags": []
   },
   "outputs": [],
   "source": [
    "%load_ext autoreload\n",
    "%autoreload 2"
   ]
  },
  {
   "cell_type": "code",
   "execution_count": 2,
   "id": "72269af3",
   "metadata": {
    "execution": {
     "iopub.execute_input": "2024-02-05T12:14:09.443825Z",
     "iopub.status.busy": "2024-02-05T12:14:09.443599Z",
     "iopub.status.idle": "2024-02-05T12:14:09.669497Z",
     "shell.execute_reply": "2024-02-05T12:14:09.669088Z"
    },
    "papermill": {
     "duration": 0.228633,
     "end_time": "2024-02-05T12:14:09.670516",
     "exception": false,
     "start_time": "2024-02-05T12:14:09.441883",
     "status": "completed"
    },
    "tags": []
   },
   "outputs": [
    {
     "name": "stderr",
     "output_type": "stream",
     "text": [
      "/tmp/ipykernel_576034/2065679790.py:3: DeprecationWarning: \n",
      "Pyarrow will become a required dependency of pandas in the next major release of pandas (pandas 3.0),\n",
      "(to allow more performant data types, such as the Arrow string type, and better interoperability with other libraries)\n",
      "but was not found to be installed on your system.\n",
      "If this would cause problems for you,\n",
      "please provide us feedback at https://github.com/pandas-dev/pandas/issues/54466\n",
      "        \n",
      "  import pandas as pd\n"
     ]
    }
   ],
   "source": [
    "import sys\n",
    "from pathlib import Path\n",
    "import pandas as pd\n",
    "from multiprocessing import Process\n",
    "\n",
    "module_path = str(Path.cwd().parents[0] / \"src\")\n",
    "#module_path = str(Path.cwd(__file__).parents[0] / \"py\")\n",
    "\n",
    "if module_path not in sys.path:\n",
    "    sys.path.append(module_path)\n",
    "\n",
    "from parser.DataflashParser import read_from_log, write_csv, interpolate_data\n",
    "from data_aggregation.ardupilot_to_pandas import run_aggregation"
   ]
  },
  {
   "cell_type": "code",
   "execution_count": 3,
   "id": "cd2090f1",
   "metadata": {
    "execution": {
     "iopub.execute_input": "2024-02-05T12:14:09.676167Z",
     "iopub.status.busy": "2024-02-05T12:14:09.675776Z",
     "iopub.status.idle": "2024-02-05T12:14:09.686154Z",
     "shell.execute_reply": "2024-02-05T12:14:09.685626Z"
    },
    "papermill": {
     "duration": 0.014272,
     "end_time": "2024-02-05T12:14:09.687595",
     "exception": false,
     "start_time": "2024-02-05T12:14:09.673323",
     "status": "completed"
    },
    "tags": []
   },
   "outputs": [
    {
     "name": "stdout",
     "output_type": "stream",
     "text": [
      "Reading raw data files from \n",
      "    /home/sebastian/Nextcloud/Projekte/2021_DAAD_Brasilien/2023/RoBiMo_Trop_DataSet/notebooks/../data/raw_data/ardupilot\n",
      "Writing preprocessed pandas files to \n",
      "    /home/sebastian/Nextcloud/Projekte/2021_DAAD_Brasilien/2023/RoBiMo_Trop_DataSet/notebooks/../data/preproc_data/ardupilot\n"
     ]
    }
   ],
   "source": [
    "input_data_folder_base = Path(\"../data/raw_data\")\n",
    "output_data_folder_base = Path(\"../data/preproc_data/\")\n",
    "ardupilot_sub_folder = Path(\"./ardupilot\")\n",
    "\n",
    "# folder structure containing all ardupilot data files\n",
    "ardupilot_input_data_folder = Path.cwd() / input_data_folder_base / ardupilot_sub_folder \n",
    "print(f\"Reading raw data files from \\n    {ardupilot_input_data_folder}\")\n",
    "\n",
    "ardupilot_output_data_folder = Path.cwd() / output_data_folder_base / ardupilot_sub_folder \n",
    "print(f\"Writing preprocessed pandas files to \\n    {ardupilot_output_data_folder}\")\n"
   ]
  },
  {
   "cell_type": "code",
   "execution_count": 4,
   "id": "14b8214e",
   "metadata": {
    "execution": {
     "iopub.execute_input": "2024-02-05T12:14:09.691282Z",
     "iopub.status.busy": "2024-02-05T12:14:09.691030Z",
     "iopub.status.idle": "2024-02-05T12:14:09.700517Z",
     "shell.execute_reply": "2024-02-05T12:14:09.700077Z"
    },
    "papermill": {
     "duration": 0.012716,
     "end_time": "2024-02-05T12:14:09.701685",
     "exception": false,
     "start_time": "2024-02-05T12:14:09.688969",
     "status": "completed"
    },
    "tags": []
   },
   "outputs": [],
   "source": [
    "# Collecting position attributes for assignments to ardupilot-Dataframes\n",
    "\n",
    "locations = {\n",
    "    'Balbina': [\"00000038.log\", \"00000039.log\", \"00000040.log\", \"00000041.log\", \"00000042.log\"],\n",
    "    'Jandira': [\"00000043.log\", \"00000044.log\", \"00000045.log\"],\n",
    "    'Caldeirao': [\"00000046.log\", \"00000047.log\", \"00000048.log\"],\n",
    "    'Iranduba': [\"00000049.log\", \"00000050.log\", \"00000051.log\", \"00000051.log\", \"00000052.log\", \"00000053.log\", \"00000054.log\", \"00000055.log\"]\n",
    "}\n",
    "\n",
    "def assign_location(file_name):\n",
    "    for location in locations:\n",
    "        if file_name in locations[location]:\n",
    "            return location\n",
    "    return \"not known\""
   ]
  },
  {
   "cell_type": "code",
   "execution_count": 5,
   "id": "4cbb8932",
   "metadata": {
    "execution": {
     "iopub.execute_input": "2024-02-05T12:14:09.705975Z",
     "iopub.status.busy": "2024-02-05T12:14:09.705580Z",
     "iopub.status.idle": "2024-02-05T12:14:09.717845Z",
     "shell.execute_reply": "2024-02-05T12:14:09.717355Z"
    },
    "papermill": {
     "duration": 0.01587,
     "end_time": "2024-02-05T12:14:09.718899",
     "exception": false,
     "start_time": "2024-02-05T12:14:09.703029",
     "status": "completed"
    },
    "tags": []
   },
   "outputs": [
    {
     "name": "stdout",
     "output_type": "stream",
     "text": [
      "Found 0 raw files.\n"
     ]
    }
   ],
   "source": [
    "file_list = list(ardupilot_input_data_folder.rglob(\"*.log\"))\n",
    "print(f\"Found {len(file_list)} raw files.\")\n",
    "\n",
    "procs = []\n",
    "\n",
    "def control_processing(file, place):\n",
    "    df=run_aggregation(file)\n",
    "    df = df.resample(\"1s\").first()\n",
    "    df['experiment_location'] = place\n",
    "    df.drop(['index', 'datetime_UTC'], axis=1, inplace=True)\n",
    "    \n",
    "    filename = df.index.min().strftime('%d%m%y-%H%M%S-AP')\n",
    "    result_file = ardupilot_output_data_folder / Path(filename+\".p\")   \n",
    "    print(f\"    ... saving to { Path(filename+'.p')}\")\n",
    "    df.to_pickle(result_file)\n",
    "\n",
    "for index, file in enumerate(file_list):\n",
    "    place = assign_location(file.name)\n",
    "    print(f\"({index:2d}/{len(file_list)-1}) - {file.name} / {place}\")\n",
    "    proc = Process(target=control_processing, args=(file, place))\n",
    "    procs.append(proc)\n",
    "    proc.start()\n",
    "\n",
    "for proc in procs:\n",
    "    proc.join()"
   ]
  },
  {
   "cell_type": "code",
   "execution_count": null,
   "id": "a05174f1",
   "metadata": {
    "papermill": {
     "duration": 0.001436,
     "end_time": "2024-02-05T12:14:09.721682",
     "exception": false,
     "start_time": "2024-02-05T12:14:09.720246",
     "status": "completed"
    },
    "tags": []
   },
   "outputs": [],
   "source": []
  }
 ],
 "metadata": {
  "kernelspec": {
   "display_name": "Python 3 (ipykernel)",
   "language": "python",
   "name": "python3"
  },
  "language_info": {
   "codemirror_mode": {
    "name": "ipython",
    "version": 3
   },
   "file_extension": ".py",
   "mimetype": "text/x-python",
   "name": "python",
   "nbconvert_exporter": "python",
   "pygments_lexer": "ipython3",
   "version": "3.10.12"
  },
  "papermill": {
   "default_parameters": {},
   "duration": 1.298229,
   "end_time": "2024-02-05T12:14:09.938095",
   "environment_variables": {},
   "exception": null,
   "input_path": "/home/sebastian/Nextcloud/Projekte/2021_DAAD_Brasilien/2023/RoBiMo_Trop_DataSet/notebooks/10_Extract_ArduPilot_data.ipynb",
   "output_path": "/home/sebastian/Nextcloud/Projekte/2021_DAAD_Brasilien/2023/RoBiMo_Trop_DataSet/notebooks/tmp/10_Extract_ArduPilot_data_run.ipynb",
   "parameters": {},
   "start_time": "2024-02-05T12:14:08.639866",
   "version": "2.5.0"
  },
  "vscode": {
   "interpreter": {
    "hash": "663fac0a39ac9194e8834fa6e9a25f288f03c4df1f699cfd9b5c433c7915905d"
   }
  }
 },
 "nbformat": 4,
 "nbformat_minor": 5
}