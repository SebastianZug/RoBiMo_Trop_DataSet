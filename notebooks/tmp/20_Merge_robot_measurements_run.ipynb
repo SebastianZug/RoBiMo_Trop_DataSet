{
 "cells": [
  {
   "cell_type": "code",
   "execution_count": 1,
   "id": "cd0d18d5",
   "metadata": {
    "execution": {
     "iopub.execute_input": "2024-02-05T12:14:12.821805Z",
     "iopub.status.busy": "2024-02-05T12:14:12.821608Z",
     "iopub.status.idle": "2024-02-05T12:14:13.059439Z",
     "shell.execute_reply": "2024-02-05T12:14:13.058983Z"
    },
    "papermill": {
     "duration": 0.241825,
     "end_time": "2024-02-05T12:14:13.060651",
     "exception": false,
     "start_time": "2024-02-05T12:14:12.818826",
     "status": "completed"
    },
    "tags": []
   },
   "outputs": [
    {
     "name": "stderr",
     "output_type": "stream",
     "text": [
      "/tmp/ipykernel_576108/2481774189.py:1: DeprecationWarning: \n",
      "Pyarrow will become a required dependency of pandas in the next major release of pandas (pandas 3.0),\n",
      "(to allow more performant data types, such as the Arrow string type, and better interoperability with other libraries)\n",
      "but was not found to be installed on your system.\n",
      "If this would cause problems for you,\n",
      "please provide us feedback at https://github.com/pandas-dev/pandas/issues/54466\n",
      "        \n",
      "  import pandas as pd\n"
     ]
    }
   ],
   "source": [
    "import pandas as pd\n",
    "from pathlib import Path\n",
    "import numpy as np"
   ]
  },
  {
   "cell_type": "code",
   "execution_count": 2,
   "id": "802551ba",
   "metadata": {
    "execution": {
     "iopub.execute_input": "2024-02-05T12:14:13.072443Z",
     "iopub.status.busy": "2024-02-05T12:14:13.071990Z",
     "iopub.status.idle": "2024-02-05T12:14:13.075992Z",
     "shell.execute_reply": "2024-02-05T12:14:13.075523Z"
    },
    "papermill": {
     "duration": 0.014803,
     "end_time": "2024-02-05T12:14:13.077211",
     "exception": false,
     "start_time": "2024-02-05T12:14:13.062408",
     "status": "completed"
    },
    "tags": []
   },
   "outputs": [
    {
     "name": "stdout",
     "output_type": "stream",
     "text": [
      "Reading raw pandas files from \n",
      "    /home/sebastian/Nextcloud/Projekte/2021_DAAD_Brasilien/2023/RoBiMo_Trop_DataSet/notebooks/../data/preproc_data/ardupilot\n",
      "Reading raw pandas files from \n",
      "    /home/sebastian/Nextcloud/Projekte/2021_DAAD_Brasilien/2023/RoBiMo_Trop_DataSet/notebooks/../data/preproc_data/measurements\n",
      "Writing merged pandas file to \n",
      "    /home/sebastian/Nextcloud/Projekte/2021_DAAD_Brasilien/2023/RoBiMo_Trop_DataSet/notebooks/../results\n"
     ]
    }
   ],
   "source": [
    "input_data_folder_base = Path(\"../data/preproc_data/\")\n",
    "output_data_folder_base = Path(\"../results/\")\n",
    "ardupilot_sub_folder = Path(\"./ardupilot\")\n",
    "measurement_sub_folder = Path(\"./measurements\")\n",
    "\n",
    "ardupilot_input_data_folder = Path.cwd() / input_data_folder_base / ardupilot_sub_folder \n",
    "measurement_input_data_folder = Path.cwd() / input_data_folder_base / measurement_sub_folder \n",
    "print(f\"Reading raw pandas files from \\n    {ardupilot_input_data_folder}\")\n",
    "print(f\"Reading raw pandas files from \\n    {measurement_input_data_folder}\")\n",
    "\n",
    "output_data_folder = Path.cwd() / output_data_folder_base  \n",
    "print(f\"Writing merged pandas file to \\n    {output_data_folder}\")\n",
    "\n",
    "overall_collection_file_name = \"overall_collection_2023\"\n",
    "key_parameter_file_name = \"key_parameter_2023\""
   ]
  },
  {
   "cell_type": "code",
   "execution_count": 3,
   "id": "325c06ba",
   "metadata": {
    "execution": {
     "iopub.execute_input": "2024-02-05T12:14:13.080394Z",
     "iopub.status.busy": "2024-02-05T12:14:13.080161Z",
     "iopub.status.idle": "2024-02-05T12:14:56.303491Z",
     "shell.execute_reply": "2024-02-05T12:14:56.303032Z"
    },
    "papermill": {
     "duration": 43.226102,
     "end_time": "2024-02-05T12:14:56.304402",
     "exception": false,
     "start_time": "2024-02-05T12:14:13.078300",
     "status": "completed"
    },
    "tags": []
   },
   "outputs": [
    {
     "name": "stdout",
     "output_type": "stream",
     "text": [
      "040323-200000-AP.p - duration 2023-03-04 20:00:00 - 2023-03-11 20:17:04\n",
      "     100323-121503-ADC.p - duration 2023-03-10 12:15:03 - 2023-03-10 12:20:04\n",
      "     100323-161556-ADC.p - duration 2023-03-10 16:15:56 - 2023-03-10 16:20:57\n"
     ]
    },
    {
     "name": "stdout",
     "output_type": "stream",
     "text": [
      "     100323-150800-ADC.p - duration 2023-03-10 15:08:00 - 2023-03-10 15:38:40\n"
     ]
    },
    {
     "name": "stdout",
     "output_type": "stream",
     "text": [
      "     090323-154804-ADC.p - duration 2023-03-09 15:48:04 - 2023-03-09 15:53:05\n",
      "     060323-122504-ADC.p - duration 2023-03-06 12:25:04 - 2023-03-06 12:30:00\n"
     ]
    },
    {
     "name": "stdout",
     "output_type": "stream",
     "text": [
      "     070323-125948-ADC.p - duration 2023-03-07 12:59:48 - 2023-03-07 13:04:48\n",
      "     070323-143035-ADC.p - duration 2023-03-07 14:30:35 - 2023-03-07 15:01:06\n"
     ]
    },
    {
     "name": "stdout",
     "output_type": "stream",
     "text": [
      "     090323-111354-ADC.p - duration 2023-03-09 11:13:54 - 2023-03-09 11:18:55\n",
      "     060323-134603-ADC.p - duration 2023-03-06 13:46:03 - 2023-03-06 13:51:04\n"
     ]
    },
    {
     "name": "stdout",
     "output_type": "stream",
     "text": [
      "     060323-135803-ADC.p - duration 2023-03-06 13:58:03 - 2023-03-06 14:03:04\n",
      "     100323-122603-ADC.p - duration 2023-03-10 12:26:03 - 2023-03-10 12:31:03\n"
     ]
    },
    {
     "name": "stdout",
     "output_type": "stream",
     "text": [
      "     060323-153001-ADC.p - duration 2023-03-06 15:30:01 - 2023-03-06 15:35:01\n",
      "     070323-123548-ADC.p - duration 2023-03-07 12:35:48 - 2023-03-07 12:40:44\n"
     ]
    },
    {
     "name": "stdout",
     "output_type": "stream",
     "text": [
      "     090323-132334-ADC.p - duration 2023-03-09 13:23:34 - 2023-03-09 13:28:34\n",
      "     100323-130723-ADC.p - duration 2023-03-10 13:07:23 - 2023-03-10 13:38:12\n"
     ]
    },
    {
     "name": "stdout",
     "output_type": "stream",
     "text": [
      "     060323-151800-ADC.p - duration 2023-03-06 15:18:00 - 2023-03-06 15:23:01\n",
      "     090323-133533-ADC.p - duration 2023-03-09 13:35:33 - 2023-03-09 14:06:04\n"
     ]
    },
    {
     "name": "stdout",
     "output_type": "stream",
     "text": [
      "     100323-160302-ADC.p - duration 2023-03-10 16:03:02 - 2023-03-10 16:08:03\n",
      "     090323-131134-ADC.p - duration 2023-03-09 13:11:34 - 2023-03-09 13:16:35\n"
     ]
    },
    {
     "name": "stdout",
     "output_type": "stream",
     "text": [
      "     070323-113852-ADC.p - duration 2023-03-07 11:38:52 - 2023-03-07 11:43:53\n",
      "     060323-154200-ADC.p - duration 2023-03-06 15:42:00 - 2023-03-06 15:47:01\n"
     ]
    },
    {
     "name": "stdout",
     "output_type": "stream",
     "text": [
      "     090323-112553-ADC.p - duration 2023-03-09 11:25:53 - 2023-03-09 11:30:54\n",
      "     090323-125935-ADC.p - duration 2023-03-09 12:59:35 - 2023-03-09 13:04:36\n"
     ]
    },
    {
     "name": "stdout",
     "output_type": "stream",
     "text": [
      "     090323-160003-ADC.p - duration 2023-03-09 16:00:03 - 2023-03-09 16:05:04\n",
      "     070323-135435-ADC.p - duration 2023-03-07 13:54:35 - 2023-03-07 13:59:35\n"
     ]
    },
    {
     "name": "stdout",
     "output_type": "stream",
     "text": [
      "     060323-142205-ADC.p - duration 2023-03-06 14:22:05 - 2023-03-06 14:52:36\n"
     ]
    },
    {
     "name": "stdout",
     "output_type": "stream",
     "text": [
      "     070323-141835-ADC.p - duration 2023-03-07 14:18:35 - 2023-03-07 14:23:36\n",
      "     070323-140635-ADC.p - duration 2023-03-07 14:06:35 - 2023-03-07 14:11:36\n"
     ]
    },
    {
     "name": "stdout",
     "output_type": "stream",
     "text": [
      "     110323-185718-ADC.p - duration 2023-03-11 18:57:18 - 2023-03-11 19:02:19\n",
      "     110323-190818-ADC.p - duration 2023-03-11 19:08:18 - 2023-03-11 19:13:19\n"
     ]
    },
    {
     "name": "stdout",
     "output_type": "stream",
     "text": [
      "     070323-131148-ADC.p - duration 2023-03-07 13:11:48 - 2023-03-07 13:42:19\n"
     ]
    },
    {
     "name": "stdout",
     "output_type": "stream",
     "text": [
      "     110323-191917-ADC.p - duration 2023-03-11 19:19:17 - 2023-03-11 19:24:18\n",
      "     060323-114210-ADC.p - duration 2023-03-06 11:42:10 - 2023-03-06 12:12:41\n"
     ]
    },
    {
     "name": "stdout",
     "output_type": "stream",
     "text": [
      "     090323-153605-ADC.p - duration 2023-03-09 15:36:05 - 2023-03-09 15:41:06\n",
      "     070323-151015-ADC.p - duration 2023-03-07 15:10:15 - 2023-03-07 15:44:27\n"
     ]
    },
    {
     "name": "stdout",
     "output_type": "stream",
     "text": [
      "     070323-124747-ADC.p - duration 2023-03-07 12:47:47 - 2023-03-07 12:52:48\n",
      "     070323-115053-ADC.p - duration 2023-03-07 11:50:53 - 2023-03-07 12:21:24\n"
     ]
    },
    {
     "name": "stdout",
     "output_type": "stream",
     "text": [
      "     060323-141004-ADC.p - duration 2023-03-06 14:10:04 - 2023-03-06 14:15:05\n",
      "     060323-123727-ADC.p - duration 2023-03-06 12:37:27 - 2023-03-06 12:42:23\n"
     ]
    },
    {
     "name": "stdout",
     "output_type": "stream",
     "text": [
      "     090323-113753-ADC.p - duration 2023-03-09 11:37:53 - 2023-03-09 11:42:53\n",
      "     060323-125003-ADC.p - duration 2023-03-06 12:50:03 - 2023-03-06 12:55:04\n"
     ]
    },
    {
     "name": "stdout",
     "output_type": "stream",
     "text": [
      "     100323-155137-ADC.p - duration 2023-03-10 15:51:37 - 2023-03-10 15:56:38\n",
      "     060323-155401-ADC.p - duration 2023-03-06 15:54:01 - 2023-03-06 16:24:32\n"
     ]
    },
    {
     "name": "stdout",
     "output_type": "stream",
     "text": [
      "     110323-184618-ADC.p - duration 2023-03-11 18:46:18 - 2023-03-11 18:51:19\n",
      "     090323-114952-ADC.p - duration 2023-03-09 11:49:52 - 2023-03-09 12:20:24\n"
     ]
    },
    {
     "name": "stdout",
     "output_type": "stream",
     "text": [
      "     070323-112653-ADC.p - duration 2023-03-07 11:26:53 - 2023-03-07 11:31:50\n",
      "     070323-111452-ADC.p - duration 2023-03-07 11:14:52 - 2023-03-07 11:19:53\n"
     ]
    },
    {
     "name": "stdout",
     "output_type": "stream",
     "text": [
      "     100323-123702-ADC.p - duration 2023-03-10 12:37:02 - 2023-03-10 12:42:03\n",
      "090323-101520-AP.p - duration 2023-03-09 10:15:20 - 2023-03-09 10:57:48\n"
     ]
    },
    {
     "name": "stdout",
     "output_type": "stream",
     "text": [
      "100323-120140-AP.p - duration 2023-03-10 12:01:40 - 2023-03-10 17:08:00\n",
      "     100323-121503-ADC.p - duration 2023-03-10 12:15:03 - 2023-03-10 12:20:04\n",
      "     100323-161556-ADC.p - duration 2023-03-10 16:15:56 - 2023-03-10 16:20:57\n"
     ]
    },
    {
     "name": "stdout",
     "output_type": "stream",
     "text": [
      "     100323-150800-ADC.p - duration 2023-03-10 15:08:00 - 2023-03-10 15:38:40\n"
     ]
    },
    {
     "name": "stdout",
     "output_type": "stream",
     "text": [
      "     100323-122603-ADC.p - duration 2023-03-10 12:26:03 - 2023-03-10 12:31:03\n",
      "     100323-130723-ADC.p - duration 2023-03-10 13:07:23 - 2023-03-10 13:38:12\n"
     ]
    },
    {
     "name": "stdout",
     "output_type": "stream",
     "text": [
      "     100323-160302-ADC.p - duration 2023-03-10 16:03:02 - 2023-03-10 16:08:03\n",
      "     100323-155137-ADC.p - duration 2023-03-10 15:51:37 - 2023-03-10 15:56:38\n"
     ]
    },
    {
     "name": "stdout",
     "output_type": "stream",
     "text": [
      "     100323-123702-ADC.p - duration 2023-03-10 12:37:02 - 2023-03-10 12:42:03\n",
      "010323-182204-AP.p - duration 2023-03-01 18:22:04 - 2023-03-01 18:35:52\n",
      "020323-132955-AP.p - duration 2023-03-02 13:29:55 - 2023-03-02 15:15:46\n"
     ]
    },
    {
     "name": "stdout",
     "output_type": "stream",
     "text": [
      "     020323-141100-ADC.p - duration 2023-03-02 14:11:00 - 2023-03-02 14:15:56\n",
      "     020323-134657-ADC.p - duration 2023-03-02 13:46:57 - 2023-03-02 13:51:57\n"
     ]
    },
    {
     "name": "stdout",
     "output_type": "stream",
     "text": [
      "     020323-142301-ADC.p - duration 2023-03-02 14:23:01 - 2023-03-02 14:53:32\n"
     ]
    },
    {
     "name": "stdout",
     "output_type": "stream",
     "text": [
      "     020323-135858-ADC.p - duration 2023-03-02 13:58:58 - 2023-03-02 14:03:54\n",
      "020323-094002-AP.p - duration 2023-03-02 09:40:02 - 2023-03-02 13:27:30\n",
      "     020323-102506-ADC.p - duration 2023-03-02 10:25:06 - 2023-03-02 10:55:38\n"
     ]
    },
    {
     "name": "stdout",
     "output_type": "stream",
     "text": [
      "     020323-101305-ADC.p - duration 2023-03-02 10:13:05 - 2023-03-02 10:18:06\n",
      "     020323-094903-ADC.p - duration 2023-03-02 09:49:03 - 2023-03-02 09:54:04\n"
     ]
    },
    {
     "name": "stdout",
     "output_type": "stream",
     "text": [
      "     020323-120541-ADC.p - duration 2023-03-02 12:05:41 - 2023-03-02 12:10:37\n",
      "     020323-121742-ADC.p - duration 2023-03-02 12:17:42 - 2023-03-02 12:22:38\n"
     ]
    },
    {
     "name": "stdout",
     "output_type": "stream",
     "text": [
      "     020323-115339-ADC.p - duration 2023-03-02 11:53:39 - 2023-03-02 11:58:40\n",
      "     020323-100105-ADC.p - duration 2023-03-02 10:01:05 - 2023-03-02 10:06:01\n"
     ]
    },
    {
     "name": "stdout",
     "output_type": "stream",
     "text": [
      "     020323-122941-ADC.p - duration 2023-03-02 12:29:41 - 2023-03-02 13:00:14\n"
     ]
    },
    {
     "name": "stdout",
     "output_type": "stream",
     "text": [
      "090323-105825-AP.p - duration 2023-03-09 10:58:25 - 2023-03-09 16:43:48\n",
      "     090323-154804-ADC.p - duration 2023-03-09 15:48:04 - 2023-03-09 15:53:05\n",
      "     090323-111354-ADC.p - duration 2023-03-09 11:13:54 - 2023-03-09 11:18:55\n"
     ]
    },
    {
     "name": "stdout",
     "output_type": "stream",
     "text": [
      "     090323-132334-ADC.p - duration 2023-03-09 13:23:34 - 2023-03-09 13:28:34\n",
      "     090323-133533-ADC.p - duration 2023-03-09 13:35:33 - 2023-03-09 14:06:04\n"
     ]
    },
    {
     "name": "stdout",
     "output_type": "stream",
     "text": [
      "     090323-131134-ADC.p - duration 2023-03-09 13:11:34 - 2023-03-09 13:16:35\n",
      "     090323-112553-ADC.p - duration 2023-03-09 11:25:53 - 2023-03-09 11:30:54\n"
     ]
    },
    {
     "name": "stdout",
     "output_type": "stream",
     "text": [
      "     090323-125935-ADC.p - duration 2023-03-09 12:59:35 - 2023-03-09 13:04:36\n",
      "     090323-160003-ADC.p - duration 2023-03-09 16:00:03 - 2023-03-09 16:05:04\n"
     ]
    },
    {
     "name": "stdout",
     "output_type": "stream",
     "text": [
      "     090323-153605-ADC.p - duration 2023-03-09 15:36:05 - 2023-03-09 15:41:06\n",
      "     090323-113753-ADC.p - duration 2023-03-09 11:37:53 - 2023-03-09 11:42:53\n"
     ]
    },
    {
     "name": "stdout",
     "output_type": "stream",
     "text": [
      "     090323-114952-ADC.p - duration 2023-03-09 11:49:52 - 2023-03-09 12:20:24\n"
     ]
    },
    {
     "name": "stdout",
     "output_type": "stream",
     "text": [
      "010323-212223-AP.p - duration 2023-03-01 21:22:23 - 2023-03-02 00:44:04\n",
      "     010323-234204-ADC.p - duration 2023-03-01 23:42:04 - 2023-03-01 23:47:05\n"
     ]
    },
    {
     "name": "stdout",
     "output_type": "stream",
     "text": [
      "     010323-231438-ADC.p - duration 2023-03-01 23:14:38 - 2023-03-01 23:19:34\n",
      "     010323-213810-ADC.p - duration 2023-03-01 21:38:10 - 2023-03-01 21:43:10\n"
     ]
    },
    {
     "name": "stdout",
     "output_type": "stream",
     "text": [
      "     010323-235406-ADC.p - duration 2023-03-01 23:54:06 - 2023-03-02 00:24:37\n"
     ]
    },
    {
     "name": "stdout",
     "output_type": "stream",
     "text": [
      "     010323-230237-ADC.p - duration 2023-03-01 23:02:37 - 2023-03-01 23:07:33\n",
      "     010323-225036-ADC.p - duration 2023-03-01 22:50:36 - 2023-03-01 22:55:36\n"
     ]
    },
    {
     "name": "stdout",
     "output_type": "stream",
     "text": [
      "     010323-223834-ADC.p - duration 2023-03-01 22:38:34 - 2023-03-01 22:43:35\n",
      "     010323-232639-ADC.p - duration 2023-03-01 23:26:39 - 2023-03-01 23:31:35\n"
     ]
    },
    {
     "name": "stdout",
     "output_type": "stream",
     "text": [
      "     010323-215011-ADC.p - duration 2023-03-01 21:50:11 - 2023-03-01 22:20:42\n"
     ]
    },
    {
     "name": "stdout",
     "output_type": "stream",
     "text": [
      "100323-114646-AP.p - duration 2023-03-10 11:46:46 - 2023-03-10 12:00:55\n",
      "030323-104517-AP.p - duration 2023-03-03 10:45:17 - 2023-03-03 16:18:19\n",
      "     030323-132111-ADC.p - duration 2023-03-03 13:21:11 - 2023-03-03 13:26:07\n",
      "     030323-133312-ADC.p - duration 2023-03-03 13:33:12 - 2023-03-03 13:38:08\n"
     ]
    },
    {
     "name": "stdout",
     "output_type": "stream",
     "text": [
      "     030323-151336-ADC.p - duration 2023-03-03 15:13:36 - 2023-03-03 15:18:32\n",
      "     030323-110322-ADC.p - duration 2023-03-03 11:03:22 - 2023-03-03 11:08:23\n"
     ]
    },
    {
     "name": "stdout",
     "output_type": "stream",
     "text": [
      "     030323-152537-ADC.p - duration 2023-03-03 15:25:37 - 2023-03-03 15:56:08\n"
     ]
    },
    {
     "name": "stdout",
     "output_type": "stream",
     "text": [
      "     030323-113926-ADC.p - duration 2023-03-03 11:39:26 - 2023-03-03 12:09:57\n"
     ]
    },
    {
     "name": "stdout",
     "output_type": "stream",
     "text": [
      "     030323-130906-ADC.p - duration 2023-03-03 13:09:06 - 2023-03-03 13:14:02\n",
      "     030323-144934-ADC.p - duration 2023-03-03 14:49:34 - 2023-03-03 14:54:34\n"
     ]
    },
    {
     "name": "stdout",
     "output_type": "stream",
     "text": [
      "     030323-150135-ADC.p - duration 2023-03-03 15:01:35 - 2023-03-03 15:06:31\n",
      "     030323-112725-ADC.p - duration 2023-03-03 11:27:25 - 2023-03-03 11:32:21\n"
     ]
    },
    {
     "name": "stdout",
     "output_type": "stream",
     "text": [
      "     030323-111524-ADC.p - duration 2023-03-03 11:15:24 - 2023-03-03 11:20:20\n",
      "     030323-134512-ADC.p - duration 2023-03-03 13:45:12 - 2023-03-03 14:15:44\n"
     ]
    },
    {
     "name": "stdout",
     "output_type": "stream",
     "text": [
      "110323-202629-AP.p - duration 2023-03-11 20:26:29 - 2023-03-11 23:25:19\n",
      "     110323-220030-ADC.p - duration 2023-03-11 22:00:30 - 2023-03-11 22:05:31\n",
      "     110323-221130-ADC.p - duration 2023-03-11 22:11:30 - 2023-03-11 22:16:31\n"
     ]
    },
    {
     "name": "stdout",
     "output_type": "stream",
     "text": [
      "     110323-203716-ADC.p - duration 2023-03-11 20:37:16 - 2023-03-11 20:42:17\n",
      "     110323-222229-ADC.p - duration 2023-03-11 22:22:29 - 2023-03-11 22:53:10\n"
     ]
    },
    {
     "name": "stdout",
     "output_type": "stream",
     "text": [
      "     110323-204816-ADC.p - duration 2023-03-11 20:48:16 - 2023-03-11 20:53:16\n",
      "     110323-214930-ADC.p - duration 2023-03-11 21:49:30 - 2023-03-11 21:54:31\n"
     ]
    },
    {
     "name": "stdout",
     "output_type": "stream",
     "text": [
      "     110323-211015-ADC.p - duration 2023-03-11 21:10:15 - 2023-03-11 21:40:55\n"
     ]
    },
    {
     "name": "stdout",
     "output_type": "stream",
     "text": [
      "     110323-205915-ADC.p - duration 2023-03-11 20:59:15 - 2023-03-11 21:04:16\n",
      "090323-165002-AP.p - duration 2023-03-09 16:50:02 - 2023-03-09 18:56:11\n",
      "040323-112700-AP.p - duration 2023-03-04 11:27:00 - 2023-03-04 16:01:44\n",
      "     040323-115351-ADC.p - duration 2023-03-04 11:53:51 - 2023-03-04 11:58:48\n"
     ]
    },
    {
     "name": "stdout",
     "output_type": "stream",
     "text": [
      "     040323-151128-ADC.p - duration 2023-03-04 15:11:28 - 2023-03-04 15:42:00\n"
     ]
    },
    {
     "name": "stdout",
     "output_type": "stream",
     "text": [
      "     040323-141149-ADC.p - duration 2023-03-04 14:11:49 - 2023-03-04 14:42:20\n"
     ]
    },
    {
     "name": "stdout",
     "output_type": "stream",
     "text": [
      "     040323-134749-ADC.p - duration 2023-03-04 13:47:49 - 2023-03-04 13:52:45\n",
      "     040323-120551-ADC.p - duration 2023-03-04 12:05:51 - 2023-03-04 12:10:51\n"
     ]
    },
    {
     "name": "stdout",
     "output_type": "stream",
     "text": [
      "     040323-135950-ADC.p - duration 2023-03-04 13:59:50 - 2023-03-04 14:04:46\n",
      "     040323-121752-ADC.p - duration 2023-03-04 12:17:52 - 2023-03-04 12:48:24\n"
     ]
    },
    {
     "name": "stdout",
     "output_type": "stream",
     "text": [
      "     040323-133547-ADC.p - duration 2023-03-04 13:35:47 - 2023-03-04 13:40:48\n",
      "     040323-114150-ADC.p - duration 2023-03-04 11:41:50 - 2023-03-04 11:46:51\n"
     ]
    },
    {
     "name": "stdout",
     "output_type": "stream",
     "text": [
      "060323-131115-AP.p - duration 2023-03-06 13:11:15 - 2023-03-06 17:19:19\n",
      "     060323-134603-ADC.p - duration 2023-03-06 13:46:03 - 2023-03-06 13:51:04\n",
      "     060323-135803-ADC.p - duration 2023-03-06 13:58:03 - 2023-03-06 14:03:04\n"
     ]
    },
    {
     "name": "stdout",
     "output_type": "stream",
     "text": [
      "     060323-153001-ADC.p - duration 2023-03-06 15:30:01 - 2023-03-06 15:35:01\n",
      "     060323-151800-ADC.p - duration 2023-03-06 15:18:00 - 2023-03-06 15:23:01\n"
     ]
    },
    {
     "name": "stdout",
     "output_type": "stream",
     "text": [
      "     060323-154200-ADC.p - duration 2023-03-06 15:42:00 - 2023-03-06 15:47:01\n",
      "     060323-142205-ADC.p - duration 2023-03-06 14:22:05 - 2023-03-06 14:52:36\n"
     ]
    },
    {
     "name": "stdout",
     "output_type": "stream",
     "text": [
      "     060323-141004-ADC.p - duration 2023-03-06 14:10:04 - 2023-03-06 14:15:05\n",
      "     060323-155401-ADC.p - duration 2023-03-06 15:54:01 - 2023-03-06 16:24:32\n"
     ]
    },
    {
     "name": "stdout",
     "output_type": "stream",
     "text": [
      "030323-220439-AP.p - duration 2023-03-03 22:04:39 - 2023-03-04 00:52:43\n",
      "     030323-235352-ADC.p - duration 2023-03-03 23:53:52 - 2023-03-03 23:58:53\n",
      "     030323-234151-ADC.p - duration 2023-03-03 23:41:51 - 2023-03-03 23:46:52\n"
     ]
    },
    {
     "name": "stdout",
     "output_type": "stream",
     "text": [
      "     030323-221516-ADC.p - duration 2023-03-03 22:15:16 - 2023-03-03 22:20:17\n",
      "     030323-223919-ADC.p - duration 2023-03-03 22:39:19 - 2023-03-03 22:44:15\n"
     ]
    },
    {
     "name": "stdout",
     "output_type": "stream",
     "text": [
      "     030323-232950-ADC.p - duration 2023-03-03 23:29:50 - 2023-03-03 23:34:50\n",
      "     030323-222718-ADC.p - duration 2023-03-03 22:27:18 - 2023-03-03 22:32:14\n"
     ]
    },
    {
     "name": "stdout",
     "output_type": "stream",
     "text": [
      "     040323-000553-ADC.p - duration 2023-03-04 00:05:53 - 2023-03-04 00:36:25\n"
     ]
    },
    {
     "name": "stdout",
     "output_type": "stream",
     "text": [
      "     030323-225120-ADC.p - duration 2023-03-03 22:51:20 - 2023-03-03 23:21:51\n"
     ]
    },
    {
     "name": "stdout",
     "output_type": "stream",
     "text": [
      "010323-134619-AP.p - duration 2023-03-01 13:46:19 - 2023-03-01 16:42:39\n",
      "     010323-143117-ADC.p - duration 2023-03-01 14:31:17 - 2023-03-01 14:36:18\n",
      "     010323-140717-ADC.p - duration 2023-03-01 14:07:17 - 2023-03-01 14:12:17\n"
     ]
    },
    {
     "name": "stdout",
     "output_type": "stream",
     "text": [
      "     010323-141917-ADC.p - duration 2023-03-01 14:19:17 - 2023-03-01 14:24:18\n",
      "     010323-144317-ADC.p - duration 2023-03-01 14:43:17 - 2023-03-01 15:13:49\n"
     ]
    },
    {
     "name": "stdout",
     "output_type": "stream",
     "text": [
      "060323-102818-AP.p - duration 2023-03-06 10:28:18 - 2023-03-06 13:09:56\n",
      "     060323-122504-ADC.p - duration 2023-03-06 12:25:04 - 2023-03-06 12:30:00\n",
      "     060323-114210-ADC.p - duration 2023-03-06 11:42:10 - 2023-03-06 12:12:41\n"
     ]
    },
    {
     "name": "stdout",
     "output_type": "stream",
     "text": [
      "     060323-123727-ADC.p - duration 2023-03-06 12:37:27 - 2023-03-06 12:42:23\n",
      "     060323-125003-ADC.p - duration 2023-03-06 12:50:03 - 2023-03-06 12:55:04\n"
     ]
    },
    {
     "name": "stdout",
     "output_type": "stream",
     "text": [
      "070323-101810-AP.p - duration 2023-03-07 10:18:10 - 2023-03-07 15:47:43\n",
      "     070323-125948-ADC.p - duration 2023-03-07 12:59:48 - 2023-03-07 13:04:48\n",
      "     070323-143035-ADC.p - duration 2023-03-07 14:30:35 - 2023-03-07 15:01:06\n"
     ]
    },
    {
     "name": "stdout",
     "output_type": "stream",
     "text": [
      "     070323-123548-ADC.p - duration 2023-03-07 12:35:48 - 2023-03-07 12:40:44\n",
      "     070323-113852-ADC.p - duration 2023-03-07 11:38:52 - 2023-03-07 11:43:53\n"
     ]
    },
    {
     "name": "stdout",
     "output_type": "stream",
     "text": [
      "     070323-135435-ADC.p - duration 2023-03-07 13:54:35 - 2023-03-07 13:59:35\n",
      "     070323-141835-ADC.p - duration 2023-03-07 14:18:35 - 2023-03-07 14:23:36\n"
     ]
    },
    {
     "name": "stdout",
     "output_type": "stream",
     "text": [
      "     070323-140635-ADC.p - duration 2023-03-07 14:06:35 - 2023-03-07 14:11:36\n",
      "     070323-131148-ADC.p - duration 2023-03-07 13:11:48 - 2023-03-07 13:42:19\n"
     ]
    },
    {
     "name": "stdout",
     "output_type": "stream",
     "text": [
      "     070323-151015-ADC.p - duration 2023-03-07 15:10:15 - 2023-03-07 15:44:27\n"
     ]
    },
    {
     "name": "stdout",
     "output_type": "stream",
     "text": [
      "     070323-124747-ADC.p - duration 2023-03-07 12:47:47 - 2023-03-07 12:52:48\n",
      "     070323-115053-ADC.p - duration 2023-03-07 11:50:53 - 2023-03-07 12:21:24\n"
     ]
    },
    {
     "name": "stdout",
     "output_type": "stream",
     "text": [
      "     070323-112653-ADC.p - duration 2023-03-07 11:26:53 - 2023-03-07 11:31:50\n",
      "     070323-111452-ADC.p - duration 2023-03-07 11:14:52 - 2023-03-07 11:19:53\n"
     ]
    },
    {
     "name": "stdout",
     "output_type": "stream",
     "text": [
      "... saving to overall_collection_2023.p\n"
     ]
    }
   ],
   "source": [
    "columns = ['CO2(ppm)', 'airtemp in(degreeC)', 'humidity in(rH)', 'pressure in(mbar)',\n",
    "           'airtemp out(degreeC)', 'humidity out(rH)', 'pressure out(mbar)', \n",
    "           'PAR(umol m-2s-1)', 'H2O temp(degreeC)']\n",
    "\n",
    "df_summary = pd.DataFrame()\n",
    "\n",
    "for file in list(ardupilot_input_data_folder.rglob(\"*.p\")):\n",
    "    df_ap=pd.read_pickle(file)\n",
    "    print(f\"{file.name} - duration {df_ap.index.min()} - {df_ap.index.max()}\")\n",
    "\n",
    "    # Add state information and file \n",
    "    # Merge data from measurement files\n",
    "    df_ap['meas_running'] = False\n",
    "    df_ap['corresponding_meas_file'] = \"\"\n",
    "    df_ap[columns]=np.nan\n",
    "\n",
    "    for file in list(measurement_input_data_folder.rglob(\"*ADC.p\")):\n",
    "        df_meas=pd.read_pickle(file)\n",
    "        if (df_meas.index.max() < df_ap.index.max()) & (df_meas.index.min() > df_ap.index.min()):\n",
    "            print(f\"     {file.name} - duration {df_meas.index.min()} - {df_meas.index.max()}\")\n",
    "            df_ap.loc[(df_ap.index <= df_meas.index.max()) & (df_ap.index >= df_meas.index.min()), \"meas_running\"] = True\n",
    "            df_ap.loc[(df_ap.index <= df_meas.index.max()) & (df_ap.index >= df_meas.index.min()), \"corresponding_meas_file\"] = file.name\n",
    "\n",
    "            for index, row in df_meas.iterrows():\n",
    "                id = df_ap.index.searchsorted(index)\n",
    "                for entry in columns:\n",
    "                    df_ap.iloc[id, df_ap.columns.get_loc(entry)] = row[entry]\n",
    "\n",
    "    df_summary = pd.concat([df_summary, df_ap])\n",
    "\n",
    "result_file = output_data_folder / Path(overall_collection_file_name+\".p\") \n",
    "print(f\"... saving to {  Path(overall_collection_file_name+'.p')}\")\n",
    "df_summary.to_pickle(result_file)\n"
   ]
  },
  {
   "cell_type": "code",
   "execution_count": null,
   "id": "89de8b4f",
   "metadata": {
    "papermill": {
     "duration": 0.003934,
     "end_time": "2024-02-05T12:14:56.312847",
     "exception": false,
     "start_time": "2024-02-05T12:14:56.308913",
     "status": "completed"
    },
    "tags": []
   },
   "outputs": [],
   "source": []
  },
  {
   "cell_type": "code",
   "execution_count": null,
   "id": "02dbe926",
   "metadata": {
    "papermill": {
     "duration": 0.003746,
     "end_time": "2024-02-05T12:14:56.320418",
     "exception": false,
     "start_time": "2024-02-05T12:14:56.316672",
     "status": "completed"
    },
    "tags": []
   },
   "outputs": [],
   "source": []
  }
 ],
 "metadata": {
  "kernelspec": {
   "display_name": "data_aggregation-u0vYvf-n",
   "language": "python",
   "name": "python3"
  },
  "language_info": {
   "codemirror_mode": {
    "name": "ipython",
    "version": 3
   },
   "file_extension": ".py",
   "mimetype": "text/x-python",
   "name": "python",
   "nbconvert_exporter": "python",
   "pygments_lexer": "ipython3",
   "version": "3.10.12"
  },
  "papermill": {
   "default_parameters": {},
   "duration": 44.475709,
   "end_time": "2024-02-05T12:14:56.540107",
   "environment_variables": {},
   "exception": null,
   "input_path": "/home/sebastian/Nextcloud/Projekte/2021_DAAD_Brasilien/2023/RoBiMo_Trop_DataSet/notebooks/20_Merge_robot_measurements.ipynb",
   "output_path": "/home/sebastian/Nextcloud/Projekte/2021_DAAD_Brasilien/2023/RoBiMo_Trop_DataSet/notebooks/tmp/20_Merge_robot_measurements_run.ipynb",
   "parameters": {},
   "start_time": "2024-02-05T12:14:12.064398",
   "version": "2.5.0"
  }
 },
 "nbformat": 4,
 "nbformat_minor": 5
}