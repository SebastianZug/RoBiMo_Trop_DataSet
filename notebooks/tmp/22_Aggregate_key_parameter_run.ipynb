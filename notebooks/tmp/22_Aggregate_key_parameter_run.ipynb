{
 "cells": [
  {
   "cell_type": "code",
   "execution_count": 1,
   "id": "aa2d388f",
   "metadata": {
    "execution": {
     "iopub.execute_input": "2024-02-05T12:15:35.963648Z",
     "iopub.status.busy": "2024-02-05T12:15:35.963117Z",
     "iopub.status.idle": "2024-02-05T12:15:36.187531Z",
     "shell.execute_reply": "2024-02-05T12:15:36.187070Z"
    },
    "papermill": {
     "duration": 0.228208,
     "end_time": "2024-02-05T12:15:36.188518",
     "exception": false,
     "start_time": "2024-02-05T12:15:35.960310",
     "status": "completed"
    },
    "tags": []
   },
   "outputs": [
    {
     "name": "stderr",
     "output_type": "stream",
     "text": [
      "/tmp/ipykernel_577150/935555890.py:1: DeprecationWarning: \n",
      "Pyarrow will become a required dependency of pandas in the next major release of pandas (pandas 3.0),\n",
      "(to allow more performant data types, such as the Arrow string type, and better interoperability with other libraries)\n",
      "but was not found to be installed on your system.\n",
      "If this would cause problems for you,\n",
      "please provide us feedback at https://github.com/pandas-dev/pandas/issues/54466\n",
      "        \n",
      "  import pandas as pd\n"
     ]
    }
   ],
   "source": [
    "import pandas as pd\n",
    "from pathlib import Path\n",
    "import numpy as np\n",
    "import numpy as np\n",
    "import pickle\n",
    "import haversine as hs\n",
    "from haversine import Unit\n"
   ]
  },
  {
   "cell_type": "code",
   "execution_count": 2,
   "id": "81495bd4",
   "metadata": {
    "execution": {
     "iopub.execute_input": "2024-02-05T12:15:36.193123Z",
     "iopub.status.busy": "2024-02-05T12:15:36.192599Z",
     "iopub.status.idle": "2024-02-05T12:15:36.197067Z",
     "shell.execute_reply": "2024-02-05T12:15:36.196532Z"
    },
    "papermill": {
     "duration": 0.008104,
     "end_time": "2024-02-05T12:15:36.198161",
     "exception": false,
     "start_time": "2024-02-05T12:15:36.190057",
     "status": "completed"
    },
    "tags": []
   },
   "outputs": [
    {
     "name": "stdout",
     "output_type": "stream",
     "text": [
      "Reading raw pandas files from \n",
      "    /home/sebastian/Nextcloud/Projekte/2021_DAAD_Brasilien/2023/RoBiMo_Trop_DataSet/notebooks/../results\n",
      "Writing merged pandas file to \n",
      "    /home/sebastian/Nextcloud/Projekte/2021_DAAD_Brasilien/2023/RoBiMo_Trop_DataSet/notebooks/../results\n"
     ]
    }
   ],
   "source": [
    "input_data_folder_base = Path(\"../results/\")\n",
    "input_data_folder = Path.cwd() / input_data_folder_base\n",
    "overall_collection_file_name = \"overall_collection_2023.p\"\n",
    "key_parameter_file_name = \"key_parameter_2023.p\"\n",
    "print(f\"Reading raw pandas files from \\n    {input_data_folder}\")\n",
    "\n",
    "output_data_folder = input_data_folder\n",
    "print(f\"Writing merged pandas file to \\n    {output_data_folder}\")"
   ]
  },
  {
   "cell_type": "code",
   "execution_count": 3,
   "id": "2930456b",
   "metadata": {
    "execution": {
     "iopub.execute_input": "2024-02-05T12:15:36.201226Z",
     "iopub.status.busy": "2024-02-05T12:15:36.201038Z",
     "iopub.status.idle": "2024-02-05T12:15:36.235995Z",
     "shell.execute_reply": "2024-02-05T12:15:36.235511Z"
    },
    "papermill": {
     "duration": 0.037733,
     "end_time": "2024-02-05T12:15:36.237047",
     "exception": false,
     "start_time": "2024-02-05T12:15:36.199314",
     "status": "completed"
    },
    "tags": []
   },
   "outputs": [
    {
     "data": {
      "text/html": [
       "<div>\n",
       "<style scoped>\n",
       "    .dataframe tbody tr th:only-of-type {\n",
       "        vertical-align: middle;\n",
       "    }\n",
       "\n",
       "    .dataframe tbody tr th {\n",
       "        vertical-align: top;\n",
       "    }\n",
       "\n",
       "    .dataframe thead th {\n",
       "        text-align: right;\n",
       "    }\n",
       "</style>\n",
       "<table border=\"1\" class=\"dataframe\">\n",
       "  <thead>\n",
       "    <tr style=\"text-align: right;\">\n",
       "      <th></th>\n",
       "      <th>lat_est</th>\n",
       "      <th>lon_est</th>\n",
       "      <th>yaw_est</th>\n",
       "      <th>hdop</th>\n",
       "      <th>nsats</th>\n",
       "      <th>lat_meas</th>\n",
       "      <th>lon_meas</th>\n",
       "      <th>depth</th>\n",
       "      <th>experiment_location</th>\n",
       "      <th>meas_running</th>\n",
       "      <th>...</th>\n",
       "      <th>CO2(ppm)</th>\n",
       "      <th>airtemp in(degreeC)</th>\n",
       "      <th>humidity in(rH)</th>\n",
       "      <th>pressure in(mbar)</th>\n",
       "      <th>airtemp out(degreeC)</th>\n",
       "      <th>humidity out(rH)</th>\n",
       "      <th>pressure out(mbar)</th>\n",
       "      <th>PAR(umol m-2s-1)</th>\n",
       "      <th>H2O temp(degreeC)</th>\n",
       "      <th>position</th>\n",
       "    </tr>\n",
       "    <tr>\n",
       "      <th>datetime_AMT</th>\n",
       "      <th></th>\n",
       "      <th></th>\n",
       "      <th></th>\n",
       "      <th></th>\n",
       "      <th></th>\n",
       "      <th></th>\n",
       "      <th></th>\n",
       "      <th></th>\n",
       "      <th></th>\n",
       "      <th></th>\n",
       "      <th></th>\n",
       "      <th></th>\n",
       "      <th></th>\n",
       "      <th></th>\n",
       "      <th></th>\n",
       "      <th></th>\n",
       "      <th></th>\n",
       "      <th></th>\n",
       "      <th></th>\n",
       "      <th></th>\n",
       "      <th></th>\n",
       "    </tr>\n",
       "  </thead>\n",
       "  <tbody>\n",
       "    <tr>\n",
       "      <th>2023-03-04 20:00:00</th>\n",
       "      <td>-3.290738</td>\n",
       "      <td>-60.164893</td>\n",
       "      <td>111.314</td>\n",
       "      <td>2.59</td>\n",
       "      <td>6.0</td>\n",
       "      <td>-3.290751</td>\n",
       "      <td>-60.164883</td>\n",
       "      <td>7.617662</td>\n",
       "      <td>Iranduba</td>\n",
       "      <td>False</td>\n",
       "      <td>...</td>\n",
       "      <td>NaN</td>\n",
       "      <td>NaN</td>\n",
       "      <td>NaN</td>\n",
       "      <td>NaN</td>\n",
       "      <td>NaN</td>\n",
       "      <td>NaN</td>\n",
       "      <td>NaN</td>\n",
       "      <td>NaN</td>\n",
       "      <td>NaN</td>\n",
       "      <td>NaN</td>\n",
       "    </tr>\n",
       "    <tr>\n",
       "      <th>2023-03-11 18:30:37</th>\n",
       "      <td>-3.290886</td>\n",
       "      <td>-60.165142</td>\n",
       "      <td>162.084</td>\n",
       "      <td>0.83</td>\n",
       "      <td>15.0</td>\n",
       "      <td>-3.290886</td>\n",
       "      <td>-60.165141</td>\n",
       "      <td>5.512197</td>\n",
       "      <td>Iranduba</td>\n",
       "      <td>False</td>\n",
       "      <td>...</td>\n",
       "      <td>NaN</td>\n",
       "      <td>NaN</td>\n",
       "      <td>NaN</td>\n",
       "      <td>NaN</td>\n",
       "      <td>NaN</td>\n",
       "      <td>NaN</td>\n",
       "      <td>NaN</td>\n",
       "      <td>NaN</td>\n",
       "      <td>NaN</td>\n",
       "      <td>NaN</td>\n",
       "    </tr>\n",
       "    <tr>\n",
       "      <th>2023-03-11 18:30:38</th>\n",
       "      <td>-3.290886</td>\n",
       "      <td>-60.165140</td>\n",
       "      <td>172.000</td>\n",
       "      <td>0.78</td>\n",
       "      <td>17.0</td>\n",
       "      <td>-3.290886</td>\n",
       "      <td>-60.165140</td>\n",
       "      <td>5.475826</td>\n",
       "      <td>Iranduba</td>\n",
       "      <td>False</td>\n",
       "      <td>...</td>\n",
       "      <td>NaN</td>\n",
       "      <td>NaN</td>\n",
       "      <td>NaN</td>\n",
       "      <td>NaN</td>\n",
       "      <td>NaN</td>\n",
       "      <td>NaN</td>\n",
       "      <td>NaN</td>\n",
       "      <td>NaN</td>\n",
       "      <td>NaN</td>\n",
       "      <td>NaN</td>\n",
       "    </tr>\n",
       "  </tbody>\n",
       "</table>\n",
       "<p>3 rows × 21 columns</p>\n",
       "</div>"
      ],
      "text/plain": [
       "                      lat_est    lon_est  yaw_est  hdop  nsats  lat_meas  \\\n",
       "datetime_AMT                                                               \n",
       "2023-03-04 20:00:00 -3.290738 -60.164893  111.314  2.59    6.0 -3.290751   \n",
       "2023-03-11 18:30:37 -3.290886 -60.165142  162.084  0.83   15.0 -3.290886   \n",
       "2023-03-11 18:30:38 -3.290886 -60.165140  172.000  0.78   17.0 -3.290886   \n",
       "\n",
       "                      lon_meas     depth experiment_location  meas_running  \\\n",
       "datetime_AMT                                                                 \n",
       "2023-03-04 20:00:00 -60.164883  7.617662            Iranduba         False   \n",
       "2023-03-11 18:30:37 -60.165141  5.512197            Iranduba         False   \n",
       "2023-03-11 18:30:38 -60.165140  5.475826            Iranduba         False   \n",
       "\n",
       "                     ... CO2(ppm)  airtemp in(degreeC)  humidity in(rH)  \\\n",
       "datetime_AMT         ...                                                  \n",
       "2023-03-04 20:00:00  ...      NaN                  NaN              NaN   \n",
       "2023-03-11 18:30:37  ...      NaN                  NaN              NaN   \n",
       "2023-03-11 18:30:38  ...      NaN                  NaN              NaN   \n",
       "\n",
       "                     pressure in(mbar)  airtemp out(degreeC)  \\\n",
       "datetime_AMT                                                   \n",
       "2023-03-04 20:00:00                NaN                   NaN   \n",
       "2023-03-11 18:30:37                NaN                   NaN   \n",
       "2023-03-11 18:30:38                NaN                   NaN   \n",
       "\n",
       "                     humidity out(rH)  pressure out(mbar)  PAR(umol m-2s-1)  \\\n",
       "datetime_AMT                                                                  \n",
       "2023-03-04 20:00:00               NaN                 NaN               NaN   \n",
       "2023-03-11 18:30:37               NaN                 NaN               NaN   \n",
       "2023-03-11 18:30:38               NaN                 NaN               NaN   \n",
       "\n",
       "                     H2O temp(degreeC)  position  \n",
       "datetime_AMT                                      \n",
       "2023-03-04 20:00:00                NaN       NaN  \n",
       "2023-03-11 18:30:37                NaN       NaN  \n",
       "2023-03-11 18:30:38                NaN       NaN  \n",
       "\n",
       "[3 rows x 21 columns]"
      ]
     },
     "execution_count": 3,
     "metadata": {},
     "output_type": "execute_result"
    }
   ],
   "source": [
    "df_results = pd.read_pickle(input_data_folder / overall_collection_file_name)\n",
    "df_results.head(3)"
   ]
  },
  {
   "cell_type": "code",
   "execution_count": 4,
   "id": "21b97e24",
   "metadata": {
    "execution": {
     "iopub.execute_input": "2024-02-05T12:15:36.240603Z",
     "iopub.status.busy": "2024-02-05T12:15:36.240367Z",
     "iopub.status.idle": "2024-02-05T12:15:49.015763Z",
     "shell.execute_reply": "2024-02-05T12:15:49.015358Z"
    },
    "papermill": {
     "duration": 12.778651,
     "end_time": "2024-02-05T12:15:49.016979",
     "exception": false,
     "start_time": "2024-02-05T12:15:36.238328",
     "status": "completed"
    },
    "tags": []
   },
   "outputs": [
    {
     "name": "stderr",
     "output_type": "stream",
     "text": [
      "/tmp/ipykernel_577150/4272679115.py:9: FutureWarning: Setting an item of incompatible dtype is deprecated and will raise an error in a future version of pandas. Value '0.16432590718043794' has dtype incompatible with int64, please explicitly cast to a compatible dtype first.\n",
      "  df_results.at[index, \"distance(m)\"] = dist(row['lat_est'], row['lon_est'], row['old_lat'], row['old_lon'])\n"
     ]
    }
   ],
   "source": [
    "\n",
    "def dist(lat_0, lon_0, lat_1, lon_1):\n",
    "    return hs.haversine((lat_0, lon_0), (lat_1, lon_1), unit=Unit.METERS)\n",
    "\n",
    "df_results[\"distance(m)\"] = 0\n",
    "df_results[\"old_lat\"] = df_results[\"lat_est\"].shift(-1)\n",
    "df_results[\"old_lon\"] = df_results[\"lon_est\"].shift(-1)\n",
    "for index, row in df_results.iterrows():\n",
    "    if index != df_results.index[0]:\n",
    "        df_results.at[index, \"distance(m)\"] = dist(row['lat_est'], row['lon_est'], row['old_lat'], row['old_lon'])\n"
   ]
  },
  {
   "cell_type": "code",
   "execution_count": 5,
   "id": "41801d35",
   "metadata": {
    "execution": {
     "iopub.execute_input": "2024-02-05T12:15:49.028862Z",
     "iopub.status.busy": "2024-02-05T12:15:49.028646Z",
     "iopub.status.idle": "2024-02-05T12:15:49.428465Z",
     "shell.execute_reply": "2024-02-05T12:15:49.428126Z"
    },
    "papermill": {
     "duration": 0.410419,
     "end_time": "2024-02-05T12:15:49.429357",
     "exception": false,
     "start_time": "2024-02-05T12:15:49.018938",
     "status": "completed"
    },
    "tags": []
   },
   "outputs": [
    {
     "data": {
      "text/plain": [
       "Text(0.5, 1.0, 'Speed level [m/s]')"
      ]
     },
     "execution_count": 5,
     "metadata": {},
     "output_type": "execute_result"
    },
    {
     "data": {
      "image/png": "[encoded data removed]",
      "text/plain": [
       "<Figure size 640x480 with 1 Axes>"
      ]
     },
     "metadata": {},
     "output_type": "display_data"
    }
   ],
   "source": [
    "ax=df_results[df_results[\"distance(m)\"]<2][\"distance(m)\"].hist()\n",
    "ax.set_title(\"Speed level [m/s]\")"
   ]
  },
  {
   "cell_type": "code",
   "execution_count": 6,
   "id": "89b2ac5c",
   "metadata": {
    "execution": {
     "iopub.execute_input": "2024-02-05T12:15:49.443057Z",
     "iopub.status.busy": "2024-02-05T12:15:49.442623Z",
     "iopub.status.idle": "2024-02-05T12:15:49.484782Z",
     "shell.execute_reply": "2024-02-05T12:15:49.484416Z"
    },
    "papermill": {
     "duration": 0.054361,
     "end_time": "2024-02-05T12:15:49.485833",
     "exception": false,
     "start_time": "2024-02-05T12:15:49.431472",
     "status": "completed"
    },
    "tags": []
   },
   "outputs": [
    {
     "name": "stdout",
     "output_type": "stream",
     "text": [
      "    ... saving to \n",
      "        /home/sebastian/Nextcloud/Projekte/2021_DAAD_Brasilien/2023/RoBiMo_Trop_DataSet/notebooks/../results/key_parameter_2023.p\n"
     ]
    }
   ],
   "source": [
    "df_key_param = df_results[df_results.meas_running].reset_index()\\\n",
    "        .groupby('corresponding_meas_file')\\\n",
    "            .agg(start=('datetime_AMT', 'min'),\n",
    "                 end=('datetime_AMT', 'max'),\n",
    "                 experiment_location = ('experiment_location', 'first'),\n",
    "                 position = ('position', 'first'),\n",
    "                 lat_est_mean=('lat_est', 'mean'),\n",
    "                 lon_est_mean=('lon_est', 'mean'),\n",
    "                 hdop_max=('hdop', 'max'),\n",
    "                 nsats_min=('nsats', 'min'),\n",
    "                 CO2_min=('CO2(ppm)', 'min'),\n",
    "                 CO2_max=('CO2(ppm)', 'max'),\n",
    "                 humidity_in_mean=('humidity in(rH)', 'mean'),\n",
    "                 humidity_out_mean=('humidity out(rH)', 'mean'),\n",
    "                 airtemp_in_mean=('airtemp in(degreeC)', 'mean'),\n",
    "                 PAR_min=('PAR(umol m-2s-1)', 'min'),\n",
    "                 PAR_max=('PAR(umol m-2s-1)', 'max'),\n",
    "                 airtemp_out_mean=('airtemp out(degreeC)', 'mean'))\n",
    "\n",
    "result_file = output_data_folder / Path(key_parameter_file_name) \n",
    "print(f\"    ... saving to \\n        {result_file}\")\n",
    "df_key_param.to_pickle(result_file)"
   ]
  }
 ],
 "metadata": {
  "kernelspec": {
   "display_name": "data_aggregation-u0vYvf-n",
   "language": "python",
   "name": "python3"
  },
  "language_info": {
   "codemirror_mode": {
    "name": "ipython",
    "version": 3
   },
   "file_extension": ".py",
   "mimetype": "text/x-python",
   "name": "python",
   "nbconvert_exporter": "python",
   "pygments_lexer": "ipython3",
   "version": "3.10.12"
  },
  "papermill": {
   "default_parameters": {},
   "duration": 14.701828,
   "end_time": "2024-02-05T12:15:49.803826",
   "environment_variables": {},
   "exception": null,
   "input_path": "/home/sebastian/Nextcloud/Projekte/2021_DAAD_Brasilien/2023/RoBiMo_Trop_DataSet/notebooks/22_Aggregate_key_parameter.ipynb",
   "output_path": "/home/sebastian/Nextcloud/Projekte/2021_DAAD_Brasilien/2023/RoBiMo_Trop_DataSet/notebooks/tmp/22_Aggregate_key_parameter_run.ipynb",
   "parameters": {},
   "start_time": "2024-02-05T12:15:35.101998",
   "version": "2.5.0"
  }
 },
 "nbformat": 4,
 "nbformat_minor": 5
}