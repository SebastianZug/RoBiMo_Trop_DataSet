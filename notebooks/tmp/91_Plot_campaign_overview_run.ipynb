{
 "cells": [
  {
   "attachments": {},
   "cell_type": "markdown",
   "id": "d63e5ee4",
   "metadata": {
    "papermill": {
     "duration": 0.001387,
     "end_time": "2023-05-12T04:10:48.944774",
     "exception": false,
     "start_time": "2023-05-12T04:10:48.943387",
     "status": "completed"
    },
    "tags": []
   },
   "source": [
    "## Visualization of Robot missions"
   ]
  },
  {
   "cell_type": "code",
   "execution_count": 1,
   "id": "72269af3",
   "metadata": {
    "execution": {
     "iopub.execute_input": "2023-05-12T04:10:48.958017Z",
     "iopub.status.busy": "2023-05-12T04:10:48.957514Z",
     "iopub.status.idle": "2023-05-12T04:10:49.847183Z",
     "shell.execute_reply": "2023-05-12T04:10:49.846504Z"
    },
    "papermill": {
     "duration": 0.89475,
     "end_time": "2023-05-12T04:10:49.848774",
     "exception": false,
     "start_time": "2023-05-12T04:10:48.954024",
     "status": "completed"
    },
    "tags": []
   },
   "outputs": [],
   "source": [
    "from pathlib import Path\n",
    "import pandas as pd\n",
    "import contextily as cx\n",
    "import folium\n",
    "import branca.colormap as cm\n",
    "\n",
    "import matplotlib.pyplot as plt\n",
    "import pickle\n",
    "from matplotlib.ticker import FormatStrFormatter\n",
    "import matplotlib.gridspec as gridspec"
   ]
  },
  {
   "cell_type": "code",
   "execution_count": 2,
   "id": "be7acade",
   "metadata": {
    "execution": {
     "iopub.execute_input": "2023-05-12T04:10:49.854094Z",
     "iopub.status.busy": "2023-05-12T04:10:49.853469Z",
     "iopub.status.idle": "2023-05-12T04:10:49.859761Z",
     "shell.execute_reply": "2023-05-12T04:10:49.859035Z"
    },
    "papermill": {
     "duration": 0.010544,
     "end_time": "2023-05-12T04:10:49.861133",
     "exception": false,
     "start_time": "2023-05-12T04:10:49.850589",
     "status": "completed"
    },
    "tags": []
   },
   "outputs": [
    {
     "name": "stdout",
     "output_type": "stream",
     "text": [
      "Reading raw pandas files from \n",
      "    /home/sebastian/Nextcloud/Projekte/2021_DAAD_Brasilien/2023/RoBiMo_Trop_DataSet/notebooks/../results\n",
      "Writing website information to \n",
      "    ../html\n"
     ]
    }
   ],
   "source": [
    "input_data_folder_base = Path(\"../results/\")\n",
    "input_data_folder = Path.cwd() / input_data_folder_base\n",
    "overall_collection_file_name = \"overall_collection_2023.p\"\n",
    "key_parameter_file_name = \"key_parameter_2023.p\"\n",
    "cluster_positions_file_name = \"cluster_positions_2023.p\"\n",
    "print(f\"Reading raw pandas files from \\n    {input_data_folder}\")\n",
    "\n",
    "output_folder_base = Path(\"../html/\")\n",
    "output_image_folder = output_folder_base / Path(\"./images/\")\n",
    "print(f\"Writing website information to \\n    {output_folder_base}\")"
   ]
  },
  {
   "cell_type": "code",
   "execution_count": 3,
   "id": "a3260a0c",
   "metadata": {
    "execution": {
     "iopub.execute_input": "2023-05-12T04:10:49.865430Z",
     "iopub.status.busy": "2023-05-12T04:10:49.865087Z",
     "iopub.status.idle": "2023-05-12T04:10:49.894591Z",
     "shell.execute_reply": "2023-05-12T04:10:49.893986Z"
    },
    "papermill": {
     "duration": 0.033949,
     "end_time": "2023-05-12T04:10:49.896620",
     "exception": false,
     "start_time": "2023-05-12T04:10:49.862671",
     "status": "completed"
    },
    "tags": []
   },
   "outputs": [],
   "source": [
    "df_results = pd.read_pickle(input_data_folder / overall_collection_file_name)\n",
    "df_results[\"DayNight\"] = df_results['PAR(umol m-2s-1)'] == 0 "
   ]
  },
  {
   "cell_type": "code",
   "execution_count": 4,
   "id": "bb478c8c",
   "metadata": {
    "execution": {
     "iopub.execute_input": "2023-05-12T04:10:49.900525Z",
     "iopub.status.busy": "2023-05-12T04:10:49.900265Z",
     "iopub.status.idle": "2023-05-12T04:10:49.936541Z",
     "shell.execute_reply": "2023-05-12T04:10:49.936016Z"
    },
    "papermill": {
     "duration": 0.03958,
     "end_time": "2023-05-12T04:10:49.937718",
     "exception": false,
     "start_time": "2023-05-12T04:10:49.898138",
     "status": "completed"
    },
    "tags": []
   },
   "outputs": [
    {
     "data": {
      "text/plain": [
       "'| experiment_location   |   False |   True |\\n|:----------------------|--------:|-------:|\\n| Balbina               |      17 |      9 |\\n| Caldeirao             |      26 |    nan |\\n| Iranduba              |      20 |     12 |\\n| Jandira               |      26 |      8 |'"
      ]
     },
     "execution_count": 4,
     "metadata": {},
     "output_type": "execute_result"
    }
   ],
   "source": [
    "df_results.groupby([\"experiment_location\", \"DayNight\"]).corresponding_meas_file.nunique().unstack().to_markdown()"
   ]
  },
  {
   "cell_type": "code",
   "execution_count": 5,
   "id": "eb02631c",
   "metadata": {
    "execution": {
     "iopub.execute_input": "2023-05-12T04:10:49.942460Z",
     "iopub.status.busy": "2023-05-12T04:10:49.942019Z",
     "iopub.status.idle": "2023-05-12T04:10:49.948491Z",
     "shell.execute_reply": "2023-05-12T04:10:49.948075Z"
    },
    "papermill": {
     "duration": 0.010394,
     "end_time": "2023-05-12T04:10:49.949626",
     "exception": false,
     "start_time": "2023-05-12T04:10:49.939232",
     "status": "completed"
    },
    "tags": []
   },
   "outputs": [
    {
     "data": {
      "text/plain": [
       "{'Balbina': array([[ -1.90938492, -59.46105017],\n",
       "        [ -1.90498015, -59.46979682],\n",
       "        [ -1.90367786, -59.46055068]]),\n",
       " 'Jandira': array([[ -3.23378505, -60.24179794],\n",
       "        [ -3.2354515 , -60.2408596 ],\n",
       "        [ -3.23674311, -60.24114295],\n",
       "        [ -3.2338013 , -60.24178698]]),\n",
       " 'Caldeirao': array([[ -3.25665423, -60.21853891],\n",
       "        [ -3.24645146, -60.21718762],\n",
       "        [ -3.25525976, -60.21942943],\n",
       "        [ -3.25408879, -60.21902   ],\n",
       "        [ -3.2460189 , -60.21627407],\n",
       "        [ -3.25595593, -60.21851002]]),\n",
       " 'Iranduba': array([[ -3.29182389, -60.1638196 ],\n",
       "        [ -3.29371632, -60.16349051],\n",
       "        [ -3.29146567, -60.16393856],\n",
       "        [ -3.29160827, -60.16397365]])}"
      ]
     },
     "execution_count": 5,
     "metadata": {},
     "output_type": "execute_result"
    }
   ],
   "source": [
    "cluster_position_file = input_data_folder / Path(cluster_positions_file_name)\n",
    "with open(cluster_position_file, 'rb') as fp:\n",
    "    centroids = pickle.load(fp)\n",
    "centroids\n"
   ]
  },
  {
   "cell_type": "code",
   "execution_count": 6,
   "id": "b4fe320b",
   "metadata": {
    "execution": {
     "iopub.execute_input": "2023-05-12T04:10:49.954844Z",
     "iopub.status.busy": "2023-05-12T04:10:49.954525Z",
     "iopub.status.idle": "2023-05-12T04:10:49.986346Z",
     "shell.execute_reply": "2023-05-12T04:10:49.985711Z"
    },
    "papermill": {
     "duration": 0.035809,
     "end_time": "2023-05-12T04:10:49.987511",
     "exception": false,
     "start_time": "2023-05-12T04:10:49.951702",
     "status": "completed"
    },
    "tags": []
   },
   "outputs": [
    {
     "data": {
      "text/html": [
       "<div style=\"width:100%;\"><div style=\"position:relative;width:100%;height:0;padding-bottom:60%;\"><span style=\"color:#565656\">Make this Notebook Trusted to load map: File -> Trust Notebook</span><iframe srcdoc=\"&lt;!DOCTYPE html&gt;\n",
       "&lt;html&gt;\n",
       "&lt;head&gt;\n",
       "    \n",
       "    &lt;meta http-equiv=&quot;content-type&quot; content=&quot;text/html; charset=UTF-8&quot; /&gt;\n",
       "    \n",
       "        &lt;script&gt;\n",
       "            L_NO_TOUCH = false;\n",
       "            L_DISABLE_3D = false;\n",
       "        &lt;/script&gt;\n",
       "    \n",
       "    &lt;style&gt;html, body {width: 100%;height: 100%;margin: 0;padding: 0;}&lt;/style&gt;\n",
       "    &lt;style&gt;#map {position:absolute;top:0;bottom:0;right:0;left:0;}&lt;/style&gt;\n",
       "    &lt;script src=&quot;https://cdn.jsdelivr.net/npm/leaflet@1.9.3/dist/leaflet.js&quot;&gt;&lt;/script&gt;\n",
       "    &lt;script src=&quot;https://code.jquery.com/jquery-1.12.4.min.js&quot;&gt;&lt;/script&gt;\n",
       "    &lt;script src=&quot;https://cdn.jsdelivr.net/npm/bootstrap@5.2.2/dist/js/bootstrap.bundle.min.js&quot;&gt;&lt;/script&gt;\n",
       "    &lt;script src=&quot;https://cdnjs.cloudflare.com/ajax/libs/Leaflet.awesome-markers/2.0.2/leaflet.awesome-markers.js&quot;&gt;&lt;/script&gt;\n",
       "    &lt;link rel=&quot;stylesheet&quot; href=&quot;https://cdn.jsdelivr.net/npm/leaflet@1.9.3/dist/leaflet.css&quot;/&gt;\n",
       "    &lt;link rel=&quot;stylesheet&quot; href=&quot;https://cdn.jsdelivr.net/npm/bootstrap@5.2.2/dist/css/bootstrap.min.css&quot;/&gt;\n",
       "    &lt;link rel=&quot;stylesheet&quot; href=&quot;https://netdna.bootstrapcdn.com/bootstrap/3.0.0/css/bootstrap.min.css&quot;/&gt;\n",
       "    &lt;link rel=&quot;stylesheet&quot; href=&quot;https://cdn.jsdelivr.net/npm/@fortawesome/fontawesome-free@6.2.0/css/all.min.css&quot;/&gt;\n",
       "    &lt;link rel=&quot;stylesheet&quot; href=&quot;https://cdnjs.cloudflare.com/ajax/libs/Leaflet.awesome-markers/2.0.2/leaflet.awesome-markers.css&quot;/&gt;\n",
       "    &lt;link rel=&quot;stylesheet&quot; href=&quot;https://cdn.jsdelivr.net/gh/python-visualization/folium/folium/templates/leaflet.awesome.rotate.min.css&quot;/&gt;\n",
       "    \n",
       "            &lt;meta name=&quot;viewport&quot; content=&quot;width=device-width,\n",
       "                initial-scale=1.0, maximum-scale=1.0, user-scalable=no&quot; /&gt;\n",
       "            &lt;style&gt;\n",
       "                #map_6005f7b951f5435640fae0fc43719ef5 {\n",
       "                    position: relative;\n",
       "                    width: 100.0%;\n",
       "                    height: 100.0%;\n",
       "                    left: 0.0%;\n",
       "                    top: 0.0%;\n",
       "                }\n",
       "                .leaflet-container { font-size: 1rem; }\n",
       "            &lt;/style&gt;\n",
       "        \n",
       "&lt;/head&gt;\n",
       "&lt;body&gt;\n",
       "    \n",
       "    \n",
       "            &lt;div class=&quot;folium-map&quot; id=&quot;map_6005f7b951f5435640fae0fc43719ef5&quot; &gt;&lt;/div&gt;\n",
       "        \n",
       "&lt;/body&gt;\n",
       "&lt;script&gt;\n",
       "    \n",
       "    \n",
       "            var map_6005f7b951f5435640fae0fc43719ef5 = L.map(\n",
       "                &quot;map_6005f7b951f5435640fae0fc43719ef5&quot;,\n",
       "                {\n",
       "                    center: [-2.970178176157957, -60.0425907780488],\n",
       "                    crs: L.CRS.EPSG3857,\n",
       "                    zoom: 8,\n",
       "                    zoomControl: true,\n",
       "                    preferCanvas: false,\n",
       "                }\n",
       "            );\n",
       "\n",
       "            \n",
       "\n",
       "        \n",
       "    \n",
       "            var tile_layer_0e836942adcae05c1d1ea54120f4fb84 = L.tileLayer(\n",
       "                &quot;https://stamen-tiles-{s}.a.ssl.fastly.net/terrain/{z}/{x}/{y}.jpg&quot;,\n",
       "                {&quot;attribution&quot;: &quot;Map tiles by \\u003ca target=\\&quot;_blank\\&quot; href=\\&quot;http://stamen.com\\&quot;\\u003eStamen Design\\u003c/a\\u003e, under \\u003ca target=\\&quot;_blank\\&quot; href=\\&quot;http://creativecommons.org/licenses/by/3.0\\&quot;\\u003eCC BY 3.0\\u003c/a\\u003e. Data by \\u0026copy; \\u003ca target=\\&quot;_blank\\&quot; href=\\&quot;http://openstreetmap.org\\&quot;\\u003eOpenStreetMap\\u003c/a\\u003e, under \\u003ca target=\\&quot;_blank\\&quot; href=\\&quot;http://creativecommons.org/licenses/by-sa/3.0\\&quot;\\u003eCC BY SA\\u003c/a\\u003e.&quot;, &quot;detectRetina&quot;: false, &quot;maxNativeZoom&quot;: 18, &quot;maxZoom&quot;: 18, &quot;minZoom&quot;: 0, &quot;noWrap&quot;: false, &quot;opacity&quot;: 1, &quot;subdomains&quot;: &quot;abc&quot;, &quot;tms&quot;: false}\n",
       "            ).addTo(map_6005f7b951f5435640fae0fc43719ef5);\n",
       "        \n",
       "    \n",
       "            var tile_layer_d9719f1d7a4f322d393b9f80aaecc889 = L.tileLayer(\n",
       "                &quot;https://mt1.google.com/vt/lyrs=y\\u0026x={x}\\u0026y={y}\\u0026z={z}&quot;,\n",
       "                {&quot;attribution&quot;: &quot;Google&quot;, &quot;detectRetina&quot;: false, &quot;maxNativeZoom&quot;: 18, &quot;maxZoom&quot;: 18, &quot;minZoom&quot;: 0, &quot;noWrap&quot;: false, &quot;opacity&quot;: 1, &quot;subdomains&quot;: &quot;abc&quot;, &quot;tms&quot;: false}\n",
       "            ).addTo(map_6005f7b951f5435640fae0fc43719ef5);\n",
       "        \n",
       "    \n",
       "            var circle_marker_a63ff148e1375beb66f3830a2fd3ef59 = L.circleMarker(\n",
       "                [-1.9093849231102733, -59.46105016983506],\n",
       "                {&quot;bubblingMouseEvents&quot;: true, &quot;color&quot;: &quot;red&quot;, &quot;dashArray&quot;: null, &quot;dashOffset&quot;: null, &quot;fill&quot;: true, &quot;fillColor&quot;: &quot;red&quot;, &quot;fillOpacity&quot;: 0.2, &quot;fillRule&quot;: &quot;evenodd&quot;, &quot;lineCap&quot;: &quot;round&quot;, &quot;lineJoin&quot;: &quot;round&quot;, &quot;opacity&quot;: 1.0, &quot;radius&quot;: 10, &quot;stroke&quot;: true, &quot;weight&quot;: 3}\n",
       "            ).addTo(map_6005f7b951f5435640fae0fc43719ef5);\n",
       "        \n",
       "    \n",
       "        var popup_ba7dcb2b63f0b0ec7cc54120c53d6556 = L.popup({&quot;maxWidth&quot;: &quot;100%&quot;});\n",
       "\n",
       "        \n",
       "            \n",
       "                var html_b53cb08544f6f0a7d5bc51221a1bcee9 = $(`&lt;div id=&quot;html_b53cb08544f6f0a7d5bc51221a1bcee9&quot; style=&quot;width: 100.0%; height: 100.0%;&quot;&gt;&lt;a href=&quot;https://sebastianzug.github.io/RoBiMo_Trop_DataSet/html/balbina.html&quot; onclick=&quot;window.open(&#x27;https://sebastianzug.github.io/RoBiMo_Trop_DataSet/html/balbina.html&#x27;, &#x27;_blank&#x27;).focus();&quot;&gt;Zoom to Balbina&lt;/a&gt;&lt;/div&gt;`)[0];\n",
       "                popup_ba7dcb2b63f0b0ec7cc54120c53d6556.setContent(html_b53cb08544f6f0a7d5bc51221a1bcee9);\n",
       "            \n",
       "        \n",
       "\n",
       "        circle_marker_a63ff148e1375beb66f3830a2fd3ef59.bindPopup(popup_ba7dcb2b63f0b0ec7cc54120c53d6556)\n",
       "        ;\n",
       "\n",
       "        \n",
       "    \n",
       "    \n",
       "            circle_marker_a63ff148e1375beb66f3830a2fd3ef59.bindTooltip(\n",
       "                `&lt;div&gt;\n",
       "                     Click to zoom to Balbina\n",
       "                 &lt;/div&gt;`,\n",
       "                {&quot;sticky&quot;: true}\n",
       "            );\n",
       "        \n",
       "    \n",
       "            var circle_marker_264a2fb415edab58f60caaa49a854bb4 = L.circleMarker(\n",
       "                [-3.2337850482062533, -60.24179793689053],\n",
       "                {&quot;bubblingMouseEvents&quot;: true, &quot;color&quot;: &quot;red&quot;, &quot;dashArray&quot;: null, &quot;dashOffset&quot;: null, &quot;fill&quot;: true, &quot;fillColor&quot;: &quot;red&quot;, &quot;fillOpacity&quot;: 0.2, &quot;fillRule&quot;: &quot;evenodd&quot;, &quot;lineCap&quot;: &quot;round&quot;, &quot;lineJoin&quot;: &quot;round&quot;, &quot;opacity&quot;: 1.0, &quot;radius&quot;: 10, &quot;stroke&quot;: true, &quot;weight&quot;: 3}\n",
       "            ).addTo(map_6005f7b951f5435640fae0fc43719ef5);\n",
       "        \n",
       "    \n",
       "        var popup_f60a917acb35f591d8a7324a2fbbb359 = L.popup({&quot;maxWidth&quot;: &quot;100%&quot;});\n",
       "\n",
       "        \n",
       "            \n",
       "                var html_6db514f595a94a4bf83088774807a94e = $(`&lt;div id=&quot;html_6db514f595a94a4bf83088774807a94e&quot; style=&quot;width: 100.0%; height: 100.0%;&quot;&gt;&lt;a href=&quot;https://sebastianzug.github.io/RoBiMo_Trop_DataSet/html/jandira.html&quot; onclick=&quot;window.open(&#x27;https://sebastianzug.github.io/RoBiMo_Trop_DataSet/html/jandira.html&#x27;, &#x27;_blank&#x27;).focus();&quot;&gt;Zoom to Jandira&lt;/a&gt;&lt;/div&gt;`)[0];\n",
       "                popup_f60a917acb35f591d8a7324a2fbbb359.setContent(html_6db514f595a94a4bf83088774807a94e);\n",
       "            \n",
       "        \n",
       "\n",
       "        circle_marker_264a2fb415edab58f60caaa49a854bb4.bindPopup(popup_f60a917acb35f591d8a7324a2fbbb359)\n",
       "        ;\n",
       "\n",
       "        \n",
       "    \n",
       "    \n",
       "            circle_marker_264a2fb415edab58f60caaa49a854bb4.bindTooltip(\n",
       "                `&lt;div&gt;\n",
       "                     Click to zoom to Jandira\n",
       "                 &lt;/div&gt;`,\n",
       "                {&quot;sticky&quot;: true}\n",
       "            );\n",
       "        \n",
       "    \n",
       "            var circle_marker_40edadbe9321f476fc39d336d8b1d11d = L.circleMarker(\n",
       "                [-3.2566542347533796, -60.218538909623675],\n",
       "                {&quot;bubblingMouseEvents&quot;: true, &quot;color&quot;: &quot;red&quot;, &quot;dashArray&quot;: null, &quot;dashOffset&quot;: null, &quot;fill&quot;: true, &quot;fillColor&quot;: &quot;red&quot;, &quot;fillOpacity&quot;: 0.2, &quot;fillRule&quot;: &quot;evenodd&quot;, &quot;lineCap&quot;: &quot;round&quot;, &quot;lineJoin&quot;: &quot;round&quot;, &quot;opacity&quot;: 1.0, &quot;radius&quot;: 10, &quot;stroke&quot;: true, &quot;weight&quot;: 3}\n",
       "            ).addTo(map_6005f7b951f5435640fae0fc43719ef5);\n",
       "        \n",
       "    \n",
       "        var popup_9fccdaea9ee1d9e7dfcac70170cad442 = L.popup({&quot;maxWidth&quot;: &quot;100%&quot;});\n",
       "\n",
       "        \n",
       "            \n",
       "                var html_f44cce3dbe146b1a731fc291eb64d4a4 = $(`&lt;div id=&quot;html_f44cce3dbe146b1a731fc291eb64d4a4&quot; style=&quot;width: 100.0%; height: 100.0%;&quot;&gt;&lt;a href=&quot;https://sebastianzug.github.io/RoBiMo_Trop_DataSet/html/caldeirao.html&quot; onclick=&quot;window.open(&#x27;https://sebastianzug.github.io/RoBiMo_Trop_DataSet/html/caldeirao.html&#x27;, &#x27;_blank&#x27;).focus();&quot;&gt;Zoom to Caldeirao&lt;/a&gt;&lt;/div&gt;`)[0];\n",
       "                popup_9fccdaea9ee1d9e7dfcac70170cad442.setContent(html_f44cce3dbe146b1a731fc291eb64d4a4);\n",
       "            \n",
       "        \n",
       "\n",
       "        circle_marker_40edadbe9321f476fc39d336d8b1d11d.bindPopup(popup_9fccdaea9ee1d9e7dfcac70170cad442)\n",
       "        ;\n",
       "\n",
       "        \n",
       "    \n",
       "    \n",
       "            circle_marker_40edadbe9321f476fc39d336d8b1d11d.bindTooltip(\n",
       "                `&lt;div&gt;\n",
       "                     Click to zoom to Caldeirao\n",
       "                 &lt;/div&gt;`,\n",
       "                {&quot;sticky&quot;: true}\n",
       "            );\n",
       "        \n",
       "    \n",
       "            var circle_marker_43af29bf3d56ac66354c6b9803011b68 = L.circleMarker(\n",
       "                [-3.2918238866956244, -60.16381959985592],\n",
       "                {&quot;bubblingMouseEvents&quot;: true, &quot;color&quot;: &quot;red&quot;, &quot;dashArray&quot;: null, &quot;dashOffset&quot;: null, &quot;fill&quot;: true, &quot;fillColor&quot;: &quot;red&quot;, &quot;fillOpacity&quot;: 0.2, &quot;fillRule&quot;: &quot;evenodd&quot;, &quot;lineCap&quot;: &quot;round&quot;, &quot;lineJoin&quot;: &quot;round&quot;, &quot;opacity&quot;: 1.0, &quot;radius&quot;: 10, &quot;stroke&quot;: true, &quot;weight&quot;: 3}\n",
       "            ).addTo(map_6005f7b951f5435640fae0fc43719ef5);\n",
       "        \n",
       "    \n",
       "        var popup_6476b48269d55d89f4e5f0ad27459ccf = L.popup({&quot;maxWidth&quot;: &quot;100%&quot;});\n",
       "\n",
       "        \n",
       "            \n",
       "                var html_a6d0288a60bbec51c80aa47bbec71e6c = $(`&lt;div id=&quot;html_a6d0288a60bbec51c80aa47bbec71e6c&quot; style=&quot;width: 100.0%; height: 100.0%;&quot;&gt;&lt;a href=&quot;https://sebastianzug.github.io/RoBiMo_Trop_DataSet/html/iranduba.html&quot; onclick=&quot;window.open(&#x27;https://sebastianzug.github.io/RoBiMo_Trop_DataSet/html/iranduba.html&#x27;, &#x27;_blank&#x27;).focus();&quot;&gt;Zoom to Iranduba&lt;/a&gt;&lt;/div&gt;`)[0];\n",
       "                popup_6476b48269d55d89f4e5f0ad27459ccf.setContent(html_a6d0288a60bbec51c80aa47bbec71e6c);\n",
       "            \n",
       "        \n",
       "\n",
       "        circle_marker_43af29bf3d56ac66354c6b9803011b68.bindPopup(popup_6476b48269d55d89f4e5f0ad27459ccf)\n",
       "        ;\n",
       "\n",
       "        \n",
       "    \n",
       "    \n",
       "            circle_marker_43af29bf3d56ac66354c6b9803011b68.bindTooltip(\n",
       "                `&lt;div&gt;\n",
       "                     Click to zoom to Iranduba\n",
       "                 &lt;/div&gt;`,\n",
       "                {&quot;sticky&quot;: true}\n",
       "            );\n",
       "        \n",
       "&lt;/script&gt;\n",
       "&lt;/html&gt;\" style=\"position:absolute;width:100%;height:100%;left:0;top:0;border:none !important;\" allowfullscreen webkitallowfullscreen mozallowfullscreen></iframe></div></div>"
      ],
      "text/plain": [
       "<folium.folium.Map at 0x7f9c4cdf3df0>"
      ]
     },
     "execution_count": 6,
     "metadata": {},
     "output_type": "execute_result"
    }
   ],
   "source": [
    "map = folium.Map(location = [df_results.lat_est.mean(),  \n",
    "                            df_results.lon_est.mean()], \n",
    "                            tiles='Stamen Terrain', zoom_start = 8)\n",
    "\n",
    "basemaps = {\n",
    "    'Google Maps': folium.TileLayer(\n",
    "        tiles = 'https://mt1.google.com/vt/lyrs=m&x={x}&y={y}&z={z}',\n",
    "        attr = 'Google',\n",
    "        name = 'Google Maps',\n",
    "        overlay = True,\n",
    "        control = True\n",
    "    ),\n",
    "    'Google Satellite': folium.TileLayer(\n",
    "        tiles = 'https://mt1.google.com/vt/lyrs=s&x={x}&y={y}&z={z}',\n",
    "        attr = 'Google',\n",
    "        name = 'Google Satellite',\n",
    "        overlay = True,\n",
    "        control = True\n",
    "    ),\n",
    "    'Google Terrain': folium.TileLayer(\n",
    "        tiles = 'https://mt1.google.com/vt/lyrs=p&x={x}&y={y}&z={z}',\n",
    "        attr = 'Google',\n",
    "        name = 'Google Terrain',\n",
    "        overlay = True,\n",
    "        control = True\n",
    "    ),\n",
    "    'Google Satellite Hybrid': folium.TileLayer(\n",
    "        tiles = 'https://mt1.google.com/vt/lyrs=y&x={x}&y={y}&z={z}',\n",
    "        attr = 'Google',\n",
    "        name = 'Google Satellite',\n",
    "        overlay = True,\n",
    "        control = True\n",
    "    ),\n",
    "    'Esri Satellite': folium.TileLayer(\n",
    "        tiles = 'https://server.arcgisonline.com/ArcGIS/rest/services/World_Imagery/MapServer/tile/{z}/{y}/{x}',\n",
    "        attr = 'Esri',\n",
    "        name = 'Esri Satellite',\n",
    "        overlay = True,\n",
    "        control = True\n",
    "    )\n",
    "}\n",
    "\n",
    "basemaps['Google Satellite Hybrid'].add_to(map)\n",
    "\n",
    "for key in centroids:\n",
    "    map.add_child(folium.CircleMarker(location = [centroids[key][0][0],\n",
    "                                                  centroids[key][0][1]],\n",
    "                                    color = 'red',\n",
    "                                    tooltip= f\"Click to zoom to {key}\",\n",
    "                                    popup=f\"<a href=\\\"https://sebastianzug.github.io/RoBiMo_Trop_DataSet/html/{key.lower()}.html\\\" onclick=\\\"window.open('https://sebastianzug.github.io/RoBiMo_Trop_DataSet/html/{key.lower()}.html', '_blank').focus();\\\">Zoom to {key}</a>\",\n",
    "                                    radius = 10, fill=True))\n",
    "\n",
    "filename = \"index.html\"\n",
    "html_folder = Path(\"../html/\")\n",
    "html_file = Path.cwd() / html_folder / Path(filename)\n",
    "map.save(html_file)\n",
    "\n",
    "map\n"
   ]
  },
  {
   "cell_type": "code",
   "execution_count": null,
   "id": "0525b772",
   "metadata": {
    "papermill": {
     "duration": 0.001908,
     "end_time": "2023-05-12T04:10:49.991136",
     "exception": false,
     "start_time": "2023-05-12T04:10:49.989228",
     "status": "completed"
    },
    "tags": []
   },
   "outputs": [],
   "source": []
  }
 ],
 "metadata": {
  "kernelspec": {
   "display_name": "data_aggregation-u0vYvf-n",
   "language": "python",
   "name": "python3"
  },
  "language_info": {
   "codemirror_mode": {
    "name": "ipython",
    "version": 3
   },
   "file_extension": ".py",
   "mimetype": "text/x-python",
   "name": "python",
   "nbconvert_exporter": "python",
   "pygments_lexer": "ipython3",
   "version": "3.10.6"
  },
  "papermill": {
   "default_parameters": {},
   "duration": 2.44735,
   "end_time": "2023-05-12T04:10:50.410484",
   "environment_variables": {},
   "exception": null,
   "input_path": "/home/sebastian/Nextcloud/Projekte/2021_DAAD_Brasilien/2023/RoBiMo_Trop_DataSet/notebooks/91_Plot_campaign_overview.ipynb",
   "output_path": "/home/sebastian/Nextcloud/Projekte/2021_DAAD_Brasilien/2023/RoBiMo_Trop_DataSet/notebooks/tmp/91_Plot_campaign_overview_run.ipynb",
   "parameters": {},
   "start_time": "2023-05-12T04:10:47.963134",
   "version": "2.4.0"
  },
  "vscode": {
   "interpreter": {
    "hash": "663fac0a39ac9194e8834fa6e9a25f288f03c4df1f699cfd9b5c433c7915905d"
   }
  }
 },
 "nbformat": 4,
 "nbformat_minor": 5
}