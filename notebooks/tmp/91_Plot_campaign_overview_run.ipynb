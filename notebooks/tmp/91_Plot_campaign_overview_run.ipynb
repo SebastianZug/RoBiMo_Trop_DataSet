{
 "cells": [
  {
   "attachments": {},
   "cell_type": "markdown",
   "id": "d63e5ee4",
   "metadata": {
    "papermill": {
     "duration": 0.001364,
     "end_time": "2024-02-05T12:16:00.841373",
     "exception": false,
     "start_time": "2024-02-05T12:16:00.840009",
     "status": "completed"
    },
    "tags": []
   },
   "source": [
    "## Visualization of Robot missions"
   ]
  },
  {
   "cell_type": "code",
   "execution_count": 1,
   "id": "72269af3",
   "metadata": {
    "execution": {
     "iopub.execute_input": "2024-02-05T12:16:00.853551Z",
     "iopub.status.busy": "2024-02-05T12:16:00.853233Z",
     "iopub.status.idle": "2024-02-05T12:16:01.495102Z",
     "shell.execute_reply": "2024-02-05T12:16:01.494711Z"
    },
    "papermill": {
     "duration": 0.645691,
     "end_time": "2024-02-05T12:16:01.496336",
     "exception": false,
     "start_time": "2024-02-05T12:16:00.850645",
     "status": "completed"
    },
    "tags": []
   },
   "outputs": [
    {
     "name": "stderr",
     "output_type": "stream",
     "text": [
      "/tmp/ipykernel_577327/3088118494.py:2: DeprecationWarning: \n",
      "Pyarrow will become a required dependency of pandas in the next major release of pandas (pandas 3.0),\n",
      "(to allow more performant data types, such as the Arrow string type, and better interoperability with other libraries)\n",
      "but was not found to be installed on your system.\n",
      "If this would cause problems for you,\n",
      "please provide us feedback at https://github.com/pandas-dev/pandas/issues/54466\n",
      "        \n",
      "  import pandas as pd\n"
     ]
    }
   ],
   "source": [
    "from pathlib import Path\n",
    "import pandas as pd\n",
    "import contextily as cx\n",
    "import folium\n",
    "import branca.colormap as cm\n",
    "\n",
    "import matplotlib.pyplot as plt\n",
    "import pickle\n",
    "from matplotlib.ticker import FormatStrFormatter\n",
    "import matplotlib.gridspec as gridspec"
   ]
  },
  {
   "cell_type": "code",
   "execution_count": 2,
   "id": "be7acade",
   "metadata": {
    "execution": {
     "iopub.execute_input": "2024-02-05T12:16:01.507882Z",
     "iopub.status.busy": "2024-02-05T12:16:01.507547Z",
     "iopub.status.idle": "2024-02-05T12:16:01.510835Z",
     "shell.execute_reply": "2024-02-05T12:16:01.510381Z"
    },
    "papermill": {
     "duration": 0.013762,
     "end_time": "2024-02-05T12:16:01.511763",
     "exception": false,
     "start_time": "2024-02-05T12:16:01.498001",
     "status": "completed"
    },
    "tags": []
   },
   "outputs": [
    {
     "name": "stdout",
     "output_type": "stream",
     "text": [
      "Reading raw pandas files from \n",
      "    /home/sebastian/Nextcloud/Projekte/2021_DAAD_Brasilien/2023/RoBiMo_Trop_DataSet/notebooks/../results\n",
      "Writing website information to \n",
      "    ../html\n"
     ]
    }
   ],
   "source": [
    "input_data_folder_base = Path(\"../results/\")\n",
    "input_data_folder = Path.cwd() / input_data_folder_base\n",
    "overall_collection_file_name = \"overall_collection_2023.p\"\n",
    "key_parameter_file_name = \"key_parameter_2023.p\"\n",
    "cluster_positions_file_name = \"cluster_positions_2023.p\"\n",
    "print(f\"Reading raw pandas files from \\n    {input_data_folder}\")\n",
    "\n",
    "output_folder_base = Path(\"../html/\")\n",
    "output_image_folder = output_folder_base / Path(\"./images/\")\n",
    "print(f\"Writing website information to \\n    {output_folder_base}\")"
   ]
  },
  {
   "cell_type": "code",
   "execution_count": 3,
   "id": "a3260a0c",
   "metadata": {
    "execution": {
     "iopub.execute_input": "2024-02-05T12:16:01.515613Z",
     "iopub.status.busy": "2024-02-05T12:16:01.515404Z",
     "iopub.status.idle": "2024-02-05T12:16:01.539165Z",
     "shell.execute_reply": "2024-02-05T12:16:01.538772Z"
    },
    "papermill": {
     "duration": 0.027133,
     "end_time": "2024-02-05T12:16:01.540442",
     "exception": false,
     "start_time": "2024-02-05T12:16:01.513309",
     "status": "completed"
    },
    "tags": []
   },
   "outputs": [],
   "source": [
    "df_results = pd.read_pickle(input_data_folder / overall_collection_file_name)\n",
    "df_results[\"DayNight\"] = df_results['PAR(umol m-2s-1)'] == 0 "
   ]
  },
  {
   "cell_type": "code",
   "execution_count": 4,
   "id": "bb478c8c",
   "metadata": {
    "execution": {
     "iopub.execute_input": "2024-02-05T12:16:01.543986Z",
     "iopub.status.busy": "2024-02-05T12:16:01.543766Z",
     "iopub.status.idle": "2024-02-05T12:16:01.572608Z",
     "shell.execute_reply": "2024-02-05T12:16:01.572245Z"
    },
    "papermill": {
     "duration": 0.031772,
     "end_time": "2024-02-05T12:16:01.573545",
     "exception": false,
     "start_time": "2024-02-05T12:16:01.541773",
     "status": "completed"
    },
    "tags": []
   },
   "outputs": [
    {
     "data": {
      "text/plain": [
       "'| experiment_location   |   False |   True |\\n|:----------------------|--------:|-------:|\\n| Balbina               |      17 |      9 |\\n| Caldeirao             |      26 |    nan |\\n| Iranduba              |      20 |     12 |\\n| Jandira               |      26 |      8 |'"
      ]
     },
     "execution_count": 4,
     "metadata": {},
     "output_type": "execute_result"
    }
   ],
   "source": [
    "df_results.groupby([\"experiment_location\", \"DayNight\"]).corresponding_meas_file.nunique().unstack().to_markdown()"
   ]
  },
  {
   "cell_type": "code",
   "execution_count": 5,
   "id": "eb02631c",
   "metadata": {
    "execution": {
     "iopub.execute_input": "2024-02-05T12:16:01.577386Z",
     "iopub.status.busy": "2024-02-05T12:16:01.577207Z",
     "iopub.status.idle": "2024-02-05T12:16:01.581550Z",
     "shell.execute_reply": "2024-02-05T12:16:01.581086Z"
    },
    "papermill": {
     "duration": 0.007653,
     "end_time": "2024-02-05T12:16:01.582610",
     "exception": false,
     "start_time": "2024-02-05T12:16:01.574957",
     "status": "completed"
    },
    "tags": []
   },
   "outputs": [
    {
     "data": {
      "text/plain": [
       "{'Balbina': array([[ -1.90938492, -59.46105017],\n",
       "        [ -1.90498015, -59.46979682],\n",
       "        [ -1.90367786, -59.46055068]]),\n",
       " 'Jandira': array([[ -3.23674311, -60.24114295],\n",
       "        [ -3.23378505, -60.24179794],\n",
       "        [ -3.2354515 , -60.2408596 ],\n",
       "        [ -3.2338013 , -60.24178698]]),\n",
       " 'Caldeirao': array([[ -3.24645146, -60.21718762],\n",
       "        [ -3.25525976, -60.21942943],\n",
       "        [ -3.25665423, -60.21853891],\n",
       "        [ -3.25408879, -60.21902   ],\n",
       "        [ -3.2460189 , -60.21627407],\n",
       "        [ -3.25595593, -60.21851002]]),\n",
       " 'Iranduba': array([[ -3.29182389, -60.1638196 ],\n",
       "        [ -3.29371632, -60.16349051],\n",
       "        [ -3.29160827, -60.16397365],\n",
       "        [ -3.29146567, -60.16393856]])}"
      ]
     },
     "execution_count": 5,
     "metadata": {},
     "output_type": "execute_result"
    }
   ],
   "source": [
    "cluster_position_file = input_data_folder / Path(cluster_positions_file_name)\n",
    "with open(cluster_position_file, 'rb') as fp:\n",
    "    centroids = pickle.load(fp)\n",
    "centroids\n"
   ]
  },
  {
   "cell_type": "code",
   "execution_count": 6,
   "id": "b4fe320b",
   "metadata": {
    "execution": {
     "iopub.execute_input": "2024-02-05T12:16:01.586832Z",
     "iopub.status.busy": "2024-02-05T12:16:01.586504Z",
     "iopub.status.idle": "2024-02-05T12:16:01.616998Z",
     "shell.execute_reply": "2024-02-05T12:16:01.616610Z"
    },
    "papermill": {
     "duration": 0.033887,
     "end_time": "2024-02-05T12:16:01.617952",
     "exception": false,
     "start_time": "2024-02-05T12:16:01.584065",
     "status": "completed"
    },
    "tags": []
   },
   "outputs": [
    {
     "data": {
      "text/html": [
       "<div style=\"width:100%;\"><div style=\"position:relative;width:100%;height:0;padding-bottom:60%;\"><span style=\"color:#565656\">Make this Notebook Trusted to load map: File -> Trust Notebook</span><iframe srcdoc=\"&lt;!DOCTYPE html&gt;\n",
       "&lt;html&gt;\n",
       "&lt;head&gt;\n",
       "    \n",
       "    &lt;meta http-equiv=&quot;content-type&quot; content=&quot;text/html; charset=UTF-8&quot; /&gt;\n",
       "    \n",
       "        &lt;script&gt;\n",
       "            L_NO_TOUCH = false;\n",
       "            L_DISABLE_3D = false;\n",
       "        &lt;/script&gt;\n",
       "    \n",
       "    &lt;style&gt;html, body {width: 100%;height: 100%;margin: 0;padding: 0;}&lt;/style&gt;\n",
       "    &lt;style&gt;#map {position:absolute;top:0;bottom:0;right:0;left:0;}&lt;/style&gt;\n",
       "    &lt;script src=&quot;https://cdn.jsdelivr.net/npm/leaflet@1.9.3/dist/leaflet.js&quot;&gt;&lt;/script&gt;\n",
       "    &lt;script src=&quot;https://code.jquery.com/jquery-3.7.1.min.js&quot;&gt;&lt;/script&gt;\n",
       "    &lt;script src=&quot;https://cdn.jsdelivr.net/npm/bootstrap@5.2.2/dist/js/bootstrap.bundle.min.js&quot;&gt;&lt;/script&gt;\n",
       "    &lt;script src=&quot;https://cdnjs.cloudflare.com/ajax/libs/Leaflet.awesome-markers/2.0.2/leaflet.awesome-markers.js&quot;&gt;&lt;/script&gt;\n",
       "    &lt;link rel=&quot;stylesheet&quot; href=&quot;https://cdn.jsdelivr.net/npm/leaflet@1.9.3/dist/leaflet.css&quot;/&gt;\n",
       "    &lt;link rel=&quot;stylesheet&quot; href=&quot;https://cdn.jsdelivr.net/npm/bootstrap@5.2.2/dist/css/bootstrap.min.css&quot;/&gt;\n",
       "    &lt;link rel=&quot;stylesheet&quot; href=&quot;https://netdna.bootstrapcdn.com/bootstrap/3.0.0/css/bootstrap.min.css&quot;/&gt;\n",
       "    &lt;link rel=&quot;stylesheet&quot; href=&quot;https://cdn.jsdelivr.net/npm/@fortawesome/fontawesome-free@6.2.0/css/all.min.css&quot;/&gt;\n",
       "    &lt;link rel=&quot;stylesheet&quot; href=&quot;https://cdnjs.cloudflare.com/ajax/libs/Leaflet.awesome-markers/2.0.2/leaflet.awesome-markers.css&quot;/&gt;\n",
       "    &lt;link rel=&quot;stylesheet&quot; href=&quot;https://cdn.jsdelivr.net/gh/python-visualization/folium/folium/templates/leaflet.awesome.rotate.min.css&quot;/&gt;\n",
       "    \n",
       "            &lt;meta name=&quot;viewport&quot; content=&quot;width=device-width,\n",
       "                initial-scale=1.0, maximum-scale=1.0, user-scalable=no&quot; /&gt;\n",
       "            &lt;style&gt;\n",
       "                #map_182599f65faa49de98e43b14c21e9e2f {\n",
       "                    position: relative;\n",
       "                    width: 100.0%;\n",
       "                    height: 100.0%;\n",
       "                    left: 0.0%;\n",
       "                    top: 0.0%;\n",
       "                }\n",
       "                .leaflet-container { font-size: 1rem; }\n",
       "            &lt;/style&gt;\n",
       "        \n",
       "&lt;/head&gt;\n",
       "&lt;body&gt;\n",
       "    \n",
       "    \n",
       "            &lt;div class=&quot;folium-map&quot; id=&quot;map_182599f65faa49de98e43b14c21e9e2f&quot; &gt;&lt;/div&gt;\n",
       "        \n",
       "&lt;/body&gt;\n",
       "&lt;script&gt;\n",
       "    \n",
       "    \n",
       "            var map_182599f65faa49de98e43b14c21e9e2f = L.map(\n",
       "                &quot;map_182599f65faa49de98e43b14c21e9e2f&quot;,\n",
       "                {\n",
       "                    center: [-2.970178176157957, -60.0425907780488],\n",
       "                    crs: L.CRS.EPSG3857,\n",
       "                    zoom: 8,\n",
       "                    zoomControl: true,\n",
       "                    preferCanvas: false,\n",
       "                }\n",
       "            );\n",
       "\n",
       "            \n",
       "\n",
       "        \n",
       "    \n",
       "            var tile_layer_654961560e4e556835c0754705d1d3ec = L.tileLayer(\n",
       "                &quot;Stamen Terrain&quot;,\n",
       "                {&quot;attribution&quot;: &quot;Stamen Terrain&quot;, &quot;detectRetina&quot;: false, &quot;maxNativeZoom&quot;: 18, &quot;maxZoom&quot;: 18, &quot;minZoom&quot;: 0, &quot;noWrap&quot;: false, &quot;opacity&quot;: 1, &quot;subdomains&quot;: &quot;abc&quot;, &quot;tms&quot;: false}\n",
       "            );\n",
       "        \n",
       "    \n",
       "            tile_layer_654961560e4e556835c0754705d1d3ec.addTo(map_182599f65faa49de98e43b14c21e9e2f);\n",
       "        \n",
       "    \n",
       "            var tile_layer_3d7d15d9caafa0dae2e2b53987c6bb29 = L.tileLayer(\n",
       "                &quot;https://mt1.google.com/vt/lyrs=y\\u0026x={x}\\u0026y={y}\\u0026z={z}&quot;,\n",
       "                {&quot;attribution&quot;: &quot;Google&quot;, &quot;detectRetina&quot;: false, &quot;maxNativeZoom&quot;: 18, &quot;maxZoom&quot;: 18, &quot;minZoom&quot;: 0, &quot;noWrap&quot;: false, &quot;opacity&quot;: 1, &quot;subdomains&quot;: &quot;abc&quot;, &quot;tms&quot;: false}\n",
       "            );\n",
       "        \n",
       "    \n",
       "            tile_layer_3d7d15d9caafa0dae2e2b53987c6bb29.addTo(map_182599f65faa49de98e43b14c21e9e2f);\n",
       "        \n",
       "    \n",
       "            var circle_marker_66e12085e933f0cbc5647cffe81d7d37 = L.circleMarker(\n",
       "                [-1.9093849231102733, -59.46105016983506],\n",
       "                {&quot;bubblingMouseEvents&quot;: true, &quot;color&quot;: &quot;red&quot;, &quot;dashArray&quot;: null, &quot;dashOffset&quot;: null, &quot;fill&quot;: true, &quot;fillColor&quot;: &quot;red&quot;, &quot;fillOpacity&quot;: 0.2, &quot;fillRule&quot;: &quot;evenodd&quot;, &quot;lineCap&quot;: &quot;round&quot;, &quot;lineJoin&quot;: &quot;round&quot;, &quot;opacity&quot;: 1.0, &quot;radius&quot;: 10, &quot;stroke&quot;: true, &quot;weight&quot;: 3}\n",
       "            ).addTo(map_182599f65faa49de98e43b14c21e9e2f);\n",
       "        \n",
       "    \n",
       "        var popup_44cfb5df4f60d90f91221d07e7f12ff3 = L.popup({&quot;maxWidth&quot;: &quot;100%&quot;});\n",
       "\n",
       "        \n",
       "            \n",
       "                var html_4f9a62ebcf9fbdce6cf35f1666c54d4c = $(`&lt;div id=&quot;html_4f9a62ebcf9fbdce6cf35f1666c54d4c&quot; style=&quot;width: 100.0%; height: 100.0%;&quot;&gt;&lt;a href=&quot;https://sebastianzug.github.io/RoBiMo_Trop_DataSet/html/balbina.html&quot; onclick=&quot;window.open(&#x27;https://sebastianzug.github.io/RoBiMo_Trop_DataSet/html/balbina.html&#x27;, &#x27;_blank&#x27;).focus();&quot;&gt;Zoom to Balbina&lt;/a&gt;&lt;/div&gt;`)[0];\n",
       "                popup_44cfb5df4f60d90f91221d07e7f12ff3.setContent(html_4f9a62ebcf9fbdce6cf35f1666c54d4c);\n",
       "            \n",
       "        \n",
       "\n",
       "        circle_marker_66e12085e933f0cbc5647cffe81d7d37.bindPopup(popup_44cfb5df4f60d90f91221d07e7f12ff3)\n",
       "        ;\n",
       "\n",
       "        \n",
       "    \n",
       "    \n",
       "            circle_marker_66e12085e933f0cbc5647cffe81d7d37.bindTooltip(\n",
       "                `&lt;div&gt;\n",
       "                     Click to zoom to Balbina\n",
       "                 &lt;/div&gt;`,\n",
       "                {&quot;sticky&quot;: true}\n",
       "            );\n",
       "        \n",
       "    \n",
       "            var circle_marker_08580485c96ee5ed96b25f3034668f2e = L.circleMarker(\n",
       "                [-3.2367431133480014, -60.241142950023836],\n",
       "                {&quot;bubblingMouseEvents&quot;: true, &quot;color&quot;: &quot;red&quot;, &quot;dashArray&quot;: null, &quot;dashOffset&quot;: null, &quot;fill&quot;: true, &quot;fillColor&quot;: &quot;red&quot;, &quot;fillOpacity&quot;: 0.2, &quot;fillRule&quot;: &quot;evenodd&quot;, &quot;lineCap&quot;: &quot;round&quot;, &quot;lineJoin&quot;: &quot;round&quot;, &quot;opacity&quot;: 1.0, &quot;radius&quot;: 10, &quot;stroke&quot;: true, &quot;weight&quot;: 3}\n",
       "            ).addTo(map_182599f65faa49de98e43b14c21e9e2f);\n",
       "        \n",
       "    \n",
       "        var popup_471ec9e6fa33537fb69b6ae512b2dd00 = L.popup({&quot;maxWidth&quot;: &quot;100%&quot;});\n",
       "\n",
       "        \n",
       "            \n",
       "                var html_0bdd67e28f909a58f080c466128afcfa = $(`&lt;div id=&quot;html_0bdd67e28f909a58f080c466128afcfa&quot; style=&quot;width: 100.0%; height: 100.0%;&quot;&gt;&lt;a href=&quot;https://sebastianzug.github.io/RoBiMo_Trop_DataSet/html/jandira.html&quot; onclick=&quot;window.open(&#x27;https://sebastianzug.github.io/RoBiMo_Trop_DataSet/html/jandira.html&#x27;, &#x27;_blank&#x27;).focus();&quot;&gt;Zoom to Jandira&lt;/a&gt;&lt;/div&gt;`)[0];\n",
       "                popup_471ec9e6fa33537fb69b6ae512b2dd00.setContent(html_0bdd67e28f909a58f080c466128afcfa);\n",
       "            \n",
       "        \n",
       "\n",
       "        circle_marker_08580485c96ee5ed96b25f3034668f2e.bindPopup(popup_471ec9e6fa33537fb69b6ae512b2dd00)\n",
       "        ;\n",
       "\n",
       "        \n",
       "    \n",
       "    \n",
       "            circle_marker_08580485c96ee5ed96b25f3034668f2e.bindTooltip(\n",
       "                `&lt;div&gt;\n",
       "                     Click to zoom to Jandira\n",
       "                 &lt;/div&gt;`,\n",
       "                {&quot;sticky&quot;: true}\n",
       "            );\n",
       "        \n",
       "    \n",
       "            var circle_marker_f505b01a3f816aa329f56652398bc2d8 = L.circleMarker(\n",
       "                [-3.2464514573211343, -60.21718762089296],\n",
       "                {&quot;bubblingMouseEvents&quot;: true, &quot;color&quot;: &quot;red&quot;, &quot;dashArray&quot;: null, &quot;dashOffset&quot;: null, &quot;fill&quot;: true, &quot;fillColor&quot;: &quot;red&quot;, &quot;fillOpacity&quot;: 0.2, &quot;fillRule&quot;: &quot;evenodd&quot;, &quot;lineCap&quot;: &quot;round&quot;, &quot;lineJoin&quot;: &quot;round&quot;, &quot;opacity&quot;: 1.0, &quot;radius&quot;: 10, &quot;stroke&quot;: true, &quot;weight&quot;: 3}\n",
       "            ).addTo(map_182599f65faa49de98e43b14c21e9e2f);\n",
       "        \n",
       "    \n",
       "        var popup_c6e52cd75fc70da5cadb3b8db8e162a6 = L.popup({&quot;maxWidth&quot;: &quot;100%&quot;});\n",
       "\n",
       "        \n",
       "            \n",
       "                var html_e749e4dd080ecc2ec13df08206f0d898 = $(`&lt;div id=&quot;html_e749e4dd080ecc2ec13df08206f0d898&quot; style=&quot;width: 100.0%; height: 100.0%;&quot;&gt;&lt;a href=&quot;https://sebastianzug.github.io/RoBiMo_Trop_DataSet/html/caldeirao.html&quot; onclick=&quot;window.open(&#x27;https://sebastianzug.github.io/RoBiMo_Trop_DataSet/html/caldeirao.html&#x27;, &#x27;_blank&#x27;).focus();&quot;&gt;Zoom to Caldeirao&lt;/a&gt;&lt;/div&gt;`)[0];\n",
       "                popup_c6e52cd75fc70da5cadb3b8db8e162a6.setContent(html_e749e4dd080ecc2ec13df08206f0d898);\n",
       "            \n",
       "        \n",
       "\n",
       "        circle_marker_f505b01a3f816aa329f56652398bc2d8.bindPopup(popup_c6e52cd75fc70da5cadb3b8db8e162a6)\n",
       "        ;\n",
       "\n",
       "        \n",
       "    \n",
       "    \n",
       "            circle_marker_f505b01a3f816aa329f56652398bc2d8.bindTooltip(\n",
       "                `&lt;div&gt;\n",
       "                     Click to zoom to Caldeirao\n",
       "                 &lt;/div&gt;`,\n",
       "                {&quot;sticky&quot;: true}\n",
       "            );\n",
       "        \n",
       "    \n",
       "            var circle_marker_275ab446e2fce07afa9457d4aeef1a5f = L.circleMarker(\n",
       "                [-3.2918238866956244, -60.16381959985592],\n",
       "                {&quot;bubblingMouseEvents&quot;: true, &quot;color&quot;: &quot;red&quot;, &quot;dashArray&quot;: null, &quot;dashOffset&quot;: null, &quot;fill&quot;: true, &quot;fillColor&quot;: &quot;red&quot;, &quot;fillOpacity&quot;: 0.2, &quot;fillRule&quot;: &quot;evenodd&quot;, &quot;lineCap&quot;: &quot;round&quot;, &quot;lineJoin&quot;: &quot;round&quot;, &quot;opacity&quot;: 1.0, &quot;radius&quot;: 10, &quot;stroke&quot;: true, &quot;weight&quot;: 3}\n",
       "            ).addTo(map_182599f65faa49de98e43b14c21e9e2f);\n",
       "        \n",
       "    \n",
       "        var popup_7a12a29ebaf997a2936a32202faa70f8 = L.popup({&quot;maxWidth&quot;: &quot;100%&quot;});\n",
       "\n",
       "        \n",
       "            \n",
       "                var html_09961d49c2bbea86047d2cb1100f4617 = $(`&lt;div id=&quot;html_09961d49c2bbea86047d2cb1100f4617&quot; style=&quot;width: 100.0%; height: 100.0%;&quot;&gt;&lt;a href=&quot;https://sebastianzug.github.io/RoBiMo_Trop_DataSet/html/iranduba.html&quot; onclick=&quot;window.open(&#x27;https://sebastianzug.github.io/RoBiMo_Trop_DataSet/html/iranduba.html&#x27;, &#x27;_blank&#x27;).focus();&quot;&gt;Zoom to Iranduba&lt;/a&gt;&lt;/div&gt;`)[0];\n",
       "                popup_7a12a29ebaf997a2936a32202faa70f8.setContent(html_09961d49c2bbea86047d2cb1100f4617);\n",
       "            \n",
       "        \n",
       "\n",
       "        circle_marker_275ab446e2fce07afa9457d4aeef1a5f.bindPopup(popup_7a12a29ebaf997a2936a32202faa70f8)\n",
       "        ;\n",
       "\n",
       "        \n",
       "    \n",
       "    \n",
       "            circle_marker_275ab446e2fce07afa9457d4aeef1a5f.bindTooltip(\n",
       "                `&lt;div&gt;\n",
       "                     Click to zoom to Iranduba\n",
       "                 &lt;/div&gt;`,\n",
       "                {&quot;sticky&quot;: true}\n",
       "            );\n",
       "        \n",
       "    \n",
       "            tile_layer_654961560e4e556835c0754705d1d3ec.addTo(map_182599f65faa49de98e43b14c21e9e2f);\n",
       "        \n",
       "    \n",
       "            tile_layer_3d7d15d9caafa0dae2e2b53987c6bb29.addTo(map_182599f65faa49de98e43b14c21e9e2f);\n",
       "        \n",
       "&lt;/script&gt;\n",
       "&lt;/html&gt;\" style=\"position:absolute;width:100%;height:100%;left:0;top:0;border:none !important;\" allowfullscreen webkitallowfullscreen mozallowfullscreen></iframe></div></div>"
      ],
      "text/plain": [
       "<folium.folium.Map at 0x7f7a9ff51d50>"
      ]
     },
     "execution_count": 6,
     "metadata": {},
     "output_type": "execute_result"
    }
   ],
   "source": [
    "map = folium.Map(location = [df_results.lat_est.mean(),  \n",
    "                            df_results.lon_est.mean()], \n",
    "                            attr=\"Stamen Terrain\",\n",
    "                            tiles='Stamen Terrain', zoom_start = 8)\n",
    "\n",
    "basemaps = {\n",
    "    'Google Maps': folium.TileLayer(\n",
    "        tiles = 'https://mt1.google.com/vt/lyrs=m&x={x}&y={y}&z={z}',\n",
    "        attr = 'Google',\n",
    "        name = 'Google Maps',\n",
    "        overlay = True,\n",
    "        control = True\n",
    "    ),\n",
    "    'Google Satellite': folium.TileLayer(\n",
    "        tiles = 'https://mt1.google.com/vt/lyrs=s&x={x}&y={y}&z={z}',\n",
    "        attr = 'Google',\n",
    "        name = 'Google Satellite',\n",
    "        overlay = True,\n",
    "        control = True\n",
    "    ),\n",
    "    'Google Terrain': folium.TileLayer(\n",
    "        tiles = 'https://mt1.google.com/vt/lyrs=p&x={x}&y={y}&z={z}',\n",
    "        attr = 'Google',\n",
    "        name = 'Google Terrain',\n",
    "        overlay = True,\n",
    "        control = True\n",
    "    ),\n",
    "    'Google Satellite Hybrid': folium.TileLayer(\n",
    "        tiles = 'https://mt1.google.com/vt/lyrs=y&x={x}&y={y}&z={z}',\n",
    "        attr = 'Google',\n",
    "        name = 'Google Satellite',\n",
    "        overlay = True,\n",
    "        control = True\n",
    "    ),\n",
    "    'Esri Satellite': folium.TileLayer(\n",
    "        tiles = 'https://server.arcgisonline.com/ArcGIS/rest/services/World_Imagery/MapServer/tile/{z}/{y}/{x}',\n",
    "        attr = 'Esri',\n",
    "        name = 'Esri Satellite',\n",
    "        overlay = True,\n",
    "        control = True\n",
    "    )\n",
    "}\n",
    "\n",
    "basemaps['Google Satellite Hybrid'].add_to(map)\n",
    "\n",
    "for key in centroids:\n",
    "    map.add_child(folium.CircleMarker(location = [centroids[key][0][0],\n",
    "                                                  centroids[key][0][1]],\n",
    "                                    color = 'red',\n",
    "                                    tooltip= f\"Click to zoom to {key}\",\n",
    "                                    popup=f\"<a href=\\\"https://sebastianzug.github.io/RoBiMo_Trop_DataSet/html/{key.lower()}.html\\\" onclick=\\\"window.open('https://sebastianzug.github.io/RoBiMo_Trop_DataSet/html/{key.lower()}.html', '_blank').focus();\\\">Zoom to {key}</a>\",\n",
    "                                    radius = 10, fill=True))\n",
    "\n",
    "filename = \"index.html\"\n",
    "html_folder = Path(\"../html/\")\n",
    "html_file = Path.cwd() / html_folder / Path(filename)\n",
    "map.save(html_file)\n",
    "\n",
    "map\n"
   ]
  },
  {
   "cell_type": "code",
   "execution_count": null,
   "id": "0525b772",
   "metadata": {
    "papermill": {
     "duration": 0.00197,
     "end_time": "2024-02-05T12:16:01.622282",
     "exception": false,
     "start_time": "2024-02-05T12:16:01.620312",
     "status": "completed"
    },
    "tags": []
   },
   "outputs": [],
   "source": []
  }
 ],
 "metadata": {
  "kernelspec": {
   "display_name": "data_aggregation-u0vYvf-n",
   "language": "python",
   "name": "python3"
  },
  "language_info": {
   "codemirror_mode": {
    "name": "ipython",
    "version": 3
   },
   "file_extension": ".py",
   "mimetype": "text/x-python",
   "name": "python",
   "nbconvert_exporter": "python",
   "pygments_lexer": "ipython3",
   "version": "3.10.12"
  },
  "papermill": {
   "default_parameters": {},
   "duration": 1.677292,
   "end_time": "2024-02-05T12:16:01.940052",
   "environment_variables": {},
   "exception": null,
   "input_path": "/home/sebastian/Nextcloud/Projekte/2021_DAAD_Brasilien/2023/RoBiMo_Trop_DataSet/notebooks/91_Plot_campaign_overview.ipynb",
   "output_path": "/home/sebastian/Nextcloud/Projekte/2021_DAAD_Brasilien/2023/RoBiMo_Trop_DataSet/notebooks/tmp/91_Plot_campaign_overview_run.ipynb",
   "parameters": {},
   "start_time": "2024-02-05T12:16:00.262760",
   "version": "2.5.0"
  },
  "vscode": {
   "interpreter": {
    "hash": "663fac0a39ac9194e8834fa6e9a25f288f03c4df1f699cfd9b5c433c7915905d"
   }
  }
 },
 "nbformat": 4,
 "nbformat_minor": 5
}