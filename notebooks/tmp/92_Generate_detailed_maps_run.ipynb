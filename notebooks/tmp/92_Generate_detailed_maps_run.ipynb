{
 "cells": [
  {
   "attachments": {},
   "cell_type": "markdown",
   "id": "d63e5ee4",
   "metadata": {
    "papermill": {
     "duration": 0.001679,
     "end_time": "2023-05-12T04:10:51.246204",
     "exception": false,
     "start_time": "2023-05-12T04:10:51.244525",
     "status": "completed"
    },
    "tags": []
   },
   "source": [
    "## Visualization of Robot missions"
   ]
  },
  {
   "cell_type": "code",
   "execution_count": 1,
   "id": "72269af3",
   "metadata": {
    "execution": {
     "iopub.execute_input": "2023-05-12T04:10:51.258175Z",
     "iopub.status.busy": "2023-05-12T04:10:51.257862Z",
     "iopub.status.idle": "2023-05-12T04:10:52.064617Z",
     "shell.execute_reply": "2023-05-12T04:10:52.064106Z"
    },
    "papermill": {
     "duration": 0.81078,
     "end_time": "2023-05-12T04:10:52.066091",
     "exception": false,
     "start_time": "2023-05-12T04:10:51.255311",
     "status": "completed"
    },
    "tags": []
   },
   "outputs": [],
   "source": [
    "from pathlib import Path\n",
    "import pandas as pd\n",
    "import contextily as cx\n",
    "import folium\n",
    "import branca.colormap as cm\n",
    "import pickle"
   ]
  },
  {
   "cell_type": "code",
   "execution_count": 2,
   "id": "be7acade",
   "metadata": {
    "execution": {
     "iopub.execute_input": "2023-05-12T04:10:52.071402Z",
     "iopub.status.busy": "2023-05-12T04:10:52.070489Z",
     "iopub.status.idle": "2023-05-12T04:10:52.075319Z",
     "shell.execute_reply": "2023-05-12T04:10:52.074757Z"
    },
    "papermill": {
     "duration": 0.008402,
     "end_time": "2023-05-12T04:10:52.076311",
     "exception": false,
     "start_time": "2023-05-12T04:10:52.067909",
     "status": "completed"
    },
    "tags": []
   },
   "outputs": [
    {
     "name": "stdout",
     "output_type": "stream",
     "text": [
      "Reading raw pandas files from \n",
      "    /home/sebastian/Nextcloud/Projekte/2021_DAAD_Brasilien/2023/RoBiMo_Trop_DataSet/notebooks/../results\n",
      "Writing website information to \n",
      "    ../html\n"
     ]
    }
   ],
   "source": [
    "input_data_folder_base = Path(\"../results/\")\n",
    "input_data_folder = Path.cwd() / input_data_folder_base\n",
    "overall_collection_file_name = \"overall_collection_2023.p\"\n",
    "key_parameter_file_name = \"key_parameter_2023.p\"\n",
    "cluster_positions_file_name = \"cluster_positions_2023.p\"\n",
    "print(f\"Reading raw pandas files from \\n    {input_data_folder}\")\n",
    "\n",
    "output_folder_base = Path(\"../html/\")\n",
    "output_image_folder = output_folder_base / Path(\"./images/\")\n",
    "print(f\"Writing website information to \\n    {output_folder_base}\")"
   ]
  },
  {
   "cell_type": "code",
   "execution_count": 3,
   "id": "eb02631c",
   "metadata": {
    "execution": {
     "iopub.execute_input": "2023-05-12T04:10:52.082048Z",
     "iopub.status.busy": "2023-05-12T04:10:52.081704Z",
     "iopub.status.idle": "2023-05-12T04:10:52.122609Z",
     "shell.execute_reply": "2023-05-12T04:10:52.122205Z"
    },
    "papermill": {
     "duration": 0.045287,
     "end_time": "2023-05-12T04:10:52.123753",
     "exception": false,
     "start_time": "2023-05-12T04:10:52.078466",
     "status": "completed"
    },
    "tags": []
   },
   "outputs": [
    {
     "data": {
      "text/html": [
       "<div>\n",
       "<style scoped>\n",
       "    .dataframe tbody tr th:only-of-type {\n",
       "        vertical-align: middle;\n",
       "    }\n",
       "\n",
       "    .dataframe tbody tr th {\n",
       "        vertical-align: top;\n",
       "    }\n",
       "\n",
       "    .dataframe thead th {\n",
       "        text-align: right;\n",
       "    }\n",
       "</style>\n",
       "<table border=\"1\" class=\"dataframe\">\n",
       "  <thead>\n",
       "    <tr style=\"text-align: right;\">\n",
       "      <th></th>\n",
       "      <th>lat_est</th>\n",
       "      <th>lon_est</th>\n",
       "      <th>yaw_est</th>\n",
       "      <th>hdop</th>\n",
       "      <th>nsats</th>\n",
       "      <th>lat_meas</th>\n",
       "      <th>lon_meas</th>\n",
       "      <th>depth</th>\n",
       "      <th>experiment_location</th>\n",
       "      <th>meas_running</th>\n",
       "      <th>...</th>\n",
       "      <th>CO2(ppm)</th>\n",
       "      <th>airtemp in(degreeC)</th>\n",
       "      <th>humidity in(rH)</th>\n",
       "      <th>pressure in(mbar)</th>\n",
       "      <th>airtemp out(degreeC)</th>\n",
       "      <th>humidity out(rH)</th>\n",
       "      <th>pressure out(mbar)</th>\n",
       "      <th>PAR(umol m-2s-1)</th>\n",
       "      <th>H2O temp(degreeC)</th>\n",
       "      <th>position</th>\n",
       "    </tr>\n",
       "    <tr>\n",
       "      <th>datetime_AMT</th>\n",
       "      <th></th>\n",
       "      <th></th>\n",
       "      <th></th>\n",
       "      <th></th>\n",
       "      <th></th>\n",
       "      <th></th>\n",
       "      <th></th>\n",
       "      <th></th>\n",
       "      <th></th>\n",
       "      <th></th>\n",
       "      <th></th>\n",
       "      <th></th>\n",
       "      <th></th>\n",
       "      <th></th>\n",
       "      <th></th>\n",
       "      <th></th>\n",
       "      <th></th>\n",
       "      <th></th>\n",
       "      <th></th>\n",
       "      <th></th>\n",
       "      <th></th>\n",
       "    </tr>\n",
       "  </thead>\n",
       "  <tbody>\n",
       "    <tr>\n",
       "      <th>2023-03-04 20:00:00</th>\n",
       "      <td>-3.290738</td>\n",
       "      <td>-60.164893</td>\n",
       "      <td>111.314</td>\n",
       "      <td>2.59</td>\n",
       "      <td>6.0</td>\n",
       "      <td>-3.290751</td>\n",
       "      <td>-60.164883</td>\n",
       "      <td>7.617662</td>\n",
       "      <td>Iranduba</td>\n",
       "      <td>False</td>\n",
       "      <td>...</td>\n",
       "      <td>NaN</td>\n",
       "      <td>NaN</td>\n",
       "      <td>NaN</td>\n",
       "      <td>NaN</td>\n",
       "      <td>NaN</td>\n",
       "      <td>NaN</td>\n",
       "      <td>NaN</td>\n",
       "      <td>NaN</td>\n",
       "      <td>NaN</td>\n",
       "      <td>NaN</td>\n",
       "    </tr>\n",
       "    <tr>\n",
       "      <th>2023-03-11 18:30:37</th>\n",
       "      <td>-3.290886</td>\n",
       "      <td>-60.165142</td>\n",
       "      <td>162.084</td>\n",
       "      <td>0.83</td>\n",
       "      <td>15.0</td>\n",
       "      <td>-3.290886</td>\n",
       "      <td>-60.165141</td>\n",
       "      <td>5.512197</td>\n",
       "      <td>Iranduba</td>\n",
       "      <td>False</td>\n",
       "      <td>...</td>\n",
       "      <td>NaN</td>\n",
       "      <td>NaN</td>\n",
       "      <td>NaN</td>\n",
       "      <td>NaN</td>\n",
       "      <td>NaN</td>\n",
       "      <td>NaN</td>\n",
       "      <td>NaN</td>\n",
       "      <td>NaN</td>\n",
       "      <td>NaN</td>\n",
       "      <td>NaN</td>\n",
       "    </tr>\n",
       "    <tr>\n",
       "      <th>2023-03-11 18:30:38</th>\n",
       "      <td>-3.290886</td>\n",
       "      <td>-60.165140</td>\n",
       "      <td>172.000</td>\n",
       "      <td>0.78</td>\n",
       "      <td>17.0</td>\n",
       "      <td>-3.290886</td>\n",
       "      <td>-60.165140</td>\n",
       "      <td>5.475826</td>\n",
       "      <td>Iranduba</td>\n",
       "      <td>False</td>\n",
       "      <td>...</td>\n",
       "      <td>NaN</td>\n",
       "      <td>NaN</td>\n",
       "      <td>NaN</td>\n",
       "      <td>NaN</td>\n",
       "      <td>NaN</td>\n",
       "      <td>NaN</td>\n",
       "      <td>NaN</td>\n",
       "      <td>NaN</td>\n",
       "      <td>NaN</td>\n",
       "      <td>NaN</td>\n",
       "    </tr>\n",
       "  </tbody>\n",
       "</table>\n",
       "<p>3 rows × 21 columns</p>\n",
       "</div>"
      ],
      "text/plain": [
       "                      lat_est    lon_est  yaw_est  hdop  nsats  lat_meas  \\\n",
       "datetime_AMT                                                               \n",
       "2023-03-04 20:00:00 -3.290738 -60.164893  111.314  2.59    6.0 -3.290751   \n",
       "2023-03-11 18:30:37 -3.290886 -60.165142  162.084  0.83   15.0 -3.290886   \n",
       "2023-03-11 18:30:38 -3.290886 -60.165140  172.000  0.78   17.0 -3.290886   \n",
       "\n",
       "                      lon_meas     depth experiment_location  meas_running  \\\n",
       "datetime_AMT                                                                 \n",
       "2023-03-04 20:00:00 -60.164883  7.617662            Iranduba         False   \n",
       "2023-03-11 18:30:37 -60.165141  5.512197            Iranduba         False   \n",
       "2023-03-11 18:30:38 -60.165140  5.475826            Iranduba         False   \n",
       "\n",
       "                     ... CO2(ppm)  airtemp in(degreeC)  humidity in(rH)  \\\n",
       "datetime_AMT         ...                                                  \n",
       "2023-03-04 20:00:00  ...      NaN                  NaN              NaN   \n",
       "2023-03-11 18:30:37  ...      NaN                  NaN              NaN   \n",
       "2023-03-11 18:30:38  ...      NaN                  NaN              NaN   \n",
       "\n",
       "                     pressure in(mbar)  airtemp out(degreeC)  \\\n",
       "datetime_AMT                                                   \n",
       "2023-03-04 20:00:00                NaN                   NaN   \n",
       "2023-03-11 18:30:37                NaN                   NaN   \n",
       "2023-03-11 18:30:38                NaN                   NaN   \n",
       "\n",
       "                     humidity out(rH)  pressure out(mbar)  PAR(umol m-2s-1)  \\\n",
       "datetime_AMT                                                                  \n",
       "2023-03-04 20:00:00               NaN                 NaN               NaN   \n",
       "2023-03-11 18:30:37               NaN                 NaN               NaN   \n",
       "2023-03-11 18:30:38               NaN                 NaN               NaN   \n",
       "\n",
       "                     H2O temp(degreeC)  position  \n",
       "datetime_AMT                                      \n",
       "2023-03-04 20:00:00                NaN       NaN  \n",
       "2023-03-11 18:30:37                NaN       NaN  \n",
       "2023-03-11 18:30:38                NaN       NaN  \n",
       "\n",
       "[3 rows x 21 columns]"
      ]
     },
     "execution_count": 3,
     "metadata": {},
     "output_type": "execute_result"
    }
   ],
   "source": [
    "df_results = pd.read_pickle(input_data_folder / overall_collection_file_name)\n",
    "df_results.head(3)\n"
   ]
  },
  {
   "cell_type": "code",
   "execution_count": 4,
   "id": "887f6fb5",
   "metadata": {
    "execution": {
     "iopub.execute_input": "2023-05-12T04:10:52.128408Z",
     "iopub.status.busy": "2023-05-12T04:10:52.127919Z",
     "iopub.status.idle": "2023-05-12T04:10:52.133081Z",
     "shell.execute_reply": "2023-05-12T04:10:52.132637Z"
    },
    "papermill": {
     "duration": 0.008917,
     "end_time": "2023-05-12T04:10:52.134193",
     "exception": false,
     "start_time": "2023-05-12T04:10:52.125276",
     "status": "completed"
    },
    "tags": []
   },
   "outputs": [
    {
     "data": {
      "text/plain": [
       "{'Balbina': array([[ -1.90938492, -59.46105017],\n",
       "        [ -1.90498015, -59.46979682],\n",
       "        [ -1.90367786, -59.46055068]]),\n",
       " 'Jandira': array([[ -3.23378505, -60.24179794],\n",
       "        [ -3.2354515 , -60.2408596 ],\n",
       "        [ -3.23674311, -60.24114295],\n",
       "        [ -3.2338013 , -60.24178698]]),\n",
       " 'Caldeirao': array([[ -3.25665423, -60.21853891],\n",
       "        [ -3.24645146, -60.21718762],\n",
       "        [ -3.25525976, -60.21942943],\n",
       "        [ -3.25408879, -60.21902   ],\n",
       "        [ -3.2460189 , -60.21627407],\n",
       "        [ -3.25595593, -60.21851002]]),\n",
       " 'Iranduba': array([[ -3.29182389, -60.1638196 ],\n",
       "        [ -3.29371632, -60.16349051],\n",
       "        [ -3.29146567, -60.16393856],\n",
       "        [ -3.29160827, -60.16397365]])}"
      ]
     },
     "execution_count": 4,
     "metadata": {},
     "output_type": "execute_result"
    }
   ],
   "source": [
    "cluster_position_file = input_data_folder / Path(cluster_positions_file_name)\n",
    "\n",
    "with open(cluster_position_file, 'rb') as fp:\n",
    "    centroids = pickle.load(fp)\n",
    "\n",
    "centroids"
   ]
  },
  {
   "cell_type": "code",
   "execution_count": 5,
   "id": "f59cae0f",
   "metadata": {
    "execution": {
     "iopub.execute_input": "2023-05-12T04:10:52.138330Z",
     "iopub.status.busy": "2023-05-12T04:10:52.138079Z",
     "iopub.status.idle": "2023-05-12T04:10:52.142642Z",
     "shell.execute_reply": "2023-05-12T04:10:52.142201Z"
    },
    "papermill": {
     "duration": 0.007886,
     "end_time": "2023-05-12T04:10:52.143735",
     "exception": false,
     "start_time": "2023-05-12T04:10:52.135849",
     "status": "completed"
    },
    "tags": []
   },
   "outputs": [],
   "source": [
    "basemaps = {\n",
    "    'Google Maps': folium.TileLayer(\n",
    "        tiles = 'https://mt1.google.com/vt/lyrs=m&x={x}&y={y}&z={z}',\n",
    "        attr = 'Google',\n",
    "        name = 'Google Maps',\n",
    "        overlay = True,\n",
    "        control = True\n",
    "    ),\n",
    "    'Google Satellite': folium.TileLayer(\n",
    "        tiles = 'https://mt1.google.com/vt/lyrs=s&x={x}&y={y}&z={z}',\n",
    "        attr = 'Google',\n",
    "        name = 'Google Satellite',\n",
    "        overlay = True,\n",
    "        control = True\n",
    "    ),\n",
    "    'Google Terrain': folium.TileLayer(\n",
    "        tiles = 'https://mt1.google.com/vt/lyrs=p&x={x}&y={y}&z={z}',\n",
    "        attr = 'Google',\n",
    "        name = 'Google Terrain',\n",
    "        overlay = True,\n",
    "        control = True\n",
    "    ),\n",
    "    'Google Satellite Hybrid': folium.TileLayer(\n",
    "        tiles = 'https://mt1.google.com/vt/lyrs=y&x={x}&y={y}&z={z}',\n",
    "        attr = 'Google',\n",
    "        name = 'Google Satellite',\n",
    "        overlay = True,\n",
    "        control = True\n",
    "    ),\n",
    "    'Esri Satellite': folium.TileLayer(\n",
    "        tiles = 'https://server.arcgisonline.com/ArcGIS/rest/services/World_Imagery/MapServer/tile/{z}/{y}/{x}',\n",
    "        attr = 'Esri',\n",
    "        name = 'Esri Satellite',\n",
    "        overlay = True,\n",
    "        control = True\n",
    "    )\n",
    "}"
   ]
  },
  {
   "cell_type": "code",
   "execution_count": 6,
   "id": "83c11c79",
   "metadata": {
    "execution": {
     "iopub.execute_input": "2023-05-12T04:10:52.149240Z",
     "iopub.status.busy": "2023-05-12T04:10:52.148818Z",
     "iopub.status.idle": "2023-05-12T04:12:29.399010Z",
     "shell.execute_reply": "2023-05-12T04:12:29.398237Z"
    },
    "papermill": {
     "duration": 97.25503,
     "end_time": "2023-05-12T04:12:29.400995",
     "exception": false,
     "start_time": "2023-05-12T04:10:52.145965",
     "status": "completed"
    },
    "tags": []
   },
   "outputs": [
    {
     "name": "stdout",
     "output_type": "stream",
     "text": [
      "Iranduba ...\n",
      "    ... providing key data for tables\n",
      "    ... generating map background\n"
     ]
    },
    {
     "name": "stdout",
     "output_type": "stream",
     "text": [
      "    ... providing interactive elements\n",
      "    ... saving to \n",
      "        /home/sebastian/Nextcloud/Projekte/2021_DAAD_Brasilien/2023/RoBiMo_Trop_DataSet/notebooks/../html/iranduba.html\n"
     ]
    },
    {
     "name": "stdout",
     "output_type": "stream",
     "text": [
      "Balbina ...\n",
      "    ... providing key data for tables\n",
      "    ... generating map background\n"
     ]
    },
    {
     "name": "stdout",
     "output_type": "stream",
     "text": [
      "    ... providing interactive elements\n",
      "    ... saving to \n",
      "        /home/sebastian/Nextcloud/Projekte/2021_DAAD_Brasilien/2023/RoBiMo_Trop_DataSet/notebooks/../html/balbina.html\n"
     ]
    },
    {
     "name": "stdout",
     "output_type": "stream",
     "text": [
      "Jandira ...\n",
      "    ... providing key data for tables\n",
      "    ... generating map background\n"
     ]
    },
    {
     "name": "stdout",
     "output_type": "stream",
     "text": [
      "    ... providing interactive elements\n",
      "    ... saving to \n",
      "        /home/sebastian/Nextcloud/Projekte/2021_DAAD_Brasilien/2023/RoBiMo_Trop_DataSet/notebooks/../html/jandira.html\n"
     ]
    },
    {
     "name": "stdout",
     "output_type": "stream",
     "text": [
      "Caldeirao ...\n",
      "    ... providing key data for tables\n",
      "    ... generating map background\n"
     ]
    },
    {
     "name": "stdout",
     "output_type": "stream",
     "text": [
      "    ... providing interactive elements\n",
      "    ... saving to \n",
      "        /home/sebastian/Nextcloud/Projekte/2021_DAAD_Brasilien/2023/RoBiMo_Trop_DataSet/notebooks/../html/caldeirao.html\n"
     ]
    }
   ],
   "source": [
    "for location_name in df_results.experiment_location.unique():\n",
    "\n",
    "    print(f\"{location_name} ...\")\n",
    "    df_sep_pos = df_results[(df_results.experiment_location == location_name)]\n",
    "\n",
    "    print(f\"    ... providing key data for tables\")\n",
    "    df_key_param = df_sep_pos[df_sep_pos.meas_running].reset_index()\\\n",
    "            .groupby('corresponding_meas_file')\\\n",
    "                .agg(start=('datetime_AMT', 'min'),\n",
    "                     end=('datetime_AMT', 'max'),\n",
    "                     experiment_location = ('experiment_location', 'first'),\n",
    "                     position = ('position', 'first'),\n",
    "                     lat_est_mean=('lat_est', 'mean'),\n",
    "                     lon_est_mean=('lon_est', 'mean'),\n",
    "                     CO2_min=('CO2(ppm)', 'min'),\n",
    "                     CO2_max=('CO2(ppm)', 'max'),\n",
    "                     humidity_in_mean=('humidity in(rH)', 'mean'),\n",
    "                     humidity_out_mean=('humidity out(rH)', 'mean'),\n",
    "                     airtemp_in_mean=('airtemp in(degreeC)', 'mean'),\n",
    "                     PAR_in_mean=('PAR(umol m-2s-1)', 'mean'),\n",
    "                     airtemp_out_mean=('airtemp out(degreeC)', 'mean'))\\\n",
    "            .sort_values(by=['position', 'start'])\n",
    "    \n",
    "    print(f\"    ... generating map background\")\n",
    "    map = folium.Map(location = [df_sep_pos.lat_est.median(),  \n",
    "                                 df_sep_pos.lon_est.median()], \n",
    "                                 tiles='Stamen Terrain', zoom_start = 16, max_zoom=23)\n",
    "\n",
    "    basemaps['Google Satellite Hybrid'].add_to(map)\n",
    "\n",
    "    for index, row in df_sep_pos.iterrows():\n",
    "        map.add_child(folium.CircleMarker(location = [row['lat_est'],row['lon_est']],\n",
    "                                        color = 'gray',\n",
    "                                        radius = 1, fill=True))\n",
    "        \n",
    "    for index, row in df_sep_pos[df_sep_pos.meas_running].iterrows():\n",
    "        map.add_child(folium.CircleMarker(location = [row['lat_est'],row['lon_est']],\n",
    "                                        color = 'red',\n",
    "                                        radius = 1, fill=True))\n",
    "\n",
    "    table_params = ['start', 'CO2_min', 'CO2_max', 'airtemp_in_mean', 'PAR_in_mean', 'position']\n",
    "\n",
    "    print(f\"    ... providing interactive elements\")\n",
    "    for index, location_cords in enumerate(centroids[location_name]):\n",
    "\n",
    "        html_data = df_key_param[df_key_param.position== index][table_params]\\\n",
    "                        .reset_index()\\\n",
    "                        .sort_values(by=['position', 'start'])\\\n",
    "                        .to_html(classes='table table-stripped', \n",
    "                                index=False, float_format=\"%.2f\")\n",
    "        html = folium.Html(\n",
    "            f\"\"\"\n",
    "            <!DOCTYPE html>\n",
    "            <html>\n",
    "            <h5 align=\"center\" style=\"color:black\"><strong><u>Position {index} {location_name}</u><strong>\n",
    "            </h5> \n",
    "            {html_data}\n",
    "            <img src=\"./images/{location_name}_Positions_{index}.png\" alt=\"HTML5 Icon\" style=\"width:500px;height:500px;\"> \n",
    "            </html>\n",
    "            \"\"\", \n",
    "            script=True)\n",
    "\n",
    "        popup  = folium.Popup(html, max_width=1000, max_height=1000)\n",
    "        folium.vector_layers.Marker(location=[location_cords[0], location_cords[1]], \n",
    "                                    tooltip=f'Position {index}', popup = popup).add_to(map)\n",
    "\n",
    "    map\n",
    "\n",
    "    filename = f\"{location_name.lower()}.html\"\n",
    "    html_folder = Path(\"../html/\")\n",
    "    html_file = Path.cwd() / html_folder / Path(filename)  \n",
    "    print(f\"    ... saving to \\n        {html_file}\")\n",
    "        \n",
    "    map.save(html_file)\n"
   ]
  },
  {
   "cell_type": "code",
   "execution_count": null,
   "id": "f20b0359",
   "metadata": {
    "papermill": {
     "duration": 0.002781,
     "end_time": "2023-05-12T04:12:29.406665",
     "exception": false,
     "start_time": "2023-05-12T04:12:29.403884",
     "status": "completed"
    },
    "tags": []
   },
   "outputs": [],
   "source": []
  }
 ],
 "metadata": {
  "kernelspec": {
   "display_name": "data_aggregation-u0vYvf-n",
   "language": "python",
   "name": "python3"
  },
  "language_info": {
   "codemirror_mode": {
    "name": "ipython",
    "version": 3
   },
   "file_extension": ".py",
   "mimetype": "text/x-python",
   "name": "python",
   "nbconvert_exporter": "python",
   "pygments_lexer": "ipython3",
   "version": "3.10.6"
  },
  "papermill": {
   "default_parameters": {},
   "duration": 100.207379,
   "end_time": "2023-05-12T04:12:30.630671",
   "environment_variables": {},
   "exception": null,
   "input_path": "/home/sebastian/Nextcloud/Projekte/2021_DAAD_Brasilien/2023/RoBiMo_Trop_DataSet/notebooks/92_Generate_detailed_maps.ipynb",
   "output_path": "/home/sebastian/Nextcloud/Projekte/2021_DAAD_Brasilien/2023/RoBiMo_Trop_DataSet/notebooks/tmp/92_Generate_detailed_maps_run.ipynb",
   "parameters": {},
   "start_time": "2023-05-12T04:10:50.423292",
   "version": "2.4.0"
  },
  "vscode": {
   "interpreter": {
    "hash": "663fac0a39ac9194e8834fa6e9a25f288f03c4df1f699cfd9b5c433c7915905d"
   }
  }
 },
 "nbformat": 4,
 "nbformat_minor": 5
}